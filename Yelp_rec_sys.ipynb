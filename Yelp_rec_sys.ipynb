{
 "cells": [
  {
   "cell_type": "markdown",
   "metadata": {},
   "source": [
    "# Yelp Recommender System\n",
    "\n",
    "### Background Information: \n",
    "##### This project is based upon the Yelp Challenge and utilizes the data provided from the challenge itself. To read more about the Yelp Challenge, click [here](https://www.yelp.com/dataset/challenge).\n",
    "\n",
    "### From the Yelp Website: Round 13\n",
    "##### Our dataset has been updated for this iteration of the challenge - we’re sure there are plenty of interesting insights waiting there for you. This set includes information about local businesses in 10 metropolitan areas across 2 countries. Round 13 has kicked off starting January 15, 2019 and will run through December 31, 2019. \n",
    "\n",
    "##### 4,700,000 eviews\n",
    "##### 156,000 businesses\n",
    "##### 200,000 pictures\n",
    "##### 12 metropolitan areas\n",
    "\n",
    "### Goal: \n",
    "##### This recommender system will provide insight from current users to recommend restaurants to both new and current users. An example of a question being explored could be: \"What is the best steakhouse to recommend to a user?\" In this project, the client is Yelp and the model itself could provide a core build for other industries as well.\n",
    "\n",
    "### UPDATE\n",
    "##### Changed the goal of the project due to time and computational constraints. Original direction of the project can be shown in this code below. Can also see where the change occurred."
   ]
  },
  {
   "cell_type": "code",
   "execution_count": 885,
   "metadata": {},
   "outputs": [],
   "source": [
    "# import necessary packages\n",
    "\n",
    "import pandas as pd\n",
    "import numpy as np\n",
    "import requests\n",
    "import json\n",
    "import argparse\n",
    "import collections\n",
    "import csv\n",
    "from glob import glob\n",
    "import simplejson as json\n",
    "import matplotlib.pyplot as plt\n",
    "import time\n",
    "import seaborn as sns\n",
    "import gc\n",
    "\n",
    "from sklearn.model_selection import train_test_split\n",
    "from scipy.sparse import csc_matrix\n",
    "from sklearn import tree\n",
    "\n",
    "\n",
    "start_time = time.time()\n",
    "\n",
    "%matplotlib inline\n",
    "plt.style.use('fivethirtyeight')\n",
    "plt.rcParams[\"figure.figsize\"] = (12, 8)"
   ]
  },
  {
   "cell_type": "markdown",
   "metadata": {},
   "source": [
    "### The Data\n",
    "##### The data from Yelp was downloaded as a TAR file. We extracted the files from this TAR file and resulted in a series of JSON files: business, checkin, photo, review, and user. Pandas' read_json function worked on some files but resulted in an error on certain files."
   ]
  },
  {
   "cell_type": "code",
   "execution_count": 886,
   "metadata": {},
   "outputs": [],
   "source": [
    "# commented out to save computational power and time since this was just used to convert the json files to csv.\n",
    "\n",
    "#!/usr/bin/env python\n",
    "# -*- coding: utf-8 -*-\n",
    "#start_time = time.time()\n",
    "\n",
    "#def convert(x):\n",
    "#    ''' Convert a json string to a flat python dictionary\n",
    "#    which can be passed into Pandas. '''\n",
    "#    ob = json.loads(x)\n",
    "#    for k, v in ob.copy().items():\n",
    "#        if isinstance(v, list):\n",
    "#            ob[k] = ','.join(str(v))\n",
    "#        elif isinstance(v, dict):\n",
    "#            for kk, vv in v.items():\n",
    "#                ob['%s_%s' % (k, kk)] = vv\n",
    "#            del ob[k]\n",
    "#    return ob\n",
    "\n",
    "#for json_filename in glob('*.json'):\n",
    "#    csv_filename = '%s.csv' % json_filename[:-len('.json')]\n",
    "#    print('Converting %s to %s' % (json_filename, csv_filename))\n",
    "#    df = pd.DataFrame([convert(line) for line in open(json_filename, encoding = 'ut f8')])\n",
    "#    df.to_csv(csv_filename, encoding = 'utf8', index = False)\n",
    "    \n",
    "#print(\"This took\", time.time() - start_time, \"seconds to run.\")"
   ]
  },
  {
   "cell_type": "markdown",
   "metadata": {},
   "source": [
    "#### Let's take a quick look at our data to identify what will be most important to keep moving forward."
   ]
  },
  {
   "cell_type": "code",
   "execution_count": 887,
   "metadata": {},
   "outputs": [
    {
     "name": "stdout",
     "output_type": "stream",
     "text": [
      "This took 2.6842968463897705 seconds to run.\n"
     ]
    }
   ],
   "source": [
    "# Lets take a quick look at the data\n",
    "\n",
    "business = pd.read_csv('business.csv', low_memory = False)\n",
    "print(\"This took\", time.time() - start_time, \"seconds to run.\")"
   ]
  },
  {
   "cell_type": "code",
   "execution_count": 888,
   "metadata": {},
   "outputs": [
    {
     "name": "stdout",
     "output_type": "stream",
     "text": [
      "Columns in business data file are:\n",
      "address\n",
      "attributes\n",
      "attributes_AcceptsInsurance\n",
      "attributes_AgesAllowed\n",
      "attributes_Alcohol\n",
      "attributes_Ambience\n",
      "attributes_BYOB\n",
      "attributes_BYOBCorkage\n",
      "attributes_BestNights\n",
      "attributes_BikeParking\n",
      "attributes_BusinessAcceptsBitcoin\n",
      "attributes_BusinessAcceptsCreditCards\n",
      "attributes_BusinessParking\n",
      "attributes_ByAppointmentOnly\n",
      "attributes_Caters\n",
      "attributes_CoatCheck\n",
      "attributes_Corkage\n",
      "attributes_DietaryRestrictions\n",
      "attributes_DogsAllowed\n",
      "attributes_DriveThru\n",
      "attributes_GoodForDancing\n",
      "attributes_GoodForKids\n",
      "attributes_GoodForMeal\n",
      "attributes_HairSpecializesIn\n",
      "attributes_HappyHour\n",
      "attributes_HasTV\n",
      "attributes_Music\n",
      "attributes_NoiseLevel\n",
      "attributes_Open24Hours\n",
      "attributes_OutdoorSeating\n",
      "attributes_RestaurantsAttire\n",
      "attributes_RestaurantsCounterService\n",
      "attributes_RestaurantsDelivery\n",
      "attributes_RestaurantsGoodForGroups\n",
      "attributes_RestaurantsPriceRange2\n",
      "attributes_RestaurantsReservations\n",
      "attributes_RestaurantsTableService\n",
      "attributes_RestaurantsTakeOut\n",
      "attributes_Smoking\n",
      "attributes_WheelchairAccessible\n",
      "attributes_WiFi\n",
      "business_id\n",
      "categories\n",
      "city\n",
      "hours\n",
      "hours_Friday\n",
      "hours_Monday\n",
      "hours_Saturday\n",
      "hours_Sunday\n",
      "hours_Thursday\n",
      "hours_Tuesday\n",
      "hours_Wednesday\n",
      "is_open\n",
      "latitude\n",
      "longitude\n",
      "name\n",
      "postal_code\n",
      "review_count\n",
      "stars\n",
      "state\n"
     ]
    }
   ],
   "source": [
    "print(\"Columns in business data file are:\")\n",
    "for i in business.columns:\n",
    "    print(i)"
   ]
  },
  {
   "cell_type": "code",
   "execution_count": 889,
   "metadata": {},
   "outputs": [
    {
     "name": "stdout",
     "output_type": "stream",
     "text": [
      "This took 34.91071915626526 seconds to run.\n"
     ]
    }
   ],
   "source": [
    "# Lets load in our user data\n",
    "\n",
    "user = pd.read_csv('user.csv', low_memory = False)\n",
    "print(\"This took\", time.time() - start_time, \"seconds to run.\")"
   ]
  },
  {
   "cell_type": "code",
   "execution_count": 890,
   "metadata": {},
   "outputs": [
    {
     "name": "stdout",
     "output_type": "stream",
     "text": [
      "Columns in user data file are:\n",
      "average_stars\n",
      "compliment_cool\n",
      "compliment_cute\n",
      "compliment_funny\n",
      "compliment_hot\n",
      "compliment_list\n",
      "compliment_more\n",
      "compliment_note\n",
      "compliment_photos\n",
      "compliment_plain\n",
      "compliment_profile\n",
      "compliment_writer\n",
      "cool\n",
      "elite\n",
      "fans\n",
      "friends\n",
      "funny\n",
      "name\n",
      "review_count\n",
      "useful\n",
      "user_id\n",
      "yelping_since\n"
     ]
    }
   ],
   "source": [
    "print(\"Columns in user data file are:\")\n",
    "for i in user.columns:\n",
    "    print(i)"
   ]
  },
  {
   "cell_type": "code",
   "execution_count": 891,
   "metadata": {},
   "outputs": [
    {
     "name": "stdout",
     "output_type": "stream",
     "text": [
      "This took 38.16516613960266 seconds to run.\n"
     ]
    }
   ],
   "source": [
    "# This initially was setup to load in the reviews dataset.\n",
    "# However, the dataset is massive and both computationally and time conusming to run and load.\n",
    "# For this project, we're going to focus on just data from the state of Arizona.\n",
    "\n",
    "# Initially, this ran using the below code:\n",
    "# reviews = pd.read_csv('reviews.csv', low_memory = False)\n",
    "\n",
    "# I created a new csv file already for the Arizona reviews and that is what will be called and used moving forward.\n",
    "\n",
    "\n",
    "reviews = pd.read_csv('reviews_az.csv', low_memory = False)\n",
    "print(\"This took\", time.time() - start_time, \"seconds to run.\")"
   ]
  },
  {
   "cell_type": "code",
   "execution_count": 892,
   "metadata": {},
   "outputs": [
    {
     "data": {
      "text/html": [
       "<div>\n",
       "<style scoped>\n",
       "    .dataframe tbody tr th:only-of-type {\n",
       "        vertical-align: middle;\n",
       "    }\n",
       "\n",
       "    .dataframe tbody tr th {\n",
       "        vertical-align: top;\n",
       "    }\n",
       "\n",
       "    .dataframe thead th {\n",
       "        text-align: right;\n",
       "    }\n",
       "</style>\n",
       "<table border=\"1\" class=\"dataframe\">\n",
       "  <thead>\n",
       "    <tr style=\"text-align: right;\">\n",
       "      <th></th>\n",
       "      <th>business_id</th>\n",
       "      <th>cool</th>\n",
       "      <th>date</th>\n",
       "      <th>funny</th>\n",
       "      <th>review_id</th>\n",
       "      <th>stars</th>\n",
       "      <th>text</th>\n",
       "      <th>useful</th>\n",
       "      <th>user_id</th>\n",
       "    </tr>\n",
       "  </thead>\n",
       "  <tbody>\n",
       "    <tr>\n",
       "      <th>0</th>\n",
       "      <td>qx6WhZ42eDKmBchZDax4dQ</td>\n",
       "      <td>0</td>\n",
       "      <td>2017-03-27 01:14:37</td>\n",
       "      <td>0.0</td>\n",
       "      <td>Amo5gZBvCuPc_tZNpHwtsA</td>\n",
       "      <td>5.0</td>\n",
       "      <td>Our family LOVES the food here. Quick, friendl...</td>\n",
       "      <td>1.0</td>\n",
       "      <td>DzZ7piLBF-WsJxqosfJgtA</td>\n",
       "    </tr>\n",
       "    <tr>\n",
       "      <th>1</th>\n",
       "      <td>EIL41z-hvVCeYHqfA9PyWQ</td>\n",
       "      <td>1</td>\n",
       "      <td>2017-09-20 15:23:35</td>\n",
       "      <td>0.0</td>\n",
       "      <td>vzMkIQm34QWBCYaHdV-2mQ</td>\n",
       "      <td>5.0</td>\n",
       "      <td>Flat out fantastic!  Have been here twice and ...</td>\n",
       "      <td>1.0</td>\n",
       "      <td>jAVtSgE5L-Dt6_I5FIiVGA</td>\n",
       "    </tr>\n",
       "    <tr>\n",
       "      <th>2</th>\n",
       "      <td>vhIJ91MDgUuk4Cr9Kpj1Nw</td>\n",
       "      <td>0</td>\n",
       "      <td>2015-07-16 05:40:33</td>\n",
       "      <td>0.0</td>\n",
       "      <td>p9U8-Bj9tFBqHa-wgaDKJg</td>\n",
       "      <td>1.0</td>\n",
       "      <td>Dreadful Service\\r\\r\\r\\n\\r\\r\\r\\nI've had Jimmy...</td>\n",
       "      <td>2.0</td>\n",
       "      <td>1BcNXW9_Y16TIofPVpFqIA</td>\n",
       "    </tr>\n",
       "    <tr>\n",
       "      <th>3</th>\n",
       "      <td>xS5HGqgk0KY2jFWU-l_nrA</td>\n",
       "      <td>0</td>\n",
       "      <td>2018-09-25 03:54:06</td>\n",
       "      <td>0.0</td>\n",
       "      <td>RKGH2ZQHyBNgJwQ84lKMFg</td>\n",
       "      <td>4.0</td>\n",
       "      <td>I'm not that familiar with Scottsdale so I'm j...</td>\n",
       "      <td>0.0</td>\n",
       "      <td>pHKISjytTmP0LrP952_32w</td>\n",
       "    </tr>\n",
       "    <tr>\n",
       "      <th>4</th>\n",
       "      <td>qaPSbg690KaX5av6xsSV4Q</td>\n",
       "      <td>0</td>\n",
       "      <td>2013-05-28 20:38:13</td>\n",
       "      <td>0.0</td>\n",
       "      <td>IWinoppaEcMt5DrreAUR0Q</td>\n",
       "      <td>1.0</td>\n",
       "      <td>I have no idea what the owner's problem is, bu...</td>\n",
       "      <td>4.0</td>\n",
       "      <td>U2sN2-HGvh27FyXKFlvkBg</td>\n",
       "    </tr>\n",
       "  </tbody>\n",
       "</table>\n",
       "</div>"
      ],
      "text/plain": [
       "              business_id  cool                 date  funny  \\\n",
       "0  qx6WhZ42eDKmBchZDax4dQ     0  2017-03-27 01:14:37    0.0   \n",
       "1  EIL41z-hvVCeYHqfA9PyWQ     1  2017-09-20 15:23:35    0.0   \n",
       "2  vhIJ91MDgUuk4Cr9Kpj1Nw     0  2015-07-16 05:40:33    0.0   \n",
       "3  xS5HGqgk0KY2jFWU-l_nrA     0  2018-09-25 03:54:06    0.0   \n",
       "4  qaPSbg690KaX5av6xsSV4Q     0  2013-05-28 20:38:13    0.0   \n",
       "\n",
       "                review_id  stars  \\\n",
       "0  Amo5gZBvCuPc_tZNpHwtsA    5.0   \n",
       "1  vzMkIQm34QWBCYaHdV-2mQ    5.0   \n",
       "2  p9U8-Bj9tFBqHa-wgaDKJg    1.0   \n",
       "3  RKGH2ZQHyBNgJwQ84lKMFg    4.0   \n",
       "4  IWinoppaEcMt5DrreAUR0Q    1.0   \n",
       "\n",
       "                                                text  useful  \\\n",
       "0  Our family LOVES the food here. Quick, friendl...     1.0   \n",
       "1  Flat out fantastic!  Have been here twice and ...     1.0   \n",
       "2  Dreadful Service\\r\\r\\r\\n\\r\\r\\r\\nI've had Jimmy...     2.0   \n",
       "3  I'm not that familiar with Scottsdale so I'm j...     0.0   \n",
       "4  I have no idea what the owner's problem is, bu...     4.0   \n",
       "\n",
       "                  user_id  \n",
       "0  DzZ7piLBF-WsJxqosfJgtA  \n",
       "1  jAVtSgE5L-Dt6_I5FIiVGA  \n",
       "2  1BcNXW9_Y16TIofPVpFqIA  \n",
       "3  pHKISjytTmP0LrP952_32w  \n",
       "4  U2sN2-HGvh27FyXKFlvkBg  "
      ]
     },
     "execution_count": 892,
     "metadata": {},
     "output_type": "execute_result"
    }
   ],
   "source": [
    "# this file is very large. to make processing easier moving forward, we're going to work with just AZ restaurant reviews. \n",
    "# this removal process will take place below\n",
    "\n",
    "reviews.head()"
   ]
  },
  {
   "cell_type": "code",
   "execution_count": 893,
   "metadata": {},
   "outputs": [
    {
     "name": "stdout",
     "output_type": "stream",
     "text": [
      "Columns in review data file are:\n",
      "business_id\n",
      "cool\n",
      "date\n",
      "funny\n",
      "review_id\n",
      "stars\n",
      "text\n",
      "useful\n",
      "user_id\n"
     ]
    }
   ],
   "source": [
    "print(\"Columns in review data file are:\")\n",
    "for i in reviews.columns:\n",
    "    print(i)"
   ]
  },
  {
   "cell_type": "markdown",
   "metadata": {},
   "source": [
    "#### Lets begin cleaning the data "
   ]
  },
  {
   "cell_type": "code",
   "execution_count": 894,
   "metadata": {},
   "outputs": [],
   "source": [
    "# Begin with dropping data where business_id or user_id is null\n",
    "\n",
    "business.dropna(subset = ['business_id'], how = 'any', inplace = True)\n",
    "reviews.dropna(subset = ['business_id', 'user_id'], how = 'any', inplace = True)\n",
    "user.dropna(subset = ['user_id'], how = 'any', inplace = True)"
   ]
  },
  {
   "cell_type": "markdown",
   "metadata": {},
   "source": [
    "#### We want to be working with restaurant related data for our project, so lets remove unneeded data using the categories feature from 'business'"
   ]
  },
  {
   "cell_type": "code",
   "execution_count": 895,
   "metadata": {},
   "outputs": [
    {
     "data": {
      "text/plain": [
       "21311"
      ]
     },
     "execution_count": 895,
     "metadata": {},
     "output_type": "execute_result"
    }
   ],
   "source": [
    "rest = business['categories'].str.contains('Restaurants')\n",
    "food = business['categories'].str.contains('Food')\n",
    "bus_df = business[rest & food]\n",
    "# number of businesses that have food and restaurant in their category\n",
    "bus_df['categories'].count()"
   ]
  },
  {
   "cell_type": "markdown",
   "metadata": {},
   "source": [
    "#### To make things run smoother from a computational standpoint, we're going to look at just Arizona restaurants."
   ]
  },
  {
   "cell_type": "code",
   "execution_count": 896,
   "metadata": {},
   "outputs": [
    {
     "data": {
      "text/html": [
       "<div>\n",
       "<style scoped>\n",
       "    .dataframe tbody tr th:only-of-type {\n",
       "        vertical-align: middle;\n",
       "    }\n",
       "\n",
       "    .dataframe tbody tr th {\n",
       "        vertical-align: top;\n",
       "    }\n",
       "\n",
       "    .dataframe thead th {\n",
       "        text-align: right;\n",
       "    }\n",
       "</style>\n",
       "<table border=\"1\" class=\"dataframe\">\n",
       "  <thead>\n",
       "    <tr style=\"text-align: right;\">\n",
       "      <th></th>\n",
       "      <th>address</th>\n",
       "      <th>attributes</th>\n",
       "      <th>attributes_AcceptsInsurance</th>\n",
       "      <th>attributes_AgesAllowed</th>\n",
       "      <th>attributes_Alcohol</th>\n",
       "      <th>attributes_Ambience</th>\n",
       "      <th>attributes_BYOB</th>\n",
       "      <th>attributes_BYOBCorkage</th>\n",
       "      <th>attributes_BestNights</th>\n",
       "      <th>attributes_BikeParking</th>\n",
       "      <th>...</th>\n",
       "      <th>hours_Tuesday</th>\n",
       "      <th>hours_Wednesday</th>\n",
       "      <th>is_open</th>\n",
       "      <th>latitude</th>\n",
       "      <th>longitude</th>\n",
       "      <th>name</th>\n",
       "      <th>postal_code</th>\n",
       "      <th>review_count</th>\n",
       "      <th>stars</th>\n",
       "      <th>state</th>\n",
       "    </tr>\n",
       "  </thead>\n",
       "  <tbody>\n",
       "    <tr>\n",
       "      <th>11</th>\n",
       "      <td>2450 E Indian School Rd</td>\n",
       "      <td>NaN</td>\n",
       "      <td>NaN</td>\n",
       "      <td>NaN</td>\n",
       "      <td>u'none'</td>\n",
       "      <td>{'romantic': False, 'intimate': False, 'touris...</td>\n",
       "      <td>NaN</td>\n",
       "      <td>NaN</td>\n",
       "      <td>NaN</td>\n",
       "      <td>NaN</td>\n",
       "      <td>...</td>\n",
       "      <td>7:0-0:0</td>\n",
       "      <td>7:0-0:0</td>\n",
       "      <td>1</td>\n",
       "      <td>33.495194</td>\n",
       "      <td>-112.028588</td>\n",
       "      <td>Taco Bell</td>\n",
       "      <td>85016</td>\n",
       "      <td>18</td>\n",
       "      <td>3.0</td>\n",
       "      <td>AZ</td>\n",
       "    </tr>\n",
       "    <tr>\n",
       "      <th>133</th>\n",
       "      <td>1789 W Jefferson</td>\n",
       "      <td>NaN</td>\n",
       "      <td>NaN</td>\n",
       "      <td>NaN</td>\n",
       "      <td>'none'</td>\n",
       "      <td>{'romantic': False, 'intimate': False, 'classy...</td>\n",
       "      <td>NaN</td>\n",
       "      <td>NaN</td>\n",
       "      <td>NaN</td>\n",
       "      <td>True</td>\n",
       "      <td>...</td>\n",
       "      <td>NaN</td>\n",
       "      <td>NaN</td>\n",
       "      <td>1</td>\n",
       "      <td>33.446805</td>\n",
       "      <td>-112.097129</td>\n",
       "      <td>Vals Getaway DES Cafeteria</td>\n",
       "      <td>85007</td>\n",
       "      <td>14</td>\n",
       "      <td>3.0</td>\n",
       "      <td>AZ</td>\n",
       "    </tr>\n",
       "    <tr>\n",
       "      <th>298</th>\n",
       "      <td>2340 E Baseline Rd</td>\n",
       "      <td>NaN</td>\n",
       "      <td>NaN</td>\n",
       "      <td>NaN</td>\n",
       "      <td>u'none'</td>\n",
       "      <td>{'touristy': False, 'hipster': False, 'romanti...</td>\n",
       "      <td>NaN</td>\n",
       "      <td>NaN</td>\n",
       "      <td>NaN</td>\n",
       "      <td>True</td>\n",
       "      <td>...</td>\n",
       "      <td>11:0-22:0</td>\n",
       "      <td>11:0-22:0</td>\n",
       "      <td>1</td>\n",
       "      <td>33.378699</td>\n",
       "      <td>-112.031013</td>\n",
       "      <td>Five Guys</td>\n",
       "      <td>85042</td>\n",
       "      <td>23</td>\n",
       "      <td>3.5</td>\n",
       "      <td>AZ</td>\n",
       "    </tr>\n",
       "    <tr>\n",
       "      <th>302</th>\n",
       "      <td>2835 N 16th St, Ste 103</td>\n",
       "      <td>NaN</td>\n",
       "      <td>NaN</td>\n",
       "      <td>NaN</td>\n",
       "      <td>u'none'</td>\n",
       "      <td>{'touristy': False, 'hipster': False, 'romanti...</td>\n",
       "      <td>NaN</td>\n",
       "      <td>NaN</td>\n",
       "      <td>NaN</td>\n",
       "      <td>True</td>\n",
       "      <td>...</td>\n",
       "      <td>NaN</td>\n",
       "      <td>NaN</td>\n",
       "      <td>1</td>\n",
       "      <td>33.479506</td>\n",
       "      <td>-112.046931</td>\n",
       "      <td>Pizza Hut</td>\n",
       "      <td>85006</td>\n",
       "      <td>14</td>\n",
       "      <td>2.0</td>\n",
       "      <td>AZ</td>\n",
       "    </tr>\n",
       "    <tr>\n",
       "      <th>363</th>\n",
       "      <td>8465 W Grand Ave</td>\n",
       "      <td>NaN</td>\n",
       "      <td>NaN</td>\n",
       "      <td>NaN</td>\n",
       "      <td>NaN</td>\n",
       "      <td>NaN</td>\n",
       "      <td>NaN</td>\n",
       "      <td>NaN</td>\n",
       "      <td>NaN</td>\n",
       "      <td>NaN</td>\n",
       "      <td>...</td>\n",
       "      <td>NaN</td>\n",
       "      <td>NaN</td>\n",
       "      <td>0</td>\n",
       "      <td>33.578880</td>\n",
       "      <td>-112.235004</td>\n",
       "      <td>Church's Chicken</td>\n",
       "      <td>85345</td>\n",
       "      <td>3</td>\n",
       "      <td>2.0</td>\n",
       "      <td>AZ</td>\n",
       "    </tr>\n",
       "  </tbody>\n",
       "</table>\n",
       "<p>5 rows × 60 columns</p>\n",
       "</div>"
      ],
      "text/plain": [
       "                     address  attributes attributes_AcceptsInsurance  \\\n",
       "11   2450 E Indian School Rd         NaN                         NaN   \n",
       "133         1789 W Jefferson         NaN                         NaN   \n",
       "298       2340 E Baseline Rd         NaN                         NaN   \n",
       "302  2835 N 16th St, Ste 103         NaN                         NaN   \n",
       "363         8465 W Grand Ave         NaN                         NaN   \n",
       "\n",
       "    attributes_AgesAllowed attributes_Alcohol  \\\n",
       "11                     NaN            u'none'   \n",
       "133                    NaN             'none'   \n",
       "298                    NaN            u'none'   \n",
       "302                    NaN            u'none'   \n",
       "363                    NaN                NaN   \n",
       "\n",
       "                                   attributes_Ambience attributes_BYOB  \\\n",
       "11   {'romantic': False, 'intimate': False, 'touris...             NaN   \n",
       "133  {'romantic': False, 'intimate': False, 'classy...             NaN   \n",
       "298  {'touristy': False, 'hipster': False, 'romanti...             NaN   \n",
       "302  {'touristy': False, 'hipster': False, 'romanti...             NaN   \n",
       "363                                                NaN             NaN   \n",
       "\n",
       "    attributes_BYOBCorkage attributes_BestNights attributes_BikeParking  ...   \\\n",
       "11                     NaN                   NaN                    NaN  ...    \n",
       "133                    NaN                   NaN                   True  ...    \n",
       "298                    NaN                   NaN                   True  ...    \n",
       "302                    NaN                   NaN                   True  ...    \n",
       "363                    NaN                   NaN                    NaN  ...    \n",
       "\n",
       "    hours_Tuesday hours_Wednesday is_open   latitude   longitude  \\\n",
       "11        7:0-0:0         7:0-0:0       1  33.495194 -112.028588   \n",
       "133           NaN             NaN       1  33.446805 -112.097129   \n",
       "298     11:0-22:0       11:0-22:0       1  33.378699 -112.031013   \n",
       "302           NaN             NaN       1  33.479506 -112.046931   \n",
       "363           NaN             NaN       0  33.578880 -112.235004   \n",
       "\n",
       "                           name postal_code review_count stars state  \n",
       "11                    Taco Bell       85016           18   3.0    AZ  \n",
       "133  Vals Getaway DES Cafeteria       85007           14   3.0    AZ  \n",
       "298                   Five Guys       85042           23   3.5    AZ  \n",
       "302                   Pizza Hut       85006           14   2.0    AZ  \n",
       "363            Church's Chicken       85345            3   2.0    AZ  \n",
       "\n",
       "[5 rows x 60 columns]"
      ]
     },
     "execution_count": 896,
     "metadata": {},
     "output_type": "execute_result"
    }
   ],
   "source": [
    "bus_df = bus_df[bus_df['state'].str.contains('AZ')]\n",
    "bus_df.head()"
   ]
  },
  {
   "cell_type": "code",
   "execution_count": 897,
   "metadata": {},
   "outputs": [],
   "source": [
    "bus_ids = bus_df['business_id']"
   ]
  },
  {
   "cell_type": "code",
   "execution_count": 898,
   "metadata": {},
   "outputs": [],
   "source": [
    "review = reviews[reviews.business_id.isin(bus_ids)]"
   ]
  },
  {
   "cell_type": "code",
   "execution_count": 899,
   "metadata": {},
   "outputs": [
    {
     "name": "stdout",
     "output_type": "stream",
     "text": [
      "The minimum amount of reviews per user is 2\n"
     ]
    }
   ],
   "source": [
    "# Only keep user_id data that have more than one review\n",
    "\n",
    "review = review[review.groupby('user_id').user_id.transform(len) > 1]\n",
    "# let's verify this worked by taking the minimum amount of user_id counts\n",
    "print('The minimum amount of reviews per user is {}'.format(np.min(review.groupby('user_id')['business_id'].count())))"
   ]
  },
  {
   "cell_type": "code",
   "execution_count": 900,
   "metadata": {},
   "outputs": [
    {
     "data": {
      "text/html": [
       "<div>\n",
       "<style scoped>\n",
       "    .dataframe tbody tr th:only-of-type {\n",
       "        vertical-align: middle;\n",
       "    }\n",
       "\n",
       "    .dataframe tbody tr th {\n",
       "        vertical-align: top;\n",
       "    }\n",
       "\n",
       "    .dataframe thead th {\n",
       "        text-align: right;\n",
       "    }\n",
       "</style>\n",
       "<table border=\"1\" class=\"dataframe\">\n",
       "  <thead>\n",
       "    <tr style=\"text-align: right;\">\n",
       "      <th></th>\n",
       "      <th>business_id</th>\n",
       "      <th>cool</th>\n",
       "      <th>date</th>\n",
       "      <th>funny</th>\n",
       "      <th>review_id</th>\n",
       "      <th>stars</th>\n",
       "      <th>text</th>\n",
       "      <th>useful</th>\n",
       "      <th>user_id</th>\n",
       "    </tr>\n",
       "  </thead>\n",
       "  <tbody>\n",
       "    <tr>\n",
       "      <th>0</th>\n",
       "      <td>qx6WhZ42eDKmBchZDax4dQ</td>\n",
       "      <td>0</td>\n",
       "      <td>2017-03-27 01:14:37</td>\n",
       "      <td>0.0</td>\n",
       "      <td>Amo5gZBvCuPc_tZNpHwtsA</td>\n",
       "      <td>5.0</td>\n",
       "      <td>Our family LOVES the food here. Quick, friendl...</td>\n",
       "      <td>1.0</td>\n",
       "      <td>DzZ7piLBF-WsJxqosfJgtA</td>\n",
       "    </tr>\n",
       "    <tr>\n",
       "      <th>1</th>\n",
       "      <td>EIL41z-hvVCeYHqfA9PyWQ</td>\n",
       "      <td>1</td>\n",
       "      <td>2017-09-20 15:23:35</td>\n",
       "      <td>0.0</td>\n",
       "      <td>vzMkIQm34QWBCYaHdV-2mQ</td>\n",
       "      <td>5.0</td>\n",
       "      <td>Flat out fantastic!  Have been here twice and ...</td>\n",
       "      <td>1.0</td>\n",
       "      <td>jAVtSgE5L-Dt6_I5FIiVGA</td>\n",
       "    </tr>\n",
       "    <tr>\n",
       "      <th>2</th>\n",
       "      <td>vhIJ91MDgUuk4Cr9Kpj1Nw</td>\n",
       "      <td>0</td>\n",
       "      <td>2015-07-16 05:40:33</td>\n",
       "      <td>0.0</td>\n",
       "      <td>p9U8-Bj9tFBqHa-wgaDKJg</td>\n",
       "      <td>1.0</td>\n",
       "      <td>Dreadful Service\\r\\r\\r\\n\\r\\r\\r\\nI've had Jimmy...</td>\n",
       "      <td>2.0</td>\n",
       "      <td>1BcNXW9_Y16TIofPVpFqIA</td>\n",
       "    </tr>\n",
       "    <tr>\n",
       "      <th>3</th>\n",
       "      <td>xS5HGqgk0KY2jFWU-l_nrA</td>\n",
       "      <td>0</td>\n",
       "      <td>2018-09-25 03:54:06</td>\n",
       "      <td>0.0</td>\n",
       "      <td>RKGH2ZQHyBNgJwQ84lKMFg</td>\n",
       "      <td>4.0</td>\n",
       "      <td>I'm not that familiar with Scottsdale so I'm j...</td>\n",
       "      <td>0.0</td>\n",
       "      <td>pHKISjytTmP0LrP952_32w</td>\n",
       "    </tr>\n",
       "    <tr>\n",
       "      <th>4</th>\n",
       "      <td>qaPSbg690KaX5av6xsSV4Q</td>\n",
       "      <td>0</td>\n",
       "      <td>2013-05-28 20:38:13</td>\n",
       "      <td>0.0</td>\n",
       "      <td>IWinoppaEcMt5DrreAUR0Q</td>\n",
       "      <td>1.0</td>\n",
       "      <td>I have no idea what the owner's problem is, bu...</td>\n",
       "      <td>4.0</td>\n",
       "      <td>U2sN2-HGvh27FyXKFlvkBg</td>\n",
       "    </tr>\n",
       "  </tbody>\n",
       "</table>\n",
       "</div>"
      ],
      "text/plain": [
       "              business_id  cool                 date  funny  \\\n",
       "0  qx6WhZ42eDKmBchZDax4dQ     0  2017-03-27 01:14:37    0.0   \n",
       "1  EIL41z-hvVCeYHqfA9PyWQ     1  2017-09-20 15:23:35    0.0   \n",
       "2  vhIJ91MDgUuk4Cr9Kpj1Nw     0  2015-07-16 05:40:33    0.0   \n",
       "3  xS5HGqgk0KY2jFWU-l_nrA     0  2018-09-25 03:54:06    0.0   \n",
       "4  qaPSbg690KaX5av6xsSV4Q     0  2013-05-28 20:38:13    0.0   \n",
       "\n",
       "                review_id  stars  \\\n",
       "0  Amo5gZBvCuPc_tZNpHwtsA    5.0   \n",
       "1  vzMkIQm34QWBCYaHdV-2mQ    5.0   \n",
       "2  p9U8-Bj9tFBqHa-wgaDKJg    1.0   \n",
       "3  RKGH2ZQHyBNgJwQ84lKMFg    4.0   \n",
       "4  IWinoppaEcMt5DrreAUR0Q    1.0   \n",
       "\n",
       "                                                text  useful  \\\n",
       "0  Our family LOVES the food here. Quick, friendl...     1.0   \n",
       "1  Flat out fantastic!  Have been here twice and ...     1.0   \n",
       "2  Dreadful Service\\r\\r\\r\\n\\r\\r\\r\\nI've had Jimmy...     2.0   \n",
       "3  I'm not that familiar with Scottsdale so I'm j...     0.0   \n",
       "4  I have no idea what the owner's problem is, bu...     4.0   \n",
       "\n",
       "                  user_id  \n",
       "0  DzZ7piLBF-WsJxqosfJgtA  \n",
       "1  jAVtSgE5L-Dt6_I5FIiVGA  \n",
       "2  1BcNXW9_Y16TIofPVpFqIA  \n",
       "3  pHKISjytTmP0LrP952_32w  \n",
       "4  U2sN2-HGvh27FyXKFlvkBg  "
      ]
     },
     "execution_count": 900,
     "metadata": {},
     "output_type": "execute_result"
    }
   ],
   "source": [
    "del reviews\n",
    "review.head()"
   ]
  },
  {
   "cell_type": "code",
   "execution_count": 901,
   "metadata": {},
   "outputs": [
    {
     "data": {
      "text/plain": [
       "11     Restaurants, Breakfast & Brunch, Mexican, Taco...\n",
       "133                             Restaurants, Food, Cafes\n",
       "298                Fast Food, Restaurants, Burgers, Food\n",
       "302    Restaurants, Italian, Pizza, Fast Food, Chicke...\n",
       "363                Restaurants, Fast Food, Chicken Wings\n",
       "367    Food, Beer, Wine & Spirits, Restaurants, Barbe...\n",
       "381    Food, Sandwiches, Restaurants, Soup, Bakeries,...\n",
       "415                   Sandwiches, Fast Food, Restaurants\n",
       "468    Specialty Food, Food, Bars, Italian, Nightlife...\n",
       "514    Cafes, Beer, Wine & Spirits, Halal, Fast Food,...\n",
       "Name: categories, dtype: object"
      ]
     },
     "execution_count": 901,
     "metadata": {},
     "output_type": "execute_result"
    }
   ],
   "source": [
    "bus_df.head(10)['categories']"
   ]
  },
  {
   "cell_type": "code",
   "execution_count": 902,
   "metadata": {},
   "outputs": [
    {
     "data": {
      "text/plain": [
       "['Restaurants',\n",
       " 'Breakfast & Brunch',\n",
       " 'Mexican',\n",
       " 'Tacos',\n",
       " 'Tex-Mex',\n",
       " 'Fast Food',\n",
       " 'Restaurants',\n",
       " 'Food',\n",
       " 'Cafes',\n",
       " 'Fast Food']"
      ]
     },
     "execution_count": 902,
     "metadata": {},
     "output_type": "execute_result"
    }
   ],
   "source": [
    "categories = ', '.join(list(bus_df['categories'].unique()))\n",
    "categories = categories.split(', ')\n",
    "categories[:10]"
   ]
  },
  {
   "cell_type": "code",
   "execution_count": 903,
   "metadata": {},
   "outputs": [
    {
     "data": {
      "text/plain": [
       "[('Restaurants', 3391),\n",
       " ('Food', 2759),\n",
       " ('Fast Food', 912),\n",
       " ('Sandwiches', 675),\n",
       " ('Coffee & Tea', 579),\n",
       " ('Breakfast & Brunch', 563),\n",
       " ('American (Traditional)', 495),\n",
       " ('American (New)', 414),\n",
       " ('Burgers', 411),\n",
       " ('Nightlife', 409),\n",
       " ('Bars', 383),\n",
       " ('Mexican', 357),\n",
       " ('Specialty Food', 343),\n",
       " ('Desserts', 334),\n",
       " ('Bakeries', 325),\n",
       " ('Pizza', 312),\n",
       " ('Event Planning & Services', 282),\n",
       " ('Cafes', 277),\n",
       " ('Salad', 266),\n",
       " ('Beer', 263),\n",
       " ('Wine & Spirits', 263),\n",
       " ('Ice Cream & Frozen Yogurt', 263),\n",
       " ('Delis', 263),\n",
       " ('Caterers', 237),\n",
       " ('Juice Bars & Smoothies', 223),\n",
       " ('Italian', 212),\n",
       " ('Chicken Wings', 202),\n",
       " ('Food Trucks', 178),\n",
       " ('Food Delivery Services', 152),\n",
       " ('Seafood', 131),\n",
       " ('Ethnic Food', 117),\n",
       " ('Gluten-Free', 117),\n",
       " ('Vegetarian', 107),\n",
       " ('Grocery', 101),\n",
       " ('Asian Fusion', 100),\n",
       " ('Chinese', 97),\n",
       " ('Barbeque', 96),\n",
       " ('Comfort Food', 94),\n",
       " ('Mediterranean', 93),\n",
       " ('Bagels', 91),\n",
       " ('Hot Dogs', 91),\n",
       " ('Vegan', 88),\n",
       " ('Sports Bars', 85),\n",
       " ('Wine Bars', 79),\n",
       " ('Donuts', 78),\n",
       " ('Japanese', 71),\n",
       " ('Shopping', 69),\n",
       " ('Chicken Shop', 66),\n",
       " ('Arts & Entertainment', 66),\n",
       " ('Soup', 65)]"
      ]
     },
     "execution_count": 903,
     "metadata": {},
     "output_type": "execute_result"
    }
   ],
   "source": [
    "from collections import Counter, defaultdict\n",
    "c = Counter(categories)\n",
    "c.most_common(50)"
   ]
  },
  {
   "cell_type": "markdown",
   "metadata": {},
   "source": [
    "#### Lets identify the most popular cuisines. This will be helpful for future models"
   ]
  },
  {
   "cell_type": "code",
   "execution_count": 904,
   "metadata": {},
   "outputs": [],
   "source": [
    "cuisine = 'American|Chinese|Italian|Japanese|Mexican|Asian Fusion|Thai|Korean|Mediterranean'\n",
    "bus_df['cuisine'] = bus_df['categories'].str.findall(cuisine)"
   ]
  },
  {
   "cell_type": "code",
   "execution_count": 905,
   "metadata": {},
   "outputs": [],
   "source": [
    "bus_df['cuisine'] = bus_df['cuisine'].map(lambda x: list(x))\n",
    "bus_df['cuisine'] = bus_df['cuisine'].map(lambda x: ['Others'] if x == [] else x)"
   ]
  },
  {
   "cell_type": "code",
   "execution_count": 906,
   "metadata": {},
   "outputs": [
    {
     "data": {
      "text/plain": [
       "11                     [Mexican]\n",
       "133                     [Others]\n",
       "298                     [Others]\n",
       "302                    [Italian]\n",
       "363                     [Others]\n",
       "367                   [American]\n",
       "381                     [Others]\n",
       "415                     [Others]\n",
       "468     [Italian, Mediterranean]\n",
       "514                     [Others]\n",
       "544                     [Others]\n",
       "564                   [American]\n",
       "627                     [Others]\n",
       "733                    [Chinese]\n",
       "796                     [Others]\n",
       "809                   [American]\n",
       "811                   [American]\n",
       "913                     [Others]\n",
       "983                    [Mexican]\n",
       "1030                    [Others]\n",
       "Name: cuisine, dtype: object"
      ]
     },
     "execution_count": 906,
     "metadata": {},
     "output_type": "execute_result"
    }
   ],
   "source": [
    "bus_df.cuisine.head(20)"
   ]
  },
  {
   "cell_type": "code",
   "execution_count": 907,
   "metadata": {},
   "outputs": [
    {
     "data": {
      "text/plain": [
       "11                     Mexican\n",
       "133                     Others\n",
       "298                     Others\n",
       "302                    Italian\n",
       "363                     Others\n",
       "367                   American\n",
       "381                     Others\n",
       "415                     Others\n",
       "468     Italian, Mediterranean\n",
       "514                     Others\n",
       "544                     Others\n",
       "564                   American\n",
       "627                     Others\n",
       "733                    Chinese\n",
       "796                     Others\n",
       "809                   American\n",
       "811                   American\n",
       "913                     Others\n",
       "983                    Mexican\n",
       "1030                    Others\n",
       "Name: cuisine, dtype: object"
      ]
     },
     "execution_count": 907,
     "metadata": {},
     "output_type": "execute_result"
    }
   ],
   "source": [
    "# Remove redundant entries\n",
    "\n",
    "bus_df['cuisine'] = bus_df['cuisine'].map(lambda x: list(dict.fromkeys(x)))\n",
    "bus_df['cuisine'] = bus_df['cuisine'].map(', '.join) # convert list of string to string\n",
    "bus_df['cuisine'].head(20)"
   ]
  },
  {
   "cell_type": "code",
   "execution_count": 908,
   "metadata": {},
   "outputs": [
    {
     "data": {
      "text/plain": [
       "array(['Mexican', 'Others', 'Italian', 'American',\n",
       "       'Italian, Mediterranean', 'Chinese', 'Asian Fusion',\n",
       "       'Mediterranean', 'American, Mexican', 'Mexican, American', 'Thai',\n",
       "       'Japanese', 'Japanese, American', 'Asian Fusion, Korean',\n",
       "       'Asian Fusion, Chinese', 'Korean', 'Mediterranean, American',\n",
       "       'Chinese, American, Thai, Asian Fusion', 'American, Mediterranean',\n",
       "       'American, Italian', 'Chinese, Thai', 'Italian, American',\n",
       "       'Chinese, Asian Fusion', 'Mexican, Asian Fusion, American',\n",
       "       'Japanese, Asian Fusion', 'Asian Fusion, Japanese',\n",
       "       'Chinese, Asian Fusion, Japanese',\n",
       "       'American, Italian, Mediterranean',\n",
       "       'Asian Fusion, Chinese, Japanese', 'Thai, Chinese',\n",
       "       'Asian Fusion, Korean, Japanese',\n",
       "       'Asian Fusion, Italian, American', 'Mediterranean, Mexican',\n",
       "       'Asian Fusion, American', 'Mediterranean, Italian',\n",
       "       'Japanese, Korean', 'Korean, Japanese, Chinese, Asian Fusion',\n",
       "       'Korean, Japanese', 'Thai, Asian Fusion, Chinese, Korean',\n",
       "       'Chinese, Italian', 'Japanese, Chinese',\n",
       "       'Italian, Mediterranean, American', 'American, Japanese',\n",
       "       'Chinese, Japanese, Asian Fusion', 'Italian, Mexican',\n",
       "       'American, Mediterranean, Mexican', 'American, Asian Fusion',\n",
       "       'American, Asian Fusion, Japanese', 'Japanese, Mexican',\n",
       "       'Asian Fusion, Thai', 'Asian Fusion, Korean, Thai, Chinese',\n",
       "       'Thai, Asian Fusion, Chinese', 'Italian, Asian Fusion, Japanese',\n",
       "       'Mexican, Asian Fusion', 'Asian Fusion, Japanese, Korean, Chinese',\n",
       "       'Chinese, American', 'Asian Fusion, American, Mexican',\n",
       "       'Asian Fusion, Chinese, Japanese, Italian',\n",
       "       'Mediterranean, Asian Fusion', 'Mexican, Italian, American',\n",
       "       'Asian Fusion, Italian', 'Mexican, Japanese'], dtype=object)"
      ]
     },
     "execution_count": 908,
     "metadata": {},
     "output_type": "execute_result"
    }
   ],
   "source": [
    "bus_df.cuisine.unique()"
   ]
  },
  {
   "cell_type": "code",
   "execution_count": 909,
   "metadata": {},
   "outputs": [
    {
     "name": "stderr",
     "output_type": "stream",
     "text": [
      "D:\\Anaconda\\lib\\site-packages\\pandas\\core\\indexing.py:189: SettingWithCopyWarning: \n",
      "A value is trying to be set on a copy of a slice from a DataFrame\n",
      "\n",
      "See the caveats in the documentation: http://pandas.pydata.org/pandas-docs/stable/indexing.html#indexing-view-versus-copy\n",
      "  self._setitem_with_indexer(indexer, value)\n"
     ]
    }
   ],
   "source": [
    "bus_df['cuisine'].iloc[np.where(bus_df['cuisine'].str.contains('Asian Fusion'))] = 'Asian Fusion'"
   ]
  },
  {
   "cell_type": "code",
   "execution_count": 910,
   "metadata": {},
   "outputs": [
    {
     "data": {
      "text/plain": [
       "array(['Mexican', 'Others', 'Italian', 'American',\n",
       "       'Italian, Mediterranean', 'Chinese', 'Asian Fusion',\n",
       "       'Mediterranean', 'American, Mexican', 'Mexican, American', 'Thai',\n",
       "       'Japanese', 'Japanese, American', 'Korean',\n",
       "       'Mediterranean, American', 'American, Mediterranean',\n",
       "       'American, Italian', 'Chinese, Thai', 'Italian, American',\n",
       "       'American, Italian, Mediterranean', 'Thai, Chinese',\n",
       "       'Mediterranean, Mexican', 'Mediterranean, Italian',\n",
       "       'Japanese, Korean', 'Korean, Japanese', 'Chinese, Italian',\n",
       "       'Japanese, Chinese', 'Italian, Mediterranean, American',\n",
       "       'American, Japanese', 'Italian, Mexican',\n",
       "       'American, Mediterranean, Mexican', 'Japanese, Mexican',\n",
       "       'Chinese, American', 'Mexican, Italian, American',\n",
       "       'Mexican, Japanese'], dtype=object)"
      ]
     },
     "execution_count": 910,
     "metadata": {},
     "output_type": "execute_result"
    }
   ],
   "source": [
    "bus_df.cuisine.unique()"
   ]
  },
  {
   "cell_type": "code",
   "execution_count": 911,
   "metadata": {},
   "outputs": [
    {
     "data": {
      "text/html": [
       "<div>\n",
       "<style scoped>\n",
       "    .dataframe tbody tr th:only-of-type {\n",
       "        vertical-align: middle;\n",
       "    }\n",
       "\n",
       "    .dataframe tbody tr th {\n",
       "        vertical-align: top;\n",
       "    }\n",
       "\n",
       "    .dataframe thead th {\n",
       "        text-align: right;\n",
       "    }\n",
       "</style>\n",
       "<table border=\"1\" class=\"dataframe\">\n",
       "  <thead>\n",
       "    <tr style=\"text-align: right;\">\n",
       "      <th></th>\n",
       "      <th>address</th>\n",
       "      <th>attributes</th>\n",
       "      <th>attributes_AcceptsInsurance</th>\n",
       "      <th>attributes_AgesAllowed</th>\n",
       "      <th>attributes_Alcohol</th>\n",
       "      <th>attributes_Ambience</th>\n",
       "      <th>attributes_BYOB</th>\n",
       "      <th>attributes_BYOBCorkage</th>\n",
       "      <th>attributes_BestNights</th>\n",
       "      <th>attributes_BikeParking</th>\n",
       "      <th>...</th>\n",
       "      <th>hours_Wednesday</th>\n",
       "      <th>is_open</th>\n",
       "      <th>latitude</th>\n",
       "      <th>longitude</th>\n",
       "      <th>name</th>\n",
       "      <th>postal_code</th>\n",
       "      <th>review_count</th>\n",
       "      <th>stars</th>\n",
       "      <th>state</th>\n",
       "      <th>cuisine</th>\n",
       "    </tr>\n",
       "  </thead>\n",
       "  <tbody>\n",
       "    <tr>\n",
       "      <th>1</th>\n",
       "      <td>2450 E Indian School Rd</td>\n",
       "      <td>NaN</td>\n",
       "      <td>NaN</td>\n",
       "      <td>NaN</td>\n",
       "      <td>u'none'</td>\n",
       "      <td>{'romantic': False, 'intimate': False, 'touris...</td>\n",
       "      <td>NaN</td>\n",
       "      <td>NaN</td>\n",
       "      <td>NaN</td>\n",
       "      <td>NaN</td>\n",
       "      <td>...</td>\n",
       "      <td>7:0-0:0</td>\n",
       "      <td>1</td>\n",
       "      <td>33.495194</td>\n",
       "      <td>-112.028588</td>\n",
       "      <td>Taco Bell</td>\n",
       "      <td>85016</td>\n",
       "      <td>18</td>\n",
       "      <td>3.0</td>\n",
       "      <td>AZ</td>\n",
       "      <td>Mexican</td>\n",
       "    </tr>\n",
       "    <tr>\n",
       "      <th>2</th>\n",
       "      <td>1789 W Jefferson</td>\n",
       "      <td>NaN</td>\n",
       "      <td>NaN</td>\n",
       "      <td>NaN</td>\n",
       "      <td>'none'</td>\n",
       "      <td>{'romantic': False, 'intimate': False, 'classy...</td>\n",
       "      <td>NaN</td>\n",
       "      <td>NaN</td>\n",
       "      <td>NaN</td>\n",
       "      <td>True</td>\n",
       "      <td>...</td>\n",
       "      <td>NaN</td>\n",
       "      <td>1</td>\n",
       "      <td>33.446805</td>\n",
       "      <td>-112.097129</td>\n",
       "      <td>Vals Getaway DES Cafeteria</td>\n",
       "      <td>85007</td>\n",
       "      <td>14</td>\n",
       "      <td>3.0</td>\n",
       "      <td>AZ</td>\n",
       "      <td>Others</td>\n",
       "    </tr>\n",
       "    <tr>\n",
       "      <th>3</th>\n",
       "      <td>2340 E Baseline Rd</td>\n",
       "      <td>NaN</td>\n",
       "      <td>NaN</td>\n",
       "      <td>NaN</td>\n",
       "      <td>u'none'</td>\n",
       "      <td>{'touristy': False, 'hipster': False, 'romanti...</td>\n",
       "      <td>NaN</td>\n",
       "      <td>NaN</td>\n",
       "      <td>NaN</td>\n",
       "      <td>True</td>\n",
       "      <td>...</td>\n",
       "      <td>11:0-22:0</td>\n",
       "      <td>1</td>\n",
       "      <td>33.378699</td>\n",
       "      <td>-112.031013</td>\n",
       "      <td>Five Guys</td>\n",
       "      <td>85042</td>\n",
       "      <td>23</td>\n",
       "      <td>3.5</td>\n",
       "      <td>AZ</td>\n",
       "      <td>Others</td>\n",
       "    </tr>\n",
       "    <tr>\n",
       "      <th>4</th>\n",
       "      <td>2835 N 16th St, Ste 103</td>\n",
       "      <td>NaN</td>\n",
       "      <td>NaN</td>\n",
       "      <td>NaN</td>\n",
       "      <td>u'none'</td>\n",
       "      <td>{'touristy': False, 'hipster': False, 'romanti...</td>\n",
       "      <td>NaN</td>\n",
       "      <td>NaN</td>\n",
       "      <td>NaN</td>\n",
       "      <td>True</td>\n",
       "      <td>...</td>\n",
       "      <td>NaN</td>\n",
       "      <td>1</td>\n",
       "      <td>33.479506</td>\n",
       "      <td>-112.046931</td>\n",
       "      <td>Pizza Hut</td>\n",
       "      <td>85006</td>\n",
       "      <td>14</td>\n",
       "      <td>2.0</td>\n",
       "      <td>AZ</td>\n",
       "      <td>Italian</td>\n",
       "    </tr>\n",
       "    <tr>\n",
       "      <th>5</th>\n",
       "      <td>8465 W Grand Ave</td>\n",
       "      <td>NaN</td>\n",
       "      <td>NaN</td>\n",
       "      <td>NaN</td>\n",
       "      <td>NaN</td>\n",
       "      <td>NaN</td>\n",
       "      <td>NaN</td>\n",
       "      <td>NaN</td>\n",
       "      <td>NaN</td>\n",
       "      <td>NaN</td>\n",
       "      <td>...</td>\n",
       "      <td>NaN</td>\n",
       "      <td>0</td>\n",
       "      <td>33.578880</td>\n",
       "      <td>-112.235004</td>\n",
       "      <td>Church's Chicken</td>\n",
       "      <td>85345</td>\n",
       "      <td>3</td>\n",
       "      <td>2.0</td>\n",
       "      <td>AZ</td>\n",
       "      <td>Others</td>\n",
       "    </tr>\n",
       "  </tbody>\n",
       "</table>\n",
       "<p>5 rows × 61 columns</p>\n",
       "</div>"
      ],
      "text/plain": [
       "                   address  attributes attributes_AcceptsInsurance  \\\n",
       "1  2450 E Indian School Rd         NaN                         NaN   \n",
       "2         1789 W Jefferson         NaN                         NaN   \n",
       "3       2340 E Baseline Rd         NaN                         NaN   \n",
       "4  2835 N 16th St, Ste 103         NaN                         NaN   \n",
       "5         8465 W Grand Ave         NaN                         NaN   \n",
       "\n",
       "  attributes_AgesAllowed attributes_Alcohol  \\\n",
       "1                    NaN            u'none'   \n",
       "2                    NaN             'none'   \n",
       "3                    NaN            u'none'   \n",
       "4                    NaN            u'none'   \n",
       "5                    NaN                NaN   \n",
       "\n",
       "                                 attributes_Ambience attributes_BYOB  \\\n",
       "1  {'romantic': False, 'intimate': False, 'touris...             NaN   \n",
       "2  {'romantic': False, 'intimate': False, 'classy...             NaN   \n",
       "3  {'touristy': False, 'hipster': False, 'romanti...             NaN   \n",
       "4  {'touristy': False, 'hipster': False, 'romanti...             NaN   \n",
       "5                                                NaN             NaN   \n",
       "\n",
       "  attributes_BYOBCorkage attributes_BestNights attributes_BikeParking  \\\n",
       "1                    NaN                   NaN                    NaN   \n",
       "2                    NaN                   NaN                   True   \n",
       "3                    NaN                   NaN                   True   \n",
       "4                    NaN                   NaN                   True   \n",
       "5                    NaN                   NaN                    NaN   \n",
       "\n",
       "    ...    hours_Wednesday is_open   latitude   longitude  \\\n",
       "1   ...            7:0-0:0       1  33.495194 -112.028588   \n",
       "2   ...                NaN       1  33.446805 -112.097129   \n",
       "3   ...          11:0-22:0       1  33.378699 -112.031013   \n",
       "4   ...                NaN       1  33.479506 -112.046931   \n",
       "5   ...                NaN       0  33.578880 -112.235004   \n",
       "\n",
       "                         name postal_code review_count stars state  cuisine  \n",
       "1                   Taco Bell       85016           18   3.0    AZ  Mexican  \n",
       "2  Vals Getaway DES Cafeteria       85007           14   3.0    AZ   Others  \n",
       "3                   Five Guys       85042           23   3.5    AZ   Others  \n",
       "4                   Pizza Hut       85006           14   2.0    AZ  Italian  \n",
       "5            Church's Chicken       85345            3   2.0    AZ   Others  \n",
       "\n",
       "[5 rows x 61 columns]"
      ]
     },
     "execution_count": 911,
     "metadata": {},
     "output_type": "execute_result"
    }
   ],
   "source": [
    "bus_df = bus_df.reset_index(drop = True)\n",
    "bus_df.index += 1\n",
    "bus_df.head()"
   ]
  },
  {
   "cell_type": "code",
   "execution_count": 912,
   "metadata": {},
   "outputs": [
    {
     "data": {
      "text/plain": [
       "Index(['address', 'attributes', 'attributes_AcceptsInsurance',\n",
       "       'attributes_AgesAllowed', 'attributes_Alcohol', 'attributes_Ambience',\n",
       "       'attributes_BYOB', 'attributes_BYOBCorkage', 'attributes_BestNights',\n",
       "       'attributes_BikeParking', 'attributes_BusinessAcceptsBitcoin',\n",
       "       'attributes_BusinessAcceptsCreditCards', 'attributes_BusinessParking',\n",
       "       'attributes_ByAppointmentOnly', 'attributes_Caters',\n",
       "       'attributes_CoatCheck', 'attributes_Corkage',\n",
       "       'attributes_DietaryRestrictions', 'attributes_DogsAllowed',\n",
       "       'attributes_DriveThru', 'attributes_GoodForDancing',\n",
       "       'attributes_GoodForKids', 'attributes_GoodForMeal',\n",
       "       'attributes_HairSpecializesIn', 'attributes_HappyHour',\n",
       "       'attributes_HasTV', 'attributes_Music', 'attributes_NoiseLevel',\n",
       "       'attributes_Open24Hours', 'attributes_OutdoorSeating',\n",
       "       'attributes_RestaurantsAttire', 'attributes_RestaurantsCounterService',\n",
       "       'attributes_RestaurantsDelivery', 'attributes_RestaurantsGoodForGroups',\n",
       "       'attributes_RestaurantsPriceRange2',\n",
       "       'attributes_RestaurantsReservations',\n",
       "       'attributes_RestaurantsTableService', 'attributes_RestaurantsTakeOut',\n",
       "       'attributes_Smoking', 'attributes_WheelchairAccessible',\n",
       "       'attributes_WiFi', 'business_id', 'categories', 'city', 'hours',\n",
       "       'hours_Friday', 'hours_Monday', 'hours_Saturday', 'hours_Sunday',\n",
       "       'hours_Thursday', 'hours_Tuesday', 'hours_Wednesday', 'is_open',\n",
       "       'latitude', 'longitude', 'name', 'postal_code', 'review_count', 'stars',\n",
       "       'state', 'cuisine'],\n",
       "      dtype='object')"
      ]
     },
     "execution_count": 912,
     "metadata": {},
     "output_type": "execute_result"
    }
   ],
   "source": [
    "bus_df.columns"
   ]
  },
  {
   "cell_type": "markdown",
   "metadata": {},
   "source": [
    "#### Lets save a csv of the cleaned business review data."
   ]
  },
  {
   "cell_type": "code",
   "execution_count": 913,
   "metadata": {},
   "outputs": [],
   "source": [
    "bus_df.to_csv('restaurants_final.csv')"
   ]
  },
  {
   "cell_type": "markdown",
   "metadata": {},
   "source": [
    "#### Lets get a quick glance of the user and review data to identify what we want to keep for future use"
   ]
  },
  {
   "cell_type": "code",
   "execution_count": 914,
   "metadata": {},
   "outputs": [
    {
     "data": {
      "text/html": [
       "<div>\n",
       "<style scoped>\n",
       "    .dataframe tbody tr th:only-of-type {\n",
       "        vertical-align: middle;\n",
       "    }\n",
       "\n",
       "    .dataframe tbody tr th {\n",
       "        vertical-align: top;\n",
       "    }\n",
       "\n",
       "    .dataframe thead th {\n",
       "        text-align: right;\n",
       "    }\n",
       "</style>\n",
       "<table border=\"1\" class=\"dataframe\">\n",
       "  <thead>\n",
       "    <tr style=\"text-align: right;\">\n",
       "      <th></th>\n",
       "      <th>average_stars</th>\n",
       "      <th>compliment_cool</th>\n",
       "      <th>compliment_cute</th>\n",
       "      <th>compliment_funny</th>\n",
       "      <th>compliment_hot</th>\n",
       "      <th>compliment_list</th>\n",
       "      <th>compliment_more</th>\n",
       "      <th>compliment_note</th>\n",
       "      <th>compliment_photos</th>\n",
       "      <th>compliment_plain</th>\n",
       "      <th>...</th>\n",
       "      <th>cool</th>\n",
       "      <th>elite</th>\n",
       "      <th>fans</th>\n",
       "      <th>friends</th>\n",
       "      <th>funny</th>\n",
       "      <th>name</th>\n",
       "      <th>review_count</th>\n",
       "      <th>useful</th>\n",
       "      <th>user_id</th>\n",
       "      <th>yelping_since</th>\n",
       "    </tr>\n",
       "  </thead>\n",
       "  <tbody>\n",
       "    <tr>\n",
       "      <th>0</th>\n",
       "      <td>4.03</td>\n",
       "      <td>1</td>\n",
       "      <td>0</td>\n",
       "      <td>1</td>\n",
       "      <td>2</td>\n",
       "      <td>0</td>\n",
       "      <td>0</td>\n",
       "      <td>1</td>\n",
       "      <td>0</td>\n",
       "      <td>1</td>\n",
       "      <td>...</td>\n",
       "      <td>25</td>\n",
       "      <td>2015,2016,2017</td>\n",
       "      <td>5</td>\n",
       "      <td>c78V-rj8NQcQjOI8KP3UEA, alRMgPcngYSCJ5naFRBz5g...</td>\n",
       "      <td>17</td>\n",
       "      <td>Rashmi</td>\n",
       "      <td>95</td>\n",
       "      <td>84</td>\n",
       "      <td>l6BmjZMeQD3rDxWUbiAiow</td>\n",
       "      <td>2013-10-08 23:11:33</td>\n",
       "    </tr>\n",
       "  </tbody>\n",
       "</table>\n",
       "<p>1 rows × 22 columns</p>\n",
       "</div>"
      ],
      "text/plain": [
       "   average_stars  compliment_cool  compliment_cute  compliment_funny  \\\n",
       "0           4.03                1                0                 1   \n",
       "\n",
       "   compliment_hot  compliment_list  compliment_more  compliment_note  \\\n",
       "0               2                0                0                1   \n",
       "\n",
       "   compliment_photos  compliment_plain         ...           cool  \\\n",
       "0                  0                 1         ...             25   \n",
       "\n",
       "            elite  fans                                            friends  \\\n",
       "0  2015,2016,2017     5  c78V-rj8NQcQjOI8KP3UEA, alRMgPcngYSCJ5naFRBz5g...   \n",
       "\n",
       "   funny    name  review_count useful                 user_id  \\\n",
       "0     17  Rashmi            95     84  l6BmjZMeQD3rDxWUbiAiow   \n",
       "\n",
       "         yelping_since  \n",
       "0  2013-10-08 23:11:33  \n",
       "\n",
       "[1 rows x 22 columns]"
      ]
     },
     "execution_count": 914,
     "metadata": {},
     "output_type": "execute_result"
    }
   ],
   "source": [
    "user.head(1)"
   ]
  },
  {
   "cell_type": "code",
   "execution_count": 915,
   "metadata": {},
   "outputs": [
    {
     "data": {
      "text/html": [
       "<div>\n",
       "<style scoped>\n",
       "    .dataframe tbody tr th:only-of-type {\n",
       "        vertical-align: middle;\n",
       "    }\n",
       "\n",
       "    .dataframe tbody tr th {\n",
       "        vertical-align: top;\n",
       "    }\n",
       "\n",
       "    .dataframe thead th {\n",
       "        text-align: right;\n",
       "    }\n",
       "</style>\n",
       "<table border=\"1\" class=\"dataframe\">\n",
       "  <thead>\n",
       "    <tr style=\"text-align: right;\">\n",
       "      <th></th>\n",
       "      <th>business_id</th>\n",
       "      <th>cool</th>\n",
       "      <th>date</th>\n",
       "      <th>funny</th>\n",
       "      <th>review_id</th>\n",
       "      <th>stars</th>\n",
       "      <th>text</th>\n",
       "      <th>useful</th>\n",
       "      <th>user_id</th>\n",
       "    </tr>\n",
       "  </thead>\n",
       "  <tbody>\n",
       "    <tr>\n",
       "      <th>0</th>\n",
       "      <td>qx6WhZ42eDKmBchZDax4dQ</td>\n",
       "      <td>0</td>\n",
       "      <td>2017-03-27 01:14:37</td>\n",
       "      <td>0.0</td>\n",
       "      <td>Amo5gZBvCuPc_tZNpHwtsA</td>\n",
       "      <td>5.0</td>\n",
       "      <td>Our family LOVES the food here. Quick, friendl...</td>\n",
       "      <td>1.0</td>\n",
       "      <td>DzZ7piLBF-WsJxqosfJgtA</td>\n",
       "    </tr>\n",
       "  </tbody>\n",
       "</table>\n",
       "</div>"
      ],
      "text/plain": [
       "              business_id  cool                 date  funny  \\\n",
       "0  qx6WhZ42eDKmBchZDax4dQ     0  2017-03-27 01:14:37    0.0   \n",
       "\n",
       "                review_id  stars  \\\n",
       "0  Amo5gZBvCuPc_tZNpHwtsA    5.0   \n",
       "\n",
       "                                                text  useful  \\\n",
       "0  Our family LOVES the food here. Quick, friendl...     1.0   \n",
       "\n",
       "                  user_id  \n",
       "0  DzZ7piLBF-WsJxqosfJgtA  "
      ]
     },
     "execution_count": 915,
     "metadata": {},
     "output_type": "execute_result"
    }
   ],
   "source": [
    "review.head(1)"
   ]
  },
  {
   "cell_type": "markdown",
   "metadata": {},
   "source": [
    "#### Lets identify what features are null values"
   ]
  },
  {
   "cell_type": "code",
   "execution_count": 916,
   "metadata": {},
   "outputs": [],
   "source": [
    "def feat_with_nan(df):\n",
    "    all_nan = df.columns[df.isnull().all()].tolist()\n",
    "    some_nan = df.columns[df.isnull().any()].tolist()\n",
    "    print(\"All NaN Features: \", len(all_nan), all_nan, \"Some NaN Features: \", len(some_nan), some_nan)\n",
    "    return all_nan, some_nan"
   ]
  },
  {
   "cell_type": "code",
   "execution_count": 917,
   "metadata": {},
   "outputs": [
    {
     "name": "stdout",
     "output_type": "stream",
     "text": [
      "All NaN Features:  4 ['attributes', 'attributes_HairSpecializesIn', 'attributes_Open24Hours', 'hours'] Some NaN Features:  50 ['address', 'attributes', 'attributes_AcceptsInsurance', 'attributes_AgesAllowed', 'attributes_Alcohol', 'attributes_Ambience', 'attributes_BYOB', 'attributes_BYOBCorkage', 'attributes_BestNights', 'attributes_BikeParking', 'attributes_BusinessAcceptsBitcoin', 'attributes_BusinessAcceptsCreditCards', 'attributes_BusinessParking', 'attributes_ByAppointmentOnly', 'attributes_Caters', 'attributes_CoatCheck', 'attributes_Corkage', 'attributes_DietaryRestrictions', 'attributes_DogsAllowed', 'attributes_DriveThru', 'attributes_GoodForDancing', 'attributes_GoodForKids', 'attributes_GoodForMeal', 'attributes_HairSpecializesIn', 'attributes_HappyHour', 'attributes_HasTV', 'attributes_Music', 'attributes_NoiseLevel', 'attributes_Open24Hours', 'attributes_OutdoorSeating', 'attributes_RestaurantsAttire', 'attributes_RestaurantsCounterService', 'attributes_RestaurantsDelivery', 'attributes_RestaurantsGoodForGroups', 'attributes_RestaurantsPriceRange2', 'attributes_RestaurantsReservations', 'attributes_RestaurantsTableService', 'attributes_RestaurantsTakeOut', 'attributes_Smoking', 'attributes_WheelchairAccessible', 'attributes_WiFi', 'hours', 'hours_Friday', 'hours_Monday', 'hours_Saturday', 'hours_Sunday', 'hours_Thursday', 'hours_Tuesday', 'hours_Wednesday', 'postal_code']\n"
     ]
    }
   ],
   "source": [
    "all_nan, some_nan = feat_with_nan(bus_df)"
   ]
  },
  {
   "cell_type": "code",
   "execution_count": 918,
   "metadata": {},
   "outputs": [
    {
     "data": {
      "text/html": [
       "<div>\n",
       "<style scoped>\n",
       "    .dataframe tbody tr th:only-of-type {\n",
       "        vertical-align: middle;\n",
       "    }\n",
       "\n",
       "    .dataframe tbody tr th {\n",
       "        vertical-align: top;\n",
       "    }\n",
       "\n",
       "    .dataframe thead th {\n",
       "        text-align: right;\n",
       "    }\n",
       "</style>\n",
       "<table border=\"1\" class=\"dataframe\">\n",
       "  <thead>\n",
       "    <tr style=\"text-align: right;\">\n",
       "      <th></th>\n",
       "      <th>address</th>\n",
       "      <th>attributes</th>\n",
       "      <th>attributes_AcceptsInsurance</th>\n",
       "      <th>attributes_AgesAllowed</th>\n",
       "      <th>attributes_Alcohol</th>\n",
       "      <th>attributes_Ambience</th>\n",
       "      <th>attributes_BYOB</th>\n",
       "      <th>attributes_BYOBCorkage</th>\n",
       "      <th>attributes_BestNights</th>\n",
       "      <th>attributes_BikeParking</th>\n",
       "      <th>...</th>\n",
       "      <th>hours_Wednesday</th>\n",
       "      <th>is_open</th>\n",
       "      <th>latitude</th>\n",
       "      <th>longitude</th>\n",
       "      <th>name</th>\n",
       "      <th>postal_code</th>\n",
       "      <th>review_count</th>\n",
       "      <th>stars</th>\n",
       "      <th>state</th>\n",
       "      <th>cuisine</th>\n",
       "    </tr>\n",
       "  </thead>\n",
       "  <tbody>\n",
       "    <tr>\n",
       "      <th>1</th>\n",
       "      <td>2450 E Indian School Rd</td>\n",
       "      <td>NaN</td>\n",
       "      <td>NaN</td>\n",
       "      <td>NaN</td>\n",
       "      <td>u'none'</td>\n",
       "      <td>{'romantic': False, 'intimate': False, 'touris...</td>\n",
       "      <td>NaN</td>\n",
       "      <td>NaN</td>\n",
       "      <td>NaN</td>\n",
       "      <td>NaN</td>\n",
       "      <td>...</td>\n",
       "      <td>7:0-0:0</td>\n",
       "      <td>1</td>\n",
       "      <td>33.495194</td>\n",
       "      <td>-112.028588</td>\n",
       "      <td>Taco Bell</td>\n",
       "      <td>85016</td>\n",
       "      <td>18</td>\n",
       "      <td>3.0</td>\n",
       "      <td>AZ</td>\n",
       "      <td>Mexican</td>\n",
       "    </tr>\n",
       "    <tr>\n",
       "      <th>2</th>\n",
       "      <td>1789 W Jefferson</td>\n",
       "      <td>NaN</td>\n",
       "      <td>NaN</td>\n",
       "      <td>NaN</td>\n",
       "      <td>'none'</td>\n",
       "      <td>{'romantic': False, 'intimate': False, 'classy...</td>\n",
       "      <td>NaN</td>\n",
       "      <td>NaN</td>\n",
       "      <td>NaN</td>\n",
       "      <td>True</td>\n",
       "      <td>...</td>\n",
       "      <td>NaN</td>\n",
       "      <td>1</td>\n",
       "      <td>33.446805</td>\n",
       "      <td>-112.097129</td>\n",
       "      <td>Vals Getaway DES Cafeteria</td>\n",
       "      <td>85007</td>\n",
       "      <td>14</td>\n",
       "      <td>3.0</td>\n",
       "      <td>AZ</td>\n",
       "      <td>Others</td>\n",
       "    </tr>\n",
       "    <tr>\n",
       "      <th>3</th>\n",
       "      <td>2340 E Baseline Rd</td>\n",
       "      <td>NaN</td>\n",
       "      <td>NaN</td>\n",
       "      <td>NaN</td>\n",
       "      <td>u'none'</td>\n",
       "      <td>{'touristy': False, 'hipster': False, 'romanti...</td>\n",
       "      <td>NaN</td>\n",
       "      <td>NaN</td>\n",
       "      <td>NaN</td>\n",
       "      <td>True</td>\n",
       "      <td>...</td>\n",
       "      <td>11:0-22:0</td>\n",
       "      <td>1</td>\n",
       "      <td>33.378699</td>\n",
       "      <td>-112.031013</td>\n",
       "      <td>Five Guys</td>\n",
       "      <td>85042</td>\n",
       "      <td>23</td>\n",
       "      <td>3.5</td>\n",
       "      <td>AZ</td>\n",
       "      <td>Others</td>\n",
       "    </tr>\n",
       "    <tr>\n",
       "      <th>4</th>\n",
       "      <td>2835 N 16th St, Ste 103</td>\n",
       "      <td>NaN</td>\n",
       "      <td>NaN</td>\n",
       "      <td>NaN</td>\n",
       "      <td>u'none'</td>\n",
       "      <td>{'touristy': False, 'hipster': False, 'romanti...</td>\n",
       "      <td>NaN</td>\n",
       "      <td>NaN</td>\n",
       "      <td>NaN</td>\n",
       "      <td>True</td>\n",
       "      <td>...</td>\n",
       "      <td>NaN</td>\n",
       "      <td>1</td>\n",
       "      <td>33.479506</td>\n",
       "      <td>-112.046931</td>\n",
       "      <td>Pizza Hut</td>\n",
       "      <td>85006</td>\n",
       "      <td>14</td>\n",
       "      <td>2.0</td>\n",
       "      <td>AZ</td>\n",
       "      <td>Italian</td>\n",
       "    </tr>\n",
       "    <tr>\n",
       "      <th>5</th>\n",
       "      <td>8465 W Grand Ave</td>\n",
       "      <td>NaN</td>\n",
       "      <td>NaN</td>\n",
       "      <td>NaN</td>\n",
       "      <td>NaN</td>\n",
       "      <td>NaN</td>\n",
       "      <td>NaN</td>\n",
       "      <td>NaN</td>\n",
       "      <td>NaN</td>\n",
       "      <td>NaN</td>\n",
       "      <td>...</td>\n",
       "      <td>NaN</td>\n",
       "      <td>0</td>\n",
       "      <td>33.578880</td>\n",
       "      <td>-112.235004</td>\n",
       "      <td>Church's Chicken</td>\n",
       "      <td>85345</td>\n",
       "      <td>3</td>\n",
       "      <td>2.0</td>\n",
       "      <td>AZ</td>\n",
       "      <td>Others</td>\n",
       "    </tr>\n",
       "  </tbody>\n",
       "</table>\n",
       "<p>5 rows × 61 columns</p>\n",
       "</div>"
      ],
      "text/plain": [
       "                   address  attributes attributes_AcceptsInsurance  \\\n",
       "1  2450 E Indian School Rd         NaN                         NaN   \n",
       "2         1789 W Jefferson         NaN                         NaN   \n",
       "3       2340 E Baseline Rd         NaN                         NaN   \n",
       "4  2835 N 16th St, Ste 103         NaN                         NaN   \n",
       "5         8465 W Grand Ave         NaN                         NaN   \n",
       "\n",
       "  attributes_AgesAllowed attributes_Alcohol  \\\n",
       "1                    NaN            u'none'   \n",
       "2                    NaN             'none'   \n",
       "3                    NaN            u'none'   \n",
       "4                    NaN            u'none'   \n",
       "5                    NaN                NaN   \n",
       "\n",
       "                                 attributes_Ambience attributes_BYOB  \\\n",
       "1  {'romantic': False, 'intimate': False, 'touris...             NaN   \n",
       "2  {'romantic': False, 'intimate': False, 'classy...             NaN   \n",
       "3  {'touristy': False, 'hipster': False, 'romanti...             NaN   \n",
       "4  {'touristy': False, 'hipster': False, 'romanti...             NaN   \n",
       "5                                                NaN             NaN   \n",
       "\n",
       "  attributes_BYOBCorkage attributes_BestNights attributes_BikeParking  \\\n",
       "1                    NaN                   NaN                    NaN   \n",
       "2                    NaN                   NaN                   True   \n",
       "3                    NaN                   NaN                   True   \n",
       "4                    NaN                   NaN                   True   \n",
       "5                    NaN                   NaN                    NaN   \n",
       "\n",
       "    ...    hours_Wednesday is_open   latitude   longitude  \\\n",
       "1   ...            7:0-0:0       1  33.495194 -112.028588   \n",
       "2   ...                NaN       1  33.446805 -112.097129   \n",
       "3   ...          11:0-22:0       1  33.378699 -112.031013   \n",
       "4   ...                NaN       1  33.479506 -112.046931   \n",
       "5   ...                NaN       0  33.578880 -112.235004   \n",
       "\n",
       "                         name postal_code review_count stars state  cuisine  \n",
       "1                   Taco Bell       85016           18   3.0    AZ  Mexican  \n",
       "2  Vals Getaway DES Cafeteria       85007           14   3.0    AZ   Others  \n",
       "3                   Five Guys       85042           23   3.5    AZ   Others  \n",
       "4                   Pizza Hut       85006           14   2.0    AZ  Italian  \n",
       "5            Church's Chicken       85345            3   2.0    AZ   Others  \n",
       "\n",
       "[5 rows x 61 columns]"
      ]
     },
     "execution_count": 918,
     "metadata": {},
     "output_type": "execute_result"
    }
   ],
   "source": [
    "bus_df.drop(columns = ['attributes', 'hours','address','attributes_HairSpecializesIn', 'attributes_Open24Hours',\n",
    "                       'attributes_AcceptsInsurance', 'attributes_AgesAllowed', 'attributes_Alcohol', 'attributes_Ambience',\n",
    "                       'attributes_BYOB', 'attributes_BYOBCorkage', 'attributes_BestNights', 'attributes_BikeParking',\n",
    "                       'attributes_BusinessAcceptsBitcoin', 'attributes_BusinessAcceptsCreditCards', 'attributes_BusinessParking',\n",
    "                       'attributes_ByAppointmentOnly', 'attributes_Caters', 'attributes_CoatCheck', 'attributes_Corkage',\n",
    "                       'attributes_DietaryRestrictions', 'attributes_GoodForDancing', 'attributes_HairSpecializesIn', 'attributes_HappyHour',\n",
    "                       'attributes_Music','attributes_Open24Hours','attributes_RestaurantsCounterService','hours_Friday', 'hours_Monday',\n",
    "                       'hours_Saturday', 'hours_Sunday', 'hours_Thursday', 'hours_Tuesday', 'hours_Wednesday', 'postal_code'])\n",
    "bus_df.head()"
   ]
  },
  {
   "cell_type": "code",
   "execution_count": 919,
   "metadata": {},
   "outputs": [],
   "source": [
    "def red_review(df, business_list):\n",
    "    # Drop columns where business_id or user_id is null\n",
    "    df.dropna(subset = ['business_id','user_id'], how = 'any', inplace = True)\n",
    "    \n",
    "    # Restrict to businesses that are restaurants\n",
    "    df = df[df['business_id'].isin(business_list)]\n",
    "    \n",
    "    # Only keep user_id's with more than one review\n",
    "    df = df[df.groupby('user_id').user_id.transform(len) > 1]\n",
    "    \n",
    "    # Verify this worked by taking the minimum amount of user_id counts\n",
    "    print('The minimum amount of reviews per user is {}'.format(np.min(df.groupby('user_id')['business_id'].count())))\n",
    "    return df"
   ]
  },
  {
   "cell_type": "code",
   "execution_count": 920,
   "metadata": {},
   "outputs": [
    {
     "name": "stdout",
     "output_type": "stream",
     "text": [
      "The minimum amount of reviews per user is 2\n",
      "All NaN Features:  0 [] Some NaN Features:  0 []\n"
     ]
    }
   ],
   "source": [
    "# Create df\n",
    "rest_reviews = red_review(review, bus_df['business_id'])\n",
    "\n",
    "# Report if there are null values\n",
    "_, _ = feat_with_nan(rest_reviews)\n",
    "\n",
    "rest_reviews['review_date'] = pd.to_datetime(rest_reviews['date'])\n",
    "rest_reviews['review_year'] = rest_reviews['review_date'].dt.year\n",
    "rest_reviews['review_month'] = rest_reviews['review_date'].dt.month\n",
    "rest_reviews['review_weekday'] = rest_reviews['review_date'].dt.weekday_name\n",
    "\n",
    "rename_cols = {'cool': 'review_cool','funny':'review_funny','stars':'review_stars','useful':'review_useful'}\n",
    "rest_reviews.rename(columns = rename_cols, inplace = True)\n",
    "review_cols_to_drop = ['text', 'review_date', 'date']\n",
    "rest_reviews.drop(review_cols_to_drop, axis = 1, inplace = True)"
   ]
  },
  {
   "cell_type": "code",
   "execution_count": 921,
   "metadata": {},
   "outputs": [
    {
     "data": {
      "text/html": [
       "<div>\n",
       "<style scoped>\n",
       "    .dataframe tbody tr th:only-of-type {\n",
       "        vertical-align: middle;\n",
       "    }\n",
       "\n",
       "    .dataframe tbody tr th {\n",
       "        vertical-align: top;\n",
       "    }\n",
       "\n",
       "    .dataframe thead th {\n",
       "        text-align: right;\n",
       "    }\n",
       "</style>\n",
       "<table border=\"1\" class=\"dataframe\">\n",
       "  <thead>\n",
       "    <tr style=\"text-align: right;\">\n",
       "      <th></th>\n",
       "      <th>business_id</th>\n",
       "      <th>review_cool</th>\n",
       "      <th>review_funny</th>\n",
       "      <th>review_id</th>\n",
       "      <th>review_stars</th>\n",
       "      <th>review_useful</th>\n",
       "      <th>user_id</th>\n",
       "      <th>review_year</th>\n",
       "      <th>review_month</th>\n",
       "      <th>review_weekday</th>\n",
       "    </tr>\n",
       "  </thead>\n",
       "  <tbody>\n",
       "    <tr>\n",
       "      <th>0</th>\n",
       "      <td>qx6WhZ42eDKmBchZDax4dQ</td>\n",
       "      <td>0</td>\n",
       "      <td>0.0</td>\n",
       "      <td>Amo5gZBvCuPc_tZNpHwtsA</td>\n",
       "      <td>5.0</td>\n",
       "      <td>1.0</td>\n",
       "      <td>DzZ7piLBF-WsJxqosfJgtA</td>\n",
       "      <td>2017</td>\n",
       "      <td>3</td>\n",
       "      <td>Monday</td>\n",
       "    </tr>\n",
       "    <tr>\n",
       "      <th>1</th>\n",
       "      <td>EIL41z-hvVCeYHqfA9PyWQ</td>\n",
       "      <td>1</td>\n",
       "      <td>0.0</td>\n",
       "      <td>vzMkIQm34QWBCYaHdV-2mQ</td>\n",
       "      <td>5.0</td>\n",
       "      <td>1.0</td>\n",
       "      <td>jAVtSgE5L-Dt6_I5FIiVGA</td>\n",
       "      <td>2017</td>\n",
       "      <td>9</td>\n",
       "      <td>Wednesday</td>\n",
       "    </tr>\n",
       "    <tr>\n",
       "      <th>2</th>\n",
       "      <td>vhIJ91MDgUuk4Cr9Kpj1Nw</td>\n",
       "      <td>0</td>\n",
       "      <td>0.0</td>\n",
       "      <td>p9U8-Bj9tFBqHa-wgaDKJg</td>\n",
       "      <td>1.0</td>\n",
       "      <td>2.0</td>\n",
       "      <td>1BcNXW9_Y16TIofPVpFqIA</td>\n",
       "      <td>2015</td>\n",
       "      <td>7</td>\n",
       "      <td>Thursday</td>\n",
       "    </tr>\n",
       "    <tr>\n",
       "      <th>3</th>\n",
       "      <td>xS5HGqgk0KY2jFWU-l_nrA</td>\n",
       "      <td>0</td>\n",
       "      <td>0.0</td>\n",
       "      <td>RKGH2ZQHyBNgJwQ84lKMFg</td>\n",
       "      <td>4.0</td>\n",
       "      <td>0.0</td>\n",
       "      <td>pHKISjytTmP0LrP952_32w</td>\n",
       "      <td>2018</td>\n",
       "      <td>9</td>\n",
       "      <td>Tuesday</td>\n",
       "    </tr>\n",
       "    <tr>\n",
       "      <th>4</th>\n",
       "      <td>qaPSbg690KaX5av6xsSV4Q</td>\n",
       "      <td>0</td>\n",
       "      <td>0.0</td>\n",
       "      <td>IWinoppaEcMt5DrreAUR0Q</td>\n",
       "      <td>1.0</td>\n",
       "      <td>4.0</td>\n",
       "      <td>U2sN2-HGvh27FyXKFlvkBg</td>\n",
       "      <td>2013</td>\n",
       "      <td>5</td>\n",
       "      <td>Tuesday</td>\n",
       "    </tr>\n",
       "  </tbody>\n",
       "</table>\n",
       "</div>"
      ],
      "text/plain": [
       "              business_id  review_cool  review_funny               review_id  \\\n",
       "0  qx6WhZ42eDKmBchZDax4dQ            0           0.0  Amo5gZBvCuPc_tZNpHwtsA   \n",
       "1  EIL41z-hvVCeYHqfA9PyWQ            1           0.0  vzMkIQm34QWBCYaHdV-2mQ   \n",
       "2  vhIJ91MDgUuk4Cr9Kpj1Nw            0           0.0  p9U8-Bj9tFBqHa-wgaDKJg   \n",
       "3  xS5HGqgk0KY2jFWU-l_nrA            0           0.0  RKGH2ZQHyBNgJwQ84lKMFg   \n",
       "4  qaPSbg690KaX5av6xsSV4Q            0           0.0  IWinoppaEcMt5DrreAUR0Q   \n",
       "\n",
       "   review_stars  review_useful                 user_id  review_year  \\\n",
       "0           5.0            1.0  DzZ7piLBF-WsJxqosfJgtA         2017   \n",
       "1           5.0            1.0  jAVtSgE5L-Dt6_I5FIiVGA         2017   \n",
       "2           1.0            2.0  1BcNXW9_Y16TIofPVpFqIA         2015   \n",
       "3           4.0            0.0  pHKISjytTmP0LrP952_32w         2018   \n",
       "4           1.0            4.0  U2sN2-HGvh27FyXKFlvkBg         2013   \n",
       "\n",
       "   review_month review_weekday  \n",
       "0             3         Monday  \n",
       "1             9      Wednesday  \n",
       "2             7       Thursday  \n",
       "3             9        Tuesday  \n",
       "4             5        Tuesday  "
      ]
     },
     "execution_count": 921,
     "metadata": {},
     "output_type": "execute_result"
    }
   ],
   "source": [
    "rest_reviews.head()"
   ]
  },
  {
   "cell_type": "code",
   "execution_count": 922,
   "metadata": {},
   "outputs": [],
   "source": [
    "rest_reviews.to_csv('restaurant_reviews_final.csv')"
   ]
  },
  {
   "cell_type": "code",
   "execution_count": 923,
   "metadata": {},
   "outputs": [],
   "source": [
    "# add user df\n",
    "users_reviews = user[user['user_id'].isin(rest_reviews['user_id'])].copy()"
   ]
  },
  {
   "cell_type": "code",
   "execution_count": 924,
   "metadata": {},
   "outputs": [
    {
     "data": {
      "text/html": [
       "<div>\n",
       "<style scoped>\n",
       "    .dataframe tbody tr th:only-of-type {\n",
       "        vertical-align: middle;\n",
       "    }\n",
       "\n",
       "    .dataframe tbody tr th {\n",
       "        vertical-align: top;\n",
       "    }\n",
       "\n",
       "    .dataframe thead th {\n",
       "        text-align: right;\n",
       "    }\n",
       "</style>\n",
       "<table border=\"1\" class=\"dataframe\">\n",
       "  <thead>\n",
       "    <tr style=\"text-align: right;\">\n",
       "      <th></th>\n",
       "      <th>average_stars</th>\n",
       "      <th>compliment_cool</th>\n",
       "      <th>compliment_cute</th>\n",
       "      <th>compliment_funny</th>\n",
       "      <th>compliment_hot</th>\n",
       "      <th>compliment_list</th>\n",
       "      <th>compliment_more</th>\n",
       "      <th>compliment_note</th>\n",
       "      <th>compliment_photos</th>\n",
       "      <th>compliment_plain</th>\n",
       "      <th>...</th>\n",
       "      <th>cool</th>\n",
       "      <th>elite</th>\n",
       "      <th>fans</th>\n",
       "      <th>friends</th>\n",
       "      <th>funny</th>\n",
       "      <th>name</th>\n",
       "      <th>review_count</th>\n",
       "      <th>useful</th>\n",
       "      <th>user_id</th>\n",
       "      <th>yelping_since</th>\n",
       "    </tr>\n",
       "  </thead>\n",
       "  <tbody>\n",
       "    <tr>\n",
       "      <th>1</th>\n",
       "      <td>3.63</td>\n",
       "      <td>1</td>\n",
       "      <td>0</td>\n",
       "      <td>1</td>\n",
       "      <td>1</td>\n",
       "      <td>0</td>\n",
       "      <td>0</td>\n",
       "      <td>0</td>\n",
       "      <td>0</td>\n",
       "      <td>0</td>\n",
       "      <td>...</td>\n",
       "      <td>16</td>\n",
       "      <td>NaN</td>\n",
       "      <td>4</td>\n",
       "      <td>kEBTgDvFX754S68FllfCaA, aB2DynOxNOJK9st2ZeGTPg...</td>\n",
       "      <td>22</td>\n",
       "      <td>Jenna</td>\n",
       "      <td>33</td>\n",
       "      <td>48</td>\n",
       "      <td>4XChL029mKr5hydo79Ljxg</td>\n",
       "      <td>2013-02-21 22:29:06</td>\n",
       "    </tr>\n",
       "    <tr>\n",
       "      <th>11</th>\n",
       "      <td>3.48</td>\n",
       "      <td>1</td>\n",
       "      <td>0</td>\n",
       "      <td>1</td>\n",
       "      <td>0</td>\n",
       "      <td>0</td>\n",
       "      <td>1</td>\n",
       "      <td>2</td>\n",
       "      <td>0</td>\n",
       "      <td>2</td>\n",
       "      <td>...</td>\n",
       "      <td>22</td>\n",
       "      <td>NaN</td>\n",
       "      <td>3</td>\n",
       "      <td>tYyOnNs7tBfqAT9ICKDfhA, 8lOmKlym2HovbxtCpim0tw...</td>\n",
       "      <td>16</td>\n",
       "      <td>Edie</td>\n",
       "      <td>77</td>\n",
       "      <td>71</td>\n",
       "      <td>_DaFdmq0gtXf1spn1qC_1Q</td>\n",
       "      <td>2009-10-26 01:00:40</td>\n",
       "    </tr>\n",
       "    <tr>\n",
       "      <th>21</th>\n",
       "      <td>3.45</td>\n",
       "      <td>64</td>\n",
       "      <td>0</td>\n",
       "      <td>64</td>\n",
       "      <td>16</td>\n",
       "      <td>0</td>\n",
       "      <td>8</td>\n",
       "      <td>42</td>\n",
       "      <td>10</td>\n",
       "      <td>32</td>\n",
       "      <td>...</td>\n",
       "      <td>974</td>\n",
       "      <td>2015,2016,2017,2018</td>\n",
       "      <td>71</td>\n",
       "      <td>tRC9YLo4LHquMVXZ9VO4Ag, -YpfTgz88rsPwsOvlfKn7w...</td>\n",
       "      <td>1007</td>\n",
       "      <td>Javier</td>\n",
       "      <td>470</td>\n",
       "      <td>1655</td>\n",
       "      <td>pU6GoRTcl1rIOi6zMynjog</td>\n",
       "      <td>2011-12-16 16:13:01</td>\n",
       "    </tr>\n",
       "    <tr>\n",
       "      <th>32</th>\n",
       "      <td>4.02</td>\n",
       "      <td>140</td>\n",
       "      <td>1</td>\n",
       "      <td>140</td>\n",
       "      <td>106</td>\n",
       "      <td>1</td>\n",
       "      <td>3</td>\n",
       "      <td>60</td>\n",
       "      <td>65</td>\n",
       "      <td>64</td>\n",
       "      <td>...</td>\n",
       "      <td>1341</td>\n",
       "      <td>2011,2012,2013,2014,2015,2016,2017,2018</td>\n",
       "      <td>77</td>\n",
       "      <td>2Y1pwMu2pZJDGQ7moD-2gQ, Qlys2g0R3PfNAuMOhagwLA...</td>\n",
       "      <td>463</td>\n",
       "      <td>Katharine</td>\n",
       "      <td>412</td>\n",
       "      <td>1816</td>\n",
       "      <td>t-nB38eHbeFuabXBdJMwvg</td>\n",
       "      <td>2008-06-13 14:48:51</td>\n",
       "    </tr>\n",
       "    <tr>\n",
       "      <th>35</th>\n",
       "      <td>3.61</td>\n",
       "      <td>2267</td>\n",
       "      <td>18</td>\n",
       "      <td>2267</td>\n",
       "      <td>711</td>\n",
       "      <td>16</td>\n",
       "      <td>84</td>\n",
       "      <td>361</td>\n",
       "      <td>218</td>\n",
       "      <td>2861</td>\n",
       "      <td>...</td>\n",
       "      <td>13924</td>\n",
       "      <td>2012,2013,2014,2015,2016,2017,2018</td>\n",
       "      <td>251</td>\n",
       "      <td>emkgr9xghy66fU58fwnRgQ, _ahqZJFXDNpeiKROkIjGJg...</td>\n",
       "      <td>8340</td>\n",
       "      <td>Jason</td>\n",
       "      <td>2518</td>\n",
       "      <td>16349</td>\n",
       "      <td>eSlOI3GhroEtcbaD_nFXJQ</td>\n",
       "      <td>2011-05-28 21:42:38</td>\n",
       "    </tr>\n",
       "  </tbody>\n",
       "</table>\n",
       "<p>5 rows × 22 columns</p>\n",
       "</div>"
      ],
      "text/plain": [
       "    average_stars  compliment_cool  compliment_cute  compliment_funny  \\\n",
       "1            3.63                1                0                 1   \n",
       "11           3.48                1                0                 1   \n",
       "21           3.45               64                0                64   \n",
       "32           4.02              140                1               140   \n",
       "35           3.61             2267               18              2267   \n",
       "\n",
       "    compliment_hot  compliment_list  compliment_more  compliment_note  \\\n",
       "1                1                0                0                0   \n",
       "11               0                0                1                2   \n",
       "21              16                0                8               42   \n",
       "32             106                1                3               60   \n",
       "35             711               16               84              361   \n",
       "\n",
       "    compliment_photos  compliment_plain         ...            cool  \\\n",
       "1                   0                 0         ...              16   \n",
       "11                  0                 2         ...              22   \n",
       "21                 10                32         ...             974   \n",
       "32                 65                64         ...            1341   \n",
       "35                218              2861         ...           13924   \n",
       "\n",
       "                                      elite  fans  \\\n",
       "1                                       NaN     4   \n",
       "11                                      NaN     3   \n",
       "21                      2015,2016,2017,2018    71   \n",
       "32  2011,2012,2013,2014,2015,2016,2017,2018    77   \n",
       "35       2012,2013,2014,2015,2016,2017,2018   251   \n",
       "\n",
       "                                              friends  funny       name  \\\n",
       "1   kEBTgDvFX754S68FllfCaA, aB2DynOxNOJK9st2ZeGTPg...     22      Jenna   \n",
       "11  tYyOnNs7tBfqAT9ICKDfhA, 8lOmKlym2HovbxtCpim0tw...     16       Edie   \n",
       "21  tRC9YLo4LHquMVXZ9VO4Ag, -YpfTgz88rsPwsOvlfKn7w...   1007     Javier   \n",
       "32  2Y1pwMu2pZJDGQ7moD-2gQ, Qlys2g0R3PfNAuMOhagwLA...    463  Katharine   \n",
       "35  emkgr9xghy66fU58fwnRgQ, _ahqZJFXDNpeiKROkIjGJg...   8340      Jason   \n",
       "\n",
       "    review_count useful                 user_id        yelping_since  \n",
       "1             33     48  4XChL029mKr5hydo79Ljxg  2013-02-21 22:29:06  \n",
       "11            77     71  _DaFdmq0gtXf1spn1qC_1Q  2009-10-26 01:00:40  \n",
       "21           470   1655  pU6GoRTcl1rIOi6zMynjog  2011-12-16 16:13:01  \n",
       "32           412   1816  t-nB38eHbeFuabXBdJMwvg  2008-06-13 14:48:51  \n",
       "35          2518  16349  eSlOI3GhroEtcbaD_nFXJQ  2011-05-28 21:42:38  \n",
       "\n",
       "[5 rows x 22 columns]"
      ]
     },
     "execution_count": 924,
     "metadata": {},
     "output_type": "execute_result"
    }
   ],
   "source": [
    "users_reviews.head()"
   ]
  },
  {
   "cell_type": "code",
   "execution_count": 925,
   "metadata": {},
   "outputs": [],
   "source": [
    "user_vars_to_remove = ['compliment_cool', 'compliment_cute', 'compliment_funny', 'compliment_hot', 'compliment_list', \n",
    "                   'compliment_more', 'compliment_note', 'compliment_photos', 'compliment_plain', 'compliment_profile', \n",
    "                   'compliment_writer', 'elite', 'fans', 'friends', 'funny', 'name']\n",
    "\n",
    "users_reviews['yelping_since'] = pd.to_datetime(users_reviews['yelping_since'])\n",
    "users_reviews['yelping_since'] = users_reviews['yelping_since'].dt.year\n",
    "\n",
    "\n",
    "users_reviews.drop(user_vars_to_remove, axis = 1, inplace = True)"
   ]
  },
  {
   "cell_type": "code",
   "execution_count": 926,
   "metadata": {},
   "outputs": [
    {
     "data": {
      "text/html": [
       "<div>\n",
       "<style scoped>\n",
       "    .dataframe tbody tr th:only-of-type {\n",
       "        vertical-align: middle;\n",
       "    }\n",
       "\n",
       "    .dataframe tbody tr th {\n",
       "        vertical-align: top;\n",
       "    }\n",
       "\n",
       "    .dataframe thead th {\n",
       "        text-align: right;\n",
       "    }\n",
       "</style>\n",
       "<table border=\"1\" class=\"dataframe\">\n",
       "  <thead>\n",
       "    <tr style=\"text-align: right;\">\n",
       "      <th></th>\n",
       "      <th>average_stars</th>\n",
       "      <th>cool</th>\n",
       "      <th>review_count</th>\n",
       "      <th>useful</th>\n",
       "      <th>user_id</th>\n",
       "      <th>yelping_since</th>\n",
       "    </tr>\n",
       "  </thead>\n",
       "  <tbody>\n",
       "    <tr>\n",
       "      <th>1</th>\n",
       "      <td>3.63</td>\n",
       "      <td>16</td>\n",
       "      <td>33</td>\n",
       "      <td>48</td>\n",
       "      <td>4XChL029mKr5hydo79Ljxg</td>\n",
       "      <td>2013</td>\n",
       "    </tr>\n",
       "    <tr>\n",
       "      <th>11</th>\n",
       "      <td>3.48</td>\n",
       "      <td>22</td>\n",
       "      <td>77</td>\n",
       "      <td>71</td>\n",
       "      <td>_DaFdmq0gtXf1spn1qC_1Q</td>\n",
       "      <td>2009</td>\n",
       "    </tr>\n",
       "    <tr>\n",
       "      <th>21</th>\n",
       "      <td>3.45</td>\n",
       "      <td>974</td>\n",
       "      <td>470</td>\n",
       "      <td>1655</td>\n",
       "      <td>pU6GoRTcl1rIOi6zMynjog</td>\n",
       "      <td>2011</td>\n",
       "    </tr>\n",
       "    <tr>\n",
       "      <th>32</th>\n",
       "      <td>4.02</td>\n",
       "      <td>1341</td>\n",
       "      <td>412</td>\n",
       "      <td>1816</td>\n",
       "      <td>t-nB38eHbeFuabXBdJMwvg</td>\n",
       "      <td>2008</td>\n",
       "    </tr>\n",
       "    <tr>\n",
       "      <th>35</th>\n",
       "      <td>3.61</td>\n",
       "      <td>13924</td>\n",
       "      <td>2518</td>\n",
       "      <td>16349</td>\n",
       "      <td>eSlOI3GhroEtcbaD_nFXJQ</td>\n",
       "      <td>2011</td>\n",
       "    </tr>\n",
       "  </tbody>\n",
       "</table>\n",
       "</div>"
      ],
      "text/plain": [
       "    average_stars   cool  review_count  useful                 user_id  \\\n",
       "1            3.63     16            33      48  4XChL029mKr5hydo79Ljxg   \n",
       "11           3.48     22            77      71  _DaFdmq0gtXf1spn1qC_1Q   \n",
       "21           3.45    974           470    1655  pU6GoRTcl1rIOi6zMynjog   \n",
       "32           4.02   1341           412    1816  t-nB38eHbeFuabXBdJMwvg   \n",
       "35           3.61  13924          2518   16349  eSlOI3GhroEtcbaD_nFXJQ   \n",
       "\n",
       "    yelping_since  \n",
       "1            2013  \n",
       "11           2009  \n",
       "21           2011  \n",
       "32           2008  \n",
       "35           2011  "
      ]
     },
     "execution_count": 926,
     "metadata": {},
     "output_type": "execute_result"
    }
   ],
   "source": [
    "users_reviews.head()"
   ]
  },
  {
   "cell_type": "code",
   "execution_count": 927,
   "metadata": {},
   "outputs": [],
   "source": [
    "users_reviews.to_csv('user_final.csv')"
   ]
  },
  {
   "cell_type": "markdown",
   "metadata": {},
   "source": [
    "#### Now that we have user data that coincides only in our review df, and have cleaned our business df, its time to merge the df's into one"
   ]
  },
  {
   "cell_type": "code",
   "execution_count": 928,
   "metadata": {},
   "outputs": [],
   "source": [
    "df_merged = rest_reviews.merge(bus_df, how = 'left', on = 'business_id')"
   ]
  },
  {
   "cell_type": "code",
   "execution_count": 929,
   "metadata": {},
   "outputs": [],
   "source": [
    "df_merged = df_merged.merge(users_reviews, how = 'left', on = 'user_id')"
   ]
  },
  {
   "cell_type": "code",
   "execution_count": 930,
   "metadata": {},
   "outputs": [],
   "source": [
    "df_merged = df_merged.rename(columns = {'review_count_x':'bus_review_count', 'review_count_y':'user_review_count',\n",
    "                                        'stars':'bus_stars','average_stars':'user_average_stars'})"
   ]
  },
  {
   "cell_type": "code",
   "execution_count": 931,
   "metadata": {},
   "outputs": [
    {
     "data": {
      "text/html": [
       "<div>\n",
       "<style scoped>\n",
       "    .dataframe tbody tr th:only-of-type {\n",
       "        vertical-align: middle;\n",
       "    }\n",
       "\n",
       "    .dataframe tbody tr th {\n",
       "        vertical-align: top;\n",
       "    }\n",
       "\n",
       "    .dataframe thead th {\n",
       "        text-align: right;\n",
       "    }\n",
       "</style>\n",
       "<table border=\"1\" class=\"dataframe\">\n",
       "  <thead>\n",
       "    <tr style=\"text-align: right;\">\n",
       "      <th></th>\n",
       "      <th>business_id</th>\n",
       "      <th>review_cool</th>\n",
       "      <th>review_funny</th>\n",
       "      <th>review_id</th>\n",
       "      <th>review_stars</th>\n",
       "      <th>review_useful</th>\n",
       "      <th>user_id</th>\n",
       "      <th>review_year</th>\n",
       "      <th>review_month</th>\n",
       "      <th>review_weekday</th>\n",
       "      <th>...</th>\n",
       "      <th>postal_code</th>\n",
       "      <th>bus_review_count</th>\n",
       "      <th>bus_stars</th>\n",
       "      <th>state</th>\n",
       "      <th>cuisine</th>\n",
       "      <th>user_average_stars</th>\n",
       "      <th>cool</th>\n",
       "      <th>user_review_count</th>\n",
       "      <th>useful</th>\n",
       "      <th>yelping_since</th>\n",
       "    </tr>\n",
       "  </thead>\n",
       "  <tbody>\n",
       "    <tr>\n",
       "      <th>0</th>\n",
       "      <td>qx6WhZ42eDKmBchZDax4dQ</td>\n",
       "      <td>0</td>\n",
       "      <td>0.0</td>\n",
       "      <td>Amo5gZBvCuPc_tZNpHwtsA</td>\n",
       "      <td>5.0</td>\n",
       "      <td>1.0</td>\n",
       "      <td>DzZ7piLBF-WsJxqosfJgtA</td>\n",
       "      <td>2017</td>\n",
       "      <td>3</td>\n",
       "      <td>Monday</td>\n",
       "      <td>...</td>\n",
       "      <td>85234</td>\n",
       "      <td>943</td>\n",
       "      <td>4.5</td>\n",
       "      <td>AZ</td>\n",
       "      <td>Italian</td>\n",
       "      <td>4.40</td>\n",
       "      <td>0</td>\n",
       "      <td>5</td>\n",
       "      <td>2</td>\n",
       "      <td>2012</td>\n",
       "    </tr>\n",
       "    <tr>\n",
       "      <th>1</th>\n",
       "      <td>EIL41z-hvVCeYHqfA9PyWQ</td>\n",
       "      <td>1</td>\n",
       "      <td>0.0</td>\n",
       "      <td>vzMkIQm34QWBCYaHdV-2mQ</td>\n",
       "      <td>5.0</td>\n",
       "      <td>1.0</td>\n",
       "      <td>jAVtSgE5L-Dt6_I5FIiVGA</td>\n",
       "      <td>2017</td>\n",
       "      <td>9</td>\n",
       "      <td>Wednesday</td>\n",
       "      <td>...</td>\n",
       "      <td>85048</td>\n",
       "      <td>184</td>\n",
       "      <td>4.5</td>\n",
       "      <td>AZ</td>\n",
       "      <td>American, Mediterranean</td>\n",
       "      <td>4.32</td>\n",
       "      <td>12</td>\n",
       "      <td>33</td>\n",
       "      <td>15</td>\n",
       "      <td>2015</td>\n",
       "    </tr>\n",
       "    <tr>\n",
       "      <th>2</th>\n",
       "      <td>vhIJ91MDgUuk4Cr9Kpj1Nw</td>\n",
       "      <td>0</td>\n",
       "      <td>0.0</td>\n",
       "      <td>p9U8-Bj9tFBqHa-wgaDKJg</td>\n",
       "      <td>1.0</td>\n",
       "      <td>2.0</td>\n",
       "      <td>1BcNXW9_Y16TIofPVpFqIA</td>\n",
       "      <td>2015</td>\n",
       "      <td>7</td>\n",
       "      <td>Thursday</td>\n",
       "      <td>...</td>\n",
       "      <td>85281</td>\n",
       "      <td>130</td>\n",
       "      <td>3.0</td>\n",
       "      <td>AZ</td>\n",
       "      <td>Others</td>\n",
       "      <td>3.30</td>\n",
       "      <td>104</td>\n",
       "      <td>142</td>\n",
       "      <td>283</td>\n",
       "      <td>2009</td>\n",
       "    </tr>\n",
       "    <tr>\n",
       "      <th>3</th>\n",
       "      <td>xS5HGqgk0KY2jFWU-l_nrA</td>\n",
       "      <td>0</td>\n",
       "      <td>0.0</td>\n",
       "      <td>RKGH2ZQHyBNgJwQ84lKMFg</td>\n",
       "      <td>4.0</td>\n",
       "      <td>0.0</td>\n",
       "      <td>pHKISjytTmP0LrP952_32w</td>\n",
       "      <td>2018</td>\n",
       "      <td>9</td>\n",
       "      <td>Tuesday</td>\n",
       "      <td>...</td>\n",
       "      <td>85028</td>\n",
       "      <td>309</td>\n",
       "      <td>4.0</td>\n",
       "      <td>AZ</td>\n",
       "      <td>American</td>\n",
       "      <td>4.35</td>\n",
       "      <td>22</td>\n",
       "      <td>201</td>\n",
       "      <td>64</td>\n",
       "      <td>2015</td>\n",
       "    </tr>\n",
       "    <tr>\n",
       "      <th>4</th>\n",
       "      <td>qaPSbg690KaX5av6xsSV4Q</td>\n",
       "      <td>0</td>\n",
       "      <td>0.0</td>\n",
       "      <td>IWinoppaEcMt5DrreAUR0Q</td>\n",
       "      <td>1.0</td>\n",
       "      <td>4.0</td>\n",
       "      <td>U2sN2-HGvh27FyXKFlvkBg</td>\n",
       "      <td>2013</td>\n",
       "      <td>5</td>\n",
       "      <td>Tuesday</td>\n",
       "      <td>...</td>\n",
       "      <td>85004</td>\n",
       "      <td>136</td>\n",
       "      <td>4.5</td>\n",
       "      <td>AZ</td>\n",
       "      <td>Others</td>\n",
       "      <td>3.22</td>\n",
       "      <td>763</td>\n",
       "      <td>398</td>\n",
       "      <td>1264</td>\n",
       "      <td>2006</td>\n",
       "    </tr>\n",
       "  </tbody>\n",
       "</table>\n",
       "<p>5 rows × 75 columns</p>\n",
       "</div>"
      ],
      "text/plain": [
       "              business_id  review_cool  review_funny               review_id  \\\n",
       "0  qx6WhZ42eDKmBchZDax4dQ            0           0.0  Amo5gZBvCuPc_tZNpHwtsA   \n",
       "1  EIL41z-hvVCeYHqfA9PyWQ            1           0.0  vzMkIQm34QWBCYaHdV-2mQ   \n",
       "2  vhIJ91MDgUuk4Cr9Kpj1Nw            0           0.0  p9U8-Bj9tFBqHa-wgaDKJg   \n",
       "3  xS5HGqgk0KY2jFWU-l_nrA            0           0.0  RKGH2ZQHyBNgJwQ84lKMFg   \n",
       "4  qaPSbg690KaX5av6xsSV4Q            0           0.0  IWinoppaEcMt5DrreAUR0Q   \n",
       "\n",
       "   review_stars  review_useful                 user_id  review_year  \\\n",
       "0           5.0            1.0  DzZ7piLBF-WsJxqosfJgtA         2017   \n",
       "1           5.0            1.0  jAVtSgE5L-Dt6_I5FIiVGA         2017   \n",
       "2           1.0            2.0  1BcNXW9_Y16TIofPVpFqIA         2015   \n",
       "3           4.0            0.0  pHKISjytTmP0LrP952_32w         2018   \n",
       "4           1.0            4.0  U2sN2-HGvh27FyXKFlvkBg         2013   \n",
       "\n",
       "   review_month review_weekday      ...      postal_code  bus_review_count  \\\n",
       "0             3         Monday      ...            85234               943   \n",
       "1             9      Wednesday      ...            85048               184   \n",
       "2             7       Thursday      ...            85281               130   \n",
       "3             9        Tuesday      ...            85028               309   \n",
       "4             5        Tuesday      ...            85004               136   \n",
       "\n",
       "  bus_stars state                  cuisine user_average_stars cool  \\\n",
       "0       4.5    AZ                  Italian               4.40    0   \n",
       "1       4.5    AZ  American, Mediterranean               4.32   12   \n",
       "2       3.0    AZ                   Others               3.30  104   \n",
       "3       4.0    AZ                 American               4.35   22   \n",
       "4       4.5    AZ                   Others               3.22  763   \n",
       "\n",
       "  user_review_count useful yelping_since  \n",
       "0                 5      2          2012  \n",
       "1                33     15          2015  \n",
       "2               142    283          2009  \n",
       "3               201     64          2015  \n",
       "4               398   1264          2006  \n",
       "\n",
       "[5 rows x 75 columns]"
      ]
     },
     "execution_count": 931,
     "metadata": {},
     "output_type": "execute_result"
    }
   ],
   "source": [
    "df_merged.head()"
   ]
  },
  {
   "cell_type": "code",
   "execution_count": 932,
   "metadata": {},
   "outputs": [
    {
     "data": {
      "text/plain": [
       "302037"
      ]
     },
     "execution_count": 932,
     "metadata": {},
     "output_type": "execute_result"
    }
   ],
   "source": [
    "len(df_merged)"
   ]
  },
  {
   "cell_type": "code",
   "execution_count": 933,
   "metadata": {},
   "outputs": [],
   "source": [
    "# Lets double check that we've only got data with users who have more than one review\n",
    "\n",
    "df_merged = df_merged[df_merged['user_review_count'] > 1]"
   ]
  },
  {
   "cell_type": "code",
   "execution_count": 934,
   "metadata": {},
   "outputs": [
    {
     "data": {
      "text/plain": [
       "301731"
      ]
     },
     "execution_count": 934,
     "metadata": {},
     "output_type": "execute_result"
    }
   ],
   "source": [
    "len(df_merged)"
   ]
  },
  {
   "cell_type": "markdown",
   "metadata": {},
   "source": [
    "#### After merging, we got back the columns we originally dropped, lets drop them again."
   ]
  },
  {
   "cell_type": "code",
   "execution_count": 935,
   "metadata": {},
   "outputs": [
    {
     "data": {
      "text/html": [
       "<div>\n",
       "<style scoped>\n",
       "    .dataframe tbody tr th:only-of-type {\n",
       "        vertical-align: middle;\n",
       "    }\n",
       "\n",
       "    .dataframe tbody tr th {\n",
       "        vertical-align: top;\n",
       "    }\n",
       "\n",
       "    .dataframe thead th {\n",
       "        text-align: right;\n",
       "    }\n",
       "</style>\n",
       "<table border=\"1\" class=\"dataframe\">\n",
       "  <thead>\n",
       "    <tr style=\"text-align: right;\">\n",
       "      <th></th>\n",
       "      <th>business_id</th>\n",
       "      <th>review_cool</th>\n",
       "      <th>review_funny</th>\n",
       "      <th>review_id</th>\n",
       "      <th>review_stars</th>\n",
       "      <th>review_useful</th>\n",
       "      <th>user_id</th>\n",
       "      <th>review_year</th>\n",
       "      <th>review_month</th>\n",
       "      <th>review_weekday</th>\n",
       "      <th>...</th>\n",
       "      <th>name</th>\n",
       "      <th>bus_review_count</th>\n",
       "      <th>bus_stars</th>\n",
       "      <th>state</th>\n",
       "      <th>cuisine</th>\n",
       "      <th>user_average_stars</th>\n",
       "      <th>cool</th>\n",
       "      <th>user_review_count</th>\n",
       "      <th>useful</th>\n",
       "      <th>yelping_since</th>\n",
       "    </tr>\n",
       "  </thead>\n",
       "  <tbody>\n",
       "    <tr>\n",
       "      <th>0</th>\n",
       "      <td>qx6WhZ42eDKmBchZDax4dQ</td>\n",
       "      <td>0</td>\n",
       "      <td>0.0</td>\n",
       "      <td>Amo5gZBvCuPc_tZNpHwtsA</td>\n",
       "      <td>5.0</td>\n",
       "      <td>1.0</td>\n",
       "      <td>DzZ7piLBF-WsJxqosfJgtA</td>\n",
       "      <td>2017</td>\n",
       "      <td>3</td>\n",
       "      <td>Monday</td>\n",
       "      <td>...</td>\n",
       "      <td>Casanova Brothers Pizza</td>\n",
       "      <td>943</td>\n",
       "      <td>4.5</td>\n",
       "      <td>AZ</td>\n",
       "      <td>Italian</td>\n",
       "      <td>4.40</td>\n",
       "      <td>0</td>\n",
       "      <td>5</td>\n",
       "      <td>2</td>\n",
       "      <td>2012</td>\n",
       "    </tr>\n",
       "    <tr>\n",
       "      <th>1</th>\n",
       "      <td>EIL41z-hvVCeYHqfA9PyWQ</td>\n",
       "      <td>1</td>\n",
       "      <td>0.0</td>\n",
       "      <td>vzMkIQm34QWBCYaHdV-2mQ</td>\n",
       "      <td>5.0</td>\n",
       "      <td>1.0</td>\n",
       "      <td>jAVtSgE5L-Dt6_I5FIiVGA</td>\n",
       "      <td>2017</td>\n",
       "      <td>9</td>\n",
       "      <td>Wednesday</td>\n",
       "      <td>...</td>\n",
       "      <td>EarlyBaker</td>\n",
       "      <td>184</td>\n",
       "      <td>4.5</td>\n",
       "      <td>AZ</td>\n",
       "      <td>American, Mediterranean</td>\n",
       "      <td>4.32</td>\n",
       "      <td>12</td>\n",
       "      <td>33</td>\n",
       "      <td>15</td>\n",
       "      <td>2015</td>\n",
       "    </tr>\n",
       "    <tr>\n",
       "      <th>2</th>\n",
       "      <td>vhIJ91MDgUuk4Cr9Kpj1Nw</td>\n",
       "      <td>0</td>\n",
       "      <td>0.0</td>\n",
       "      <td>p9U8-Bj9tFBqHa-wgaDKJg</td>\n",
       "      <td>1.0</td>\n",
       "      <td>2.0</td>\n",
       "      <td>1BcNXW9_Y16TIofPVpFqIA</td>\n",
       "      <td>2015</td>\n",
       "      <td>7</td>\n",
       "      <td>Thursday</td>\n",
       "      <td>...</td>\n",
       "      <td>Jimmy John's</td>\n",
       "      <td>130</td>\n",
       "      <td>3.0</td>\n",
       "      <td>AZ</td>\n",
       "      <td>Others</td>\n",
       "      <td>3.30</td>\n",
       "      <td>104</td>\n",
       "      <td>142</td>\n",
       "      <td>283</td>\n",
       "      <td>2009</td>\n",
       "    </tr>\n",
       "    <tr>\n",
       "      <th>3</th>\n",
       "      <td>xS5HGqgk0KY2jFWU-l_nrA</td>\n",
       "      <td>0</td>\n",
       "      <td>0.0</td>\n",
       "      <td>RKGH2ZQHyBNgJwQ84lKMFg</td>\n",
       "      <td>4.0</td>\n",
       "      <td>0.0</td>\n",
       "      <td>pHKISjytTmP0LrP952_32w</td>\n",
       "      <td>2018</td>\n",
       "      <td>9</td>\n",
       "      <td>Tuesday</td>\n",
       "      <td>...</td>\n",
       "      <td>The Covenant</td>\n",
       "      <td>309</td>\n",
       "      <td>4.0</td>\n",
       "      <td>AZ</td>\n",
       "      <td>American</td>\n",
       "      <td>4.35</td>\n",
       "      <td>22</td>\n",
       "      <td>201</td>\n",
       "      <td>64</td>\n",
       "      <td>2015</td>\n",
       "    </tr>\n",
       "    <tr>\n",
       "      <th>4</th>\n",
       "      <td>qaPSbg690KaX5av6xsSV4Q</td>\n",
       "      <td>0</td>\n",
       "      <td>0.0</td>\n",
       "      <td>IWinoppaEcMt5DrreAUR0Q</td>\n",
       "      <td>1.0</td>\n",
       "      <td>4.0</td>\n",
       "      <td>U2sN2-HGvh27FyXKFlvkBg</td>\n",
       "      <td>2013</td>\n",
       "      <td>5</td>\n",
       "      <td>Tuesday</td>\n",
       "      <td>...</td>\n",
       "      <td>Songbird Coffee &amp; Tea House</td>\n",
       "      <td>136</td>\n",
       "      <td>4.5</td>\n",
       "      <td>AZ</td>\n",
       "      <td>Others</td>\n",
       "      <td>3.22</td>\n",
       "      <td>763</td>\n",
       "      <td>398</td>\n",
       "      <td>1264</td>\n",
       "      <td>2006</td>\n",
       "    </tr>\n",
       "  </tbody>\n",
       "</table>\n",
       "<p>5 rows × 42 columns</p>\n",
       "</div>"
      ],
      "text/plain": [
       "              business_id  review_cool  review_funny               review_id  \\\n",
       "0  qx6WhZ42eDKmBchZDax4dQ            0           0.0  Amo5gZBvCuPc_tZNpHwtsA   \n",
       "1  EIL41z-hvVCeYHqfA9PyWQ            1           0.0  vzMkIQm34QWBCYaHdV-2mQ   \n",
       "2  vhIJ91MDgUuk4Cr9Kpj1Nw            0           0.0  p9U8-Bj9tFBqHa-wgaDKJg   \n",
       "3  xS5HGqgk0KY2jFWU-l_nrA            0           0.0  RKGH2ZQHyBNgJwQ84lKMFg   \n",
       "4  qaPSbg690KaX5av6xsSV4Q            0           0.0  IWinoppaEcMt5DrreAUR0Q   \n",
       "\n",
       "   review_stars  review_useful                 user_id  review_year  \\\n",
       "0           5.0            1.0  DzZ7piLBF-WsJxqosfJgtA         2017   \n",
       "1           5.0            1.0  jAVtSgE5L-Dt6_I5FIiVGA         2017   \n",
       "2           1.0            2.0  1BcNXW9_Y16TIofPVpFqIA         2015   \n",
       "3           4.0            0.0  pHKISjytTmP0LrP952_32w         2018   \n",
       "4           1.0            4.0  U2sN2-HGvh27FyXKFlvkBg         2013   \n",
       "\n",
       "   review_month review_weekday      ...                              name  \\\n",
       "0             3         Monday      ...           Casanova Brothers Pizza   \n",
       "1             9      Wednesday      ...                        EarlyBaker   \n",
       "2             7       Thursday      ...                      Jimmy John's   \n",
       "3             9        Tuesday      ...                      The Covenant   \n",
       "4             5        Tuesday      ...       Songbird Coffee & Tea House   \n",
       "\n",
       "  bus_review_count bus_stars state                  cuisine  \\\n",
       "0              943       4.5    AZ                  Italian   \n",
       "1              184       4.5    AZ  American, Mediterranean   \n",
       "2              130       3.0    AZ                   Others   \n",
       "3              309       4.0    AZ                 American   \n",
       "4              136       4.5    AZ                   Others   \n",
       "\n",
       "  user_average_stars cool user_review_count useful yelping_since  \n",
       "0               4.40    0                 5      2          2012  \n",
       "1               4.32   12                33     15          2015  \n",
       "2               3.30  104               142    283          2009  \n",
       "3               4.35   22               201     64          2015  \n",
       "4               3.22  763               398   1264          2006  \n",
       "\n",
       "[5 rows x 42 columns]"
      ]
     },
     "execution_count": 935,
     "metadata": {},
     "output_type": "execute_result"
    }
   ],
   "source": [
    "df_merged = df_merged.drop(columns = ['attributes', 'hours','address','attributes_HairSpecializesIn', 'attributes_Open24Hours',\n",
    "                       'attributes_AcceptsInsurance', 'attributes_AgesAllowed', 'attributes_Alcohol', 'attributes_Ambience',\n",
    "                       'attributes_BYOB', 'attributes_BYOBCorkage', 'attributes_BestNights', 'attributes_BikeParking',\n",
    "                       'attributes_BusinessAcceptsBitcoin', 'attributes_BusinessAcceptsCreditCards', 'attributes_BusinessParking',\n",
    "                       'attributes_ByAppointmentOnly', 'attributes_Caters', 'attributes_CoatCheck', 'attributes_Corkage',\n",
    "                       'attributes_DietaryRestrictions', 'attributes_GoodForDancing', 'attributes_HairSpecializesIn', 'attributes_HappyHour',\n",
    "                       'attributes_Music','attributes_Open24Hours','attributes_RestaurantsCounterService','hours_Friday', 'hours_Monday',\n",
    "                       'hours_Saturday', 'hours_Sunday', 'hours_Thursday', 'hours_Tuesday', 'hours_Wednesday', 'postal_code'])\n",
    "\n",
    "df_merged.head()"
   ]
  },
  {
   "cell_type": "code",
   "execution_count": 936,
   "metadata": {},
   "outputs": [
    {
     "name": "stdout",
     "output_type": "stream",
     "text": [
      "Columns in our data file are:\n",
      "business_id\n",
      "review_cool\n",
      "review_funny\n",
      "review_id\n",
      "review_stars\n",
      "review_useful\n",
      "user_id\n",
      "review_year\n",
      "review_month\n",
      "review_weekday\n",
      "attributes_DogsAllowed\n",
      "attributes_DriveThru\n",
      "attributes_GoodForKids\n",
      "attributes_GoodForMeal\n",
      "attributes_HasTV\n",
      "attributes_NoiseLevel\n",
      "attributes_OutdoorSeating\n",
      "attributes_RestaurantsAttire\n",
      "attributes_RestaurantsDelivery\n",
      "attributes_RestaurantsGoodForGroups\n",
      "attributes_RestaurantsPriceRange2\n",
      "attributes_RestaurantsReservations\n",
      "attributes_RestaurantsTableService\n",
      "attributes_RestaurantsTakeOut\n",
      "attributes_Smoking\n",
      "attributes_WheelchairAccessible\n",
      "attributes_WiFi\n",
      "categories\n",
      "city\n",
      "is_open\n",
      "latitude\n",
      "longitude\n",
      "name\n",
      "bus_review_count\n",
      "bus_stars\n",
      "state\n",
      "cuisine\n",
      "user_average_stars\n",
      "cool\n",
      "user_review_count\n",
      "useful\n",
      "yelping_since\n"
     ]
    }
   ],
   "source": [
    "print(\"Columns in our data file are:\")\n",
    "for i in df_merged.columns:\n",
    "    print(i)"
   ]
  },
  {
   "cell_type": "code",
   "execution_count": 937,
   "metadata": {},
   "outputs": [
    {
     "data": {
      "text/plain": [
       "business_id                                 0\n",
       "review_cool                                 0\n",
       "review_funny                                0\n",
       "review_id                                   0\n",
       "review_stars                                0\n",
       "review_useful                               0\n",
       "user_id                                     0\n",
       "review_year                                 0\n",
       "review_month                                0\n",
       "review_weekday                              0\n",
       "attributes_DogsAllowed                 250982\n",
       "attributes_DriveThru                   263748\n",
       "attributes_GoodForKids                  12803\n",
       "attributes_GoodForMeal                  51785\n",
       "attributes_HasTV                        17375\n",
       "attributes_NoiseLevel                   26614\n",
       "attributes_OutdoorSeating                9447\n",
       "attributes_RestaurantsAttire            16222\n",
       "attributes_RestaurantsDelivery           9656\n",
       "attributes_RestaurantsGoodForGroups     13376\n",
       "attributes_RestaurantsPriceRange2        2139\n",
       "attributes_RestaurantsReservations      12233\n",
       "attributes_RestaurantsTableService     171832\n",
       "attributes_RestaurantsTakeOut            3672\n",
       "attributes_Smoking                     277121\n",
       "attributes_WheelchairAccessible        218187\n",
       "attributes_WiFi                         16379\n",
       "categories                                  0\n",
       "city                                        0\n",
       "is_open                                     0\n",
       "latitude                                    0\n",
       "longitude                                   0\n",
       "name                                        0\n",
       "bus_review_count                            0\n",
       "bus_stars                                   0\n",
       "state                                       0\n",
       "cuisine                                     0\n",
       "user_average_stars                          0\n",
       "cool                                        0\n",
       "user_review_count                           0\n",
       "useful                                      0\n",
       "yelping_since                               0\n",
       "dtype: int64"
      ]
     },
     "execution_count": 937,
     "metadata": {},
     "output_type": "execute_result"
    }
   ],
   "source": [
    "# final cleanup of the merged dataframe\n",
    "\n",
    "df_merged.isnull().sum()"
   ]
  },
  {
   "cell_type": "code",
   "execution_count": 938,
   "metadata": {},
   "outputs": [],
   "source": [
    "df_merged.to_csv('merged_business_and_user_reviews.csv')"
   ]
  },
  {
   "cell_type": "markdown",
   "metadata": {},
   "source": [
    "### Let's explore the data further!"
   ]
  },
  {
   "cell_type": "markdown",
   "metadata": {},
   "source": [
    "#### Lets look at our data from a local geographical standpoint to begin."
   ]
  },
  {
   "cell_type": "code",
   "execution_count": 939,
   "metadata": {},
   "outputs": [
    {
     "data": {
      "text/plain": [
       "<matplotlib.axes._subplots.AxesSubplot at 0x2015f58ef60>"
      ]
     },
     "execution_count": 939,
     "metadata": {},
     "output_type": "execute_result"
    },
    {
     "data": {
      "image/png": "[encoded data removed]",
      "text/plain": [
       "<Figure size 864x576 with 1 Axes>"
      ]
     },
     "metadata": {},
     "output_type": "display_data"
    }
   ],
   "source": [
    "plt.style.use('fivethirtyeight')\n",
    "plt.rcParams[\"figure.figsize\"] = (12, 8)\n",
    "\n",
    "# Number of businesses in each city\n",
    "\n",
    "df_bus = df_merged.groupby('city').count()\n",
    "df_bus_city = df_bus['name']\n",
    "df_bus_sort = df_bus_city.sort_values(ascending = False)\n",
    "df_bus_sort[:25].plot(kind = 'bar')"
   ]
  },
  {
   "cell_type": "code",
   "execution_count": 940,
   "metadata": {},
   "outputs": [],
   "source": [
    "def num_reviews_per_var(df, group_var, count_var, max_count, title_axis_x, title_axis_y):\n",
    "    num_review_per_var = df.groupby(group_var, as_index = False).count()[[group_var, count_var]]\n",
    "    num_review_per_var.columns.values[1] = 'num_reviews_per_var'\n",
    "    reviews_per_var = num_review_per_var.groupby('num_reviews_per_var', as_index = False).count()\n",
    "    reviews_per_var.columns.values[1] = 'num_' + group_var\n",
    "    more_than_x = reviews_per_var[reviews_per_var['num_reviews_per_var'] >= max_count].sum().to_frame().T\n",
    "    more_than_x['num_reviews_per_var'] = max_count\n",
    "    reviews_per_var = pd.concat([reviews_per_var[reviews_per_var['num_reviews_per_var'] < max_count], more_than_x]).reset_index(drop = True)\n",
    "    total_var = reviews_per_var['num_' + group_var].sum()\n",
    "    reviews_per_var['num_' + group_var] = 100 * reviews_per_var['num_' + group_var] / total_var\n",
    "    ax = reviews_per_var.plot(x = 'num_reviews_per_var', y = 'num_' + group_var, kind = 'bar')    \n",
    "    ax.set_ylabel(title_axis_y)\n",
    "    ax.set_xlabel(title_axis_x)\n",
    "    ax.yaxis.set_major_formatter(mtick.FormatStrFormatter('%2.0f%%'))"
   ]
  },
  {
   "cell_type": "code",
   "execution_count": 941,
   "metadata": {},
   "outputs": [],
   "source": [
    "import matplotlib.ticker as mtick\n",
    "sns.set_style(\"whitegrid\")\n",
    "sns.set_context('paper', rc = {\"font.size\":20,\"axes.titlesize\":20, \"axes.labelsize\":20, \"xtick.labelsize\":20, \"ytick.labelsize\":20})"
   ]
  },
  {
   "cell_type": "code",
   "execution_count": 942,
   "metadata": {},
   "outputs": [
    {
     "data": {
      "image/png": "[encoded data removed]",
      "text/plain": [
       "<Figure size 864x576 with 1 Axes>"
      ]
     },
     "metadata": {},
     "output_type": "display_data"
    }
   ],
   "source": [
    "num_reviews_per_var(df_merged, 'user_id', 'review_id', 10, 'Number of Reviews', '% of Users')"
   ]
  },
  {
   "cell_type": "markdown",
   "metadata": {},
   "source": [
    "##### We can see majority of users only give a couple reviews. This could cause making recommendations difficult as we may not have data for anything that they like."
   ]
  },
  {
   "cell_type": "code",
   "execution_count": 943,
   "metadata": {},
   "outputs": [
    {
     "data": {
      "image/png": "[encoded data removed]",
      "text/plain": [
       "<Figure size 864x576 with 1 Axes>"
      ]
     },
     "metadata": {},
     "output_type": "display_data"
    }
   ],
   "source": [
    "y_user = df_merged['user_average_stars']\n",
    "\n",
    "fig, ax = plt.subplots(1,1, figsize = (12, 8))\n",
    "y_user.plot(kind = 'hist', ax = ax)\n",
    "ax.set_xlabel('User Average Stars')\n",
    "plt.show()"
   ]
  },
  {
   "cell_type": "code",
   "execution_count": 944,
   "metadata": {},
   "outputs": [
    {
     "name": "stdout",
     "output_type": "stream",
     "text": [
      "The average stars given by a user is: 3.781\n"
     ]
    }
   ],
   "source": [
    "print('The average stars given by a user is: {:.4}'.format(y_user.mean()))"
   ]
  },
  {
   "cell_type": "markdown",
   "metadata": {},
   "source": [
    "##### Something to note here is the potential for user bias as this plot shows that many users tend to give higher ratings than others."
   ]
  },
  {
   "cell_type": "code",
   "execution_count": 945,
   "metadata": {},
   "outputs": [
    {
     "data": {
      "image/png": "[encoded data removed]",
      "text/plain": [
       "<Figure size 864x576 with 1 Axes>"
      ]
     },
     "metadata": {},
     "output_type": "display_data"
    }
   ],
   "source": [
    "num_reviews_per_var(df_merged, 'business_id', 'review_id', 20, 'Number of Reviews', '% of Restaurants')"
   ]
  },
  {
   "cell_type": "markdown",
   "metadata": {},
   "source": [
    "#### Something to note here is the number of restaurants that have more than 20 reviews."
   ]
  },
  {
   "cell_type": "markdown",
   "metadata": {},
   "source": [
    "#### What about the top restaurant categories?"
   ]
  },
  {
   "cell_type": "code",
   "execution_count": 946,
   "metadata": {},
   "outputs": [
    {
     "name": "stdout",
     "output_type": "stream",
     "text": [
      "['Golf', 'Active Life']\n",
      "['Specialty Food', 'Restaurants', 'Dim Sum', 'Imported Food', 'Food', 'Chinese', 'Ethnic Food', 'Seafood']\n",
      "['Sushi Bars', 'Restaurants', 'Japanese']\n",
      "['Insurance', 'Financial Services']\n",
      "['Plumbing', 'Shopping', 'Local Services', 'Home Services', 'Kitchen & Bath', 'Home & Garden', 'Water Heater Installation/Repair']\n"
     ]
    }
   ],
   "source": [
    "for index, row in business.iterrows():\n",
    "    categories1 = row.categories\n",
    "    categorieslist = [x.strip() for x in categories1.split(',')]\n",
    "    print(categorieslist)\n",
    "    if index > 3:\n",
    "        break"
   ]
  },
  {
   "cell_type": "code",
   "execution_count": 947,
   "metadata": {},
   "outputs": [
    {
     "data": {
      "text/plain": [
       "[('Restaurants', 3391),\n",
       " ('Food', 2759),\n",
       " ('Fast Food', 912),\n",
       " ('Sandwiches', 675),\n",
       " ('Coffee & Tea', 579),\n",
       " ('Breakfast & Brunch', 563),\n",
       " ('American (Traditional)', 495),\n",
       " ('American (New)', 414),\n",
       " ('Burgers', 411),\n",
       " ('Nightlife', 409),\n",
       " ('Bars', 383),\n",
       " ('Mexican', 357),\n",
       " ('Specialty Food', 343),\n",
       " ('Desserts', 334),\n",
       " ('Bakeries', 325),\n",
       " ('Pizza', 312),\n",
       " ('Event Planning & Services', 282),\n",
       " ('Cafes', 277),\n",
       " ('Salad', 266),\n",
       " ('Beer', 263),\n",
       " ('Wine & Spirits', 263),\n",
       " ('Ice Cream & Frozen Yogurt', 263),\n",
       " ('Delis', 263),\n",
       " ('Caterers', 237),\n",
       " ('Juice Bars & Smoothies', 223),\n",
       " ('Italian', 212),\n",
       " ('Chicken Wings', 202),\n",
       " ('Food Trucks', 178),\n",
       " ('Food Delivery Services', 152),\n",
       " ('Seafood', 131),\n",
       " ('Ethnic Food', 117),\n",
       " ('Gluten-Free', 117),\n",
       " ('Vegetarian', 107),\n",
       " ('Grocery', 101),\n",
       " ('Asian Fusion', 100),\n",
       " ('Chinese', 97),\n",
       " ('Barbeque', 96),\n",
       " ('Comfort Food', 94),\n",
       " ('Mediterranean', 93),\n",
       " ('Bagels', 91),\n",
       " ('Hot Dogs', 91),\n",
       " ('Vegan', 88),\n",
       " ('Sports Bars', 85),\n",
       " ('Wine Bars', 79),\n",
       " ('Donuts', 78),\n",
       " ('Japanese', 71),\n",
       " ('Shopping', 69),\n",
       " ('Chicken Shop', 66),\n",
       " ('Arts & Entertainment', 66),\n",
       " ('Soup', 65)]"
      ]
     },
     "execution_count": 947,
     "metadata": {},
     "output_type": "execute_result"
    }
   ],
   "source": [
    "# we calculated the count in categories from before\n",
    "c.most_common(50)"
   ]
  },
  {
   "cell_type": "code",
   "execution_count": 948,
   "metadata": {},
   "outputs": [
    {
     "data": {
      "image/png": "[encoded data removed]",
      "text/plain": [
       "<Figure size 864x576 with 1 Axes>"
      ]
     },
     "metadata": {},
     "output_type": "display_data"
    }
   ],
   "source": [
    "x = c.most_common(50)\n",
    "\n",
    "labels, ys = zip(*x)\n",
    "xs = np.arange(len(labels))\n",
    "width = 1\n",
    "\n",
    "plt.bar(xs, ys, width, align = 'center')\n",
    "plt.title('Top 50 Categories of our Businesses')\n",
    "plt.xticks(xs, labels, fontsize = 14, rotation = 90)\n",
    "plt.show()"
   ]
  },
  {
   "cell_type": "markdown",
   "metadata": {},
   "source": [
    "#### Lets look at the most common cuisine types"
   ]
  },
  {
   "cell_type": "code",
   "execution_count": 949,
   "metadata": {},
   "outputs": [
    {
     "data": {
      "text/plain": [
       "<matplotlib.axes._subplots.AxesSubplot at 0x2012393eda0>"
      ]
     },
     "execution_count": 949,
     "metadata": {},
     "output_type": "execute_result"
    },
    {
     "data": {
      "image/png": "[encoded data removed]",
      "text/plain": [
       "<Figure size 864x576 with 1 Axes>"
      ]
     },
     "metadata": {},
     "output_type": "display_data"
    }
   ],
   "source": [
    "df_cuisine = df_merged.groupby('cuisine').count()\n",
    "df_cuisine_type = df_cuisine['name']\n",
    "df_cuisine_sorted = df_cuisine_type.sort_values(ascending = False)\n",
    "df_cuisine_sorted[:11].plot(kind = 'bar')"
   ]
  },
  {
   "cell_type": "markdown",
   "metadata": {},
   "source": [
    "#### Lets look closer at the information we have at our disposal"
   ]
  },
  {
   "cell_type": "code",
   "execution_count": 950,
   "metadata": {},
   "outputs": [
    {
     "data": {
      "text/plain": [
       "(301731,)"
      ]
     },
     "execution_count": 950,
     "metadata": {},
     "output_type": "execute_result"
    }
   ],
   "source": [
    "# define target variable\n",
    "target = (df_merged['review_stars'].values)\n",
    "target = target.astype(int)\n",
    "target.shape"
   ]
  },
  {
   "cell_type": "code",
   "execution_count": 951,
   "metadata": {},
   "outputs": [
    {
     "name": "stdout",
     "output_type": "stream",
     "text": [
      "Statistics of the target variable\n",
      "Median value: 4.000000\n",
      "Mean value: 3.771028\n",
      "Standard deviation value: 1.363917\n"
     ]
    }
   ],
   "source": [
    "# To be implemented\n",
    "print('Statistics of the target variable')\n",
    "print('Median value: %f' % (np.median(target)))\n",
    "print('Mean value: %f' % (np.mean(target)))\n",
    "print('Standard deviation value: %f' % (np.std(target)))"
   ]
  },
  {
   "cell_type": "code",
   "execution_count": 952,
   "metadata": {},
   "outputs": [
    {
     "name": "stdout",
     "output_type": "stream",
     "text": [
      "Number of users : 62446\n",
      "Number of reviews : 301731\n",
      "Number of ratings  : 301731\n"
     ]
    }
   ],
   "source": [
    "num_users = len(df_merged['user_id'].unique())\n",
    "num_items = len(df_merged['review_id'].unique())\n",
    "\n",
    "print(\"Number of users : {}\".format(num_users))\n",
    "print(\"Number of reviews : {}\".format(num_items))\n",
    "print(\"Number of ratings  : {}\".format(len(df_merged)))"
   ]
  },
  {
   "cell_type": "code",
   "execution_count": 953,
   "metadata": {},
   "outputs": [],
   "source": [
    "# turn each reviewer and product into categorical data,\n",
    "df_merged['user_id'] = df_merged['user_id'].astype(\"category\")\n",
    "df_merged['business_id'] = df_merged['business_id'].astype(\"category\")"
   ]
  },
  {
   "cell_type": "code",
   "execution_count": 954,
   "metadata": {},
   "outputs": [
    {
     "data": {
      "text/plain": [
       "(62446, 4629)"
      ]
     },
     "execution_count": 954,
     "metadata": {},
     "output_type": "execute_result"
    }
   ],
   "source": [
    "reviews_matrix = csc_matrix((df_merged['review_stars'].astype(float),\n",
    "                            (df_merged['user_id'].cat.codes,\n",
    "                            df_merged['business_id'].cat.codes)))\n",
    "reviews_matrix.shape"
   ]
  },
  {
   "cell_type": "code",
   "execution_count": 955,
   "metadata": {},
   "outputs": [
    {
     "name": "stdout",
     "output_type": "stream",
     "text": [
      "Sparsity: 0.10%\n"
     ]
    }
   ],
   "source": [
    "sparsity = float(len(reviews_matrix.nonzero()[0]))\n",
    "sparsity /= (reviews_matrix.shape[0] * reviews_matrix.shape[1])\n",
    "sparsity *= 100\n",
    "print(\"Sparsity: {:4.2f}%\".format(sparsity))"
   ]
  },
  {
   "cell_type": "markdown",
   "metadata": {},
   "source": [
    "#### You can see this is extremely sparse. After working with this and trying to build multiple variations of collaborative and content based models, \n",
    "#### there was no success. From here, we aimed to answer two different questions using classification systems. \n",
    "\n",
    "### We explore further below."
   ]
  },
  {
   "cell_type": "code",
   "execution_count": 956,
   "metadata": {},
   "outputs": [],
   "source": [
    "# Lets import necessary packages for our deeper analysis and models.\n",
    "\n",
    "from sklearn.linear_model import LinearRegression\n",
    "from sklearn.linear_model import Ridge\n",
    "from sklearn.linear_model import RidgeCV\n",
    "from sklearn.linear_model import LogisticRegression\n",
    "from sklearn.linear_model import Lasso\n",
    "from sklearn.linear_model import LassoCV\n",
    "\n",
    "from sklearn.metrics import mean_squared_error, accuracy_score, r2_score, confusion_matrix, roc_curve, roc_auc_score, auc\n",
    "\n",
    "from sklearn.preprocessing import MinMaxScaler\n",
    "from sklearn.model_selection import KFold\n",
    "from sklearn.model_selection import GridSearchCV\n",
    "from itertools import product\n",
    "from collections import OrderedDict\n",
    "from sklearn.preprocessing import OneHotEncoder\n",
    "from sklearn.preprocessing import LabelEncoder\n",
    "from sklearn.model_selection import train_test_split\n",
    "import time\n",
    "import sys\n",
    "import numpy as np\n",
    "import pandas as pd\n",
    "from sklearn.model_selection import cross_val_score \n",
    "from sklearn.metrics.pairwise import pairwise_distances\n",
    "from sklearn.metrics import mean_squared_error, r2_score\n",
    "from sklearn import metrics\n",
    "from math import sqrt\n",
    "import scipy.sparse as sp\n",
    "from scipy.sparse.linalg import svds\n",
    "from sklearn.model_selection import KFold\n",
    "import matplotlib\n",
    "import matplotlib.pyplot as plt\n",
    "import seaborn as sns\n",
    "from scipy import spatial"
   ]
  },
  {
   "cell_type": "code",
   "execution_count": 957,
   "metadata": {},
   "outputs": [
    {
     "data": {
      "text/html": [
       "<div>\n",
       "<style scoped>\n",
       "    .dataframe tbody tr th:only-of-type {\n",
       "        vertical-align: middle;\n",
       "    }\n",
       "\n",
       "    .dataframe tbody tr th {\n",
       "        vertical-align: top;\n",
       "    }\n",
       "\n",
       "    .dataframe thead th {\n",
       "        text-align: right;\n",
       "    }\n",
       "</style>\n",
       "<table border=\"1\" class=\"dataframe\">\n",
       "  <thead>\n",
       "    <tr style=\"text-align: right;\">\n",
       "      <th></th>\n",
       "      <th>business_id</th>\n",
       "      <th>review_cool</th>\n",
       "      <th>review_funny</th>\n",
       "      <th>review_id</th>\n",
       "      <th>review_stars</th>\n",
       "      <th>review_useful</th>\n",
       "      <th>user_id</th>\n",
       "      <th>review_year</th>\n",
       "      <th>review_month</th>\n",
       "      <th>review_weekday</th>\n",
       "      <th>...</th>\n",
       "      <th>name</th>\n",
       "      <th>bus_review_count</th>\n",
       "      <th>bus_stars</th>\n",
       "      <th>state</th>\n",
       "      <th>cuisine</th>\n",
       "      <th>user_average_stars</th>\n",
       "      <th>cool</th>\n",
       "      <th>user_review_count</th>\n",
       "      <th>useful</th>\n",
       "      <th>yelping_since</th>\n",
       "    </tr>\n",
       "  </thead>\n",
       "  <tbody>\n",
       "    <tr>\n",
       "      <th>0</th>\n",
       "      <td>qx6WhZ42eDKmBchZDax4dQ</td>\n",
       "      <td>0</td>\n",
       "      <td>0.0</td>\n",
       "      <td>Amo5gZBvCuPc_tZNpHwtsA</td>\n",
       "      <td>5.0</td>\n",
       "      <td>1.0</td>\n",
       "      <td>DzZ7piLBF-WsJxqosfJgtA</td>\n",
       "      <td>2017</td>\n",
       "      <td>3</td>\n",
       "      <td>Monday</td>\n",
       "      <td>...</td>\n",
       "      <td>Casanova Brothers Pizza</td>\n",
       "      <td>943</td>\n",
       "      <td>4.5</td>\n",
       "      <td>AZ</td>\n",
       "      <td>Italian</td>\n",
       "      <td>4.40</td>\n",
       "      <td>0</td>\n",
       "      <td>5</td>\n",
       "      <td>2</td>\n",
       "      <td>2012</td>\n",
       "    </tr>\n",
       "    <tr>\n",
       "      <th>1</th>\n",
       "      <td>EIL41z-hvVCeYHqfA9PyWQ</td>\n",
       "      <td>1</td>\n",
       "      <td>0.0</td>\n",
       "      <td>vzMkIQm34QWBCYaHdV-2mQ</td>\n",
       "      <td>5.0</td>\n",
       "      <td>1.0</td>\n",
       "      <td>jAVtSgE5L-Dt6_I5FIiVGA</td>\n",
       "      <td>2017</td>\n",
       "      <td>9</td>\n",
       "      <td>Wednesday</td>\n",
       "      <td>...</td>\n",
       "      <td>EarlyBaker</td>\n",
       "      <td>184</td>\n",
       "      <td>4.5</td>\n",
       "      <td>AZ</td>\n",
       "      <td>American, Mediterranean</td>\n",
       "      <td>4.32</td>\n",
       "      <td>12</td>\n",
       "      <td>33</td>\n",
       "      <td>15</td>\n",
       "      <td>2015</td>\n",
       "    </tr>\n",
       "    <tr>\n",
       "      <th>2</th>\n",
       "      <td>vhIJ91MDgUuk4Cr9Kpj1Nw</td>\n",
       "      <td>0</td>\n",
       "      <td>0.0</td>\n",
       "      <td>p9U8-Bj9tFBqHa-wgaDKJg</td>\n",
       "      <td>1.0</td>\n",
       "      <td>2.0</td>\n",
       "      <td>1BcNXW9_Y16TIofPVpFqIA</td>\n",
       "      <td>2015</td>\n",
       "      <td>7</td>\n",
       "      <td>Thursday</td>\n",
       "      <td>...</td>\n",
       "      <td>Jimmy John's</td>\n",
       "      <td>130</td>\n",
       "      <td>3.0</td>\n",
       "      <td>AZ</td>\n",
       "      <td>Others</td>\n",
       "      <td>3.30</td>\n",
       "      <td>104</td>\n",
       "      <td>142</td>\n",
       "      <td>283</td>\n",
       "      <td>2009</td>\n",
       "    </tr>\n",
       "    <tr>\n",
       "      <th>3</th>\n",
       "      <td>xS5HGqgk0KY2jFWU-l_nrA</td>\n",
       "      <td>0</td>\n",
       "      <td>0.0</td>\n",
       "      <td>RKGH2ZQHyBNgJwQ84lKMFg</td>\n",
       "      <td>4.0</td>\n",
       "      <td>0.0</td>\n",
       "      <td>pHKISjytTmP0LrP952_32w</td>\n",
       "      <td>2018</td>\n",
       "      <td>9</td>\n",
       "      <td>Tuesday</td>\n",
       "      <td>...</td>\n",
       "      <td>The Covenant</td>\n",
       "      <td>309</td>\n",
       "      <td>4.0</td>\n",
       "      <td>AZ</td>\n",
       "      <td>American</td>\n",
       "      <td>4.35</td>\n",
       "      <td>22</td>\n",
       "      <td>201</td>\n",
       "      <td>64</td>\n",
       "      <td>2015</td>\n",
       "    </tr>\n",
       "    <tr>\n",
       "      <th>4</th>\n",
       "      <td>qaPSbg690KaX5av6xsSV4Q</td>\n",
       "      <td>0</td>\n",
       "      <td>0.0</td>\n",
       "      <td>IWinoppaEcMt5DrreAUR0Q</td>\n",
       "      <td>1.0</td>\n",
       "      <td>4.0</td>\n",
       "      <td>U2sN2-HGvh27FyXKFlvkBg</td>\n",
       "      <td>2013</td>\n",
       "      <td>5</td>\n",
       "      <td>Tuesday</td>\n",
       "      <td>...</td>\n",
       "      <td>Songbird Coffee &amp; Tea House</td>\n",
       "      <td>136</td>\n",
       "      <td>4.5</td>\n",
       "      <td>AZ</td>\n",
       "      <td>Others</td>\n",
       "      <td>3.22</td>\n",
       "      <td>763</td>\n",
       "      <td>398</td>\n",
       "      <td>1264</td>\n",
       "      <td>2006</td>\n",
       "    </tr>\n",
       "  </tbody>\n",
       "</table>\n",
       "<p>5 rows × 42 columns</p>\n",
       "</div>"
      ],
      "text/plain": [
       "              business_id  review_cool  review_funny               review_id  \\\n",
       "0  qx6WhZ42eDKmBchZDax4dQ            0           0.0  Amo5gZBvCuPc_tZNpHwtsA   \n",
       "1  EIL41z-hvVCeYHqfA9PyWQ            1           0.0  vzMkIQm34QWBCYaHdV-2mQ   \n",
       "2  vhIJ91MDgUuk4Cr9Kpj1Nw            0           0.0  p9U8-Bj9tFBqHa-wgaDKJg   \n",
       "3  xS5HGqgk0KY2jFWU-l_nrA            0           0.0  RKGH2ZQHyBNgJwQ84lKMFg   \n",
       "4  qaPSbg690KaX5av6xsSV4Q            0           0.0  IWinoppaEcMt5DrreAUR0Q   \n",
       "\n",
       "   review_stars  review_useful                 user_id  review_year  \\\n",
       "0           5.0            1.0  DzZ7piLBF-WsJxqosfJgtA         2017   \n",
       "1           5.0            1.0  jAVtSgE5L-Dt6_I5FIiVGA         2017   \n",
       "2           1.0            2.0  1BcNXW9_Y16TIofPVpFqIA         2015   \n",
       "3           4.0            0.0  pHKISjytTmP0LrP952_32w         2018   \n",
       "4           1.0            4.0  U2sN2-HGvh27FyXKFlvkBg         2013   \n",
       "\n",
       "   review_month review_weekday      ...                              name  \\\n",
       "0             3         Monday      ...           Casanova Brothers Pizza   \n",
       "1             9      Wednesday      ...                        EarlyBaker   \n",
       "2             7       Thursday      ...                      Jimmy John's   \n",
       "3             9        Tuesday      ...                      The Covenant   \n",
       "4             5        Tuesday      ...       Songbird Coffee & Tea House   \n",
       "\n",
       "  bus_review_count bus_stars state                  cuisine  \\\n",
       "0              943       4.5    AZ                  Italian   \n",
       "1              184       4.5    AZ  American, Mediterranean   \n",
       "2              130       3.0    AZ                   Others   \n",
       "3              309       4.0    AZ                 American   \n",
       "4              136       4.5    AZ                   Others   \n",
       "\n",
       "  user_average_stars cool user_review_count useful yelping_since  \n",
       "0               4.40    0                 5      2          2012  \n",
       "1               4.32   12                33     15          2015  \n",
       "2               3.30  104               142    283          2009  \n",
       "3               4.35   22               201     64          2015  \n",
       "4               3.22  763               398   1264          2006  \n",
       "\n",
       "[5 rows x 42 columns]"
      ]
     },
     "execution_count": 957,
     "metadata": {},
     "output_type": "execute_result"
    }
   ],
   "source": [
    "df_merged.head()"
   ]
  },
  {
   "cell_type": "code",
   "execution_count": 958,
   "metadata": {},
   "outputs": [
    {
     "data": {
      "text/plain": [
       "301731"
      ]
     },
     "execution_count": 958,
     "metadata": {},
     "output_type": "execute_result"
    }
   ],
   "source": [
    "len(df_merged)"
   ]
  },
  {
   "cell_type": "code",
   "execution_count": 959,
   "metadata": {},
   "outputs": [
    {
     "data": {
      "text/plain": [
       "Index(['business_id', 'review_cool', 'review_funny', 'review_id',\n",
       "       'review_stars', 'review_useful', 'user_id', 'review_year',\n",
       "       'review_month', 'review_weekday', 'attributes_DogsAllowed',\n",
       "       'attributes_DriveThru', 'attributes_GoodForKids',\n",
       "       'attributes_GoodForMeal', 'attributes_HasTV', 'attributes_NoiseLevel',\n",
       "       'attributes_OutdoorSeating', 'attributes_RestaurantsAttire',\n",
       "       'attributes_RestaurantsDelivery', 'attributes_RestaurantsGoodForGroups',\n",
       "       'attributes_RestaurantsPriceRange2',\n",
       "       'attributes_RestaurantsReservations',\n",
       "       'attributes_RestaurantsTableService', 'attributes_RestaurantsTakeOut',\n",
       "       'attributes_Smoking', 'attributes_WheelchairAccessible',\n",
       "       'attributes_WiFi', 'categories', 'city', 'is_open', 'latitude',\n",
       "       'longitude', 'name', 'bus_review_count', 'bus_stars', 'state',\n",
       "       'cuisine', 'user_average_stars', 'cool', 'user_review_count', 'useful',\n",
       "       'yelping_since'],\n",
       "      dtype='object')"
      ]
     },
     "execution_count": 959,
     "metadata": {},
     "output_type": "execute_result"
    }
   ],
   "source": [
    "df_merged.columns"
   ]
  },
  {
   "cell_type": "code",
   "execution_count": 960,
   "metadata": {},
   "outputs": [
    {
     "data": {
      "text/plain": [
       "1509"
      ]
     },
     "execution_count": 960,
     "metadata": {},
     "output_type": "execute_result"
    }
   ],
   "source": [
    "df = df_merged.sample(frac = .005, random_state = 42)\n",
    "len(df)"
   ]
  },
  {
   "cell_type": "code",
   "execution_count": 961,
   "metadata": {},
   "outputs": [],
   "source": [
    "df.to_csv('sample_df.csv')"
   ]
  },
  {
   "cell_type": "code",
   "execution_count": 962,
   "metadata": {},
   "outputs": [
    {
     "data": {
      "text/html": [
       "<div>\n",
       "<style scoped>\n",
       "    .dataframe tbody tr th:only-of-type {\n",
       "        vertical-align: middle;\n",
       "    }\n",
       "\n",
       "    .dataframe tbody tr th {\n",
       "        vertical-align: top;\n",
       "    }\n",
       "\n",
       "    .dataframe thead th {\n",
       "        text-align: right;\n",
       "    }\n",
       "</style>\n",
       "<table border=\"1\" class=\"dataframe\">\n",
       "  <thead>\n",
       "    <tr style=\"text-align: right;\">\n",
       "      <th></th>\n",
       "      <th>Unnamed: 0</th>\n",
       "      <th>__aKnGBedQ51_hEc3D9ARw</th>\n",
       "      <th>_8AlKWBLY9F9zX8siTOr9A</th>\n",
       "      <th>_9vGmNrEcLWFOnUzeUdfag</th>\n",
       "      <th>_DiGwfdiH913E4LURwb2qg</th>\n",
       "      <th>_lD9Y_0OfzZjfz5s-FVwqQ</th>\n",
       "      <th>_lywz7Hllngj466MZpNDkg</th>\n",
       "      <th>_MVSmAYSl4RkgXBg5e8JaQ</th>\n",
       "      <th>_OoQ31fIoy3dK96rP6vtFQ</th>\n",
       "      <th>_R2r4SlngDt9X2K1UZyWXw</th>\n",
       "      <th>...</th>\n",
       "      <th>-yQHIYKXH3HAdhh1W52OMQ</th>\n",
       "      <th>-_NEFA2va3jrpU8xKFGuxA</th>\n",
       "      <th>-FLnsWAa4AGEW4NgE8Fqew</th>\n",
       "      <th>-eFgzQuE3mKYuegdC2bhAQ</th>\n",
       "      <th>-F5mm0-YeCI7viSiOwVAAw</th>\n",
       "      <th>-v8Z3mdbbPs1ljLziHr2DA</th>\n",
       "      <th>-Ht7HiGBox8lS1Y8IPjO8g</th>\n",
       "      <th>-jKBFjNTbiafSdunQy6dlQ</th>\n",
       "      <th>-oSII3bw90cvyLmgsHgmpg</th>\n",
       "      <th>Grand Total</th>\n",
       "    </tr>\n",
       "  </thead>\n",
       "  <tbody>\n",
       "    <tr>\n",
       "      <th>0</th>\n",
       "      <td>NaN</td>\n",
       "      <td>Others</td>\n",
       "      <td>Mediterranean</td>\n",
       "      <td>Others</td>\n",
       "      <td>Others</td>\n",
       "      <td>Mediterranean</td>\n",
       "      <td>Others</td>\n",
       "      <td>Others</td>\n",
       "      <td>Mexican</td>\n",
       "      <td>Others</td>\n",
       "      <td>...</td>\n",
       "      <td>American</td>\n",
       "      <td>Mexican</td>\n",
       "      <td>American</td>\n",
       "      <td>Others</td>\n",
       "      <td>Others</td>\n",
       "      <td>Others</td>\n",
       "      <td>American</td>\n",
       "      <td>Asian Fusion</td>\n",
       "      <td>Others</td>\n",
       "      <td>NaN</td>\n",
       "    </tr>\n",
       "    <tr>\n",
       "      <th>1</th>\n",
       "      <td>__coGeYC9iki1e9MVyOvew</td>\n",
       "      <td>NaN</td>\n",
       "      <td>NaN</td>\n",
       "      <td>NaN</td>\n",
       "      <td>NaN</td>\n",
       "      <td>NaN</td>\n",
       "      <td>NaN</td>\n",
       "      <td>NaN</td>\n",
       "      <td>NaN</td>\n",
       "      <td>NaN</td>\n",
       "      <td>...</td>\n",
       "      <td>NaN</td>\n",
       "      <td>NaN</td>\n",
       "      <td>NaN</td>\n",
       "      <td>NaN</td>\n",
       "      <td>NaN</td>\n",
       "      <td>NaN</td>\n",
       "      <td>NaN</td>\n",
       "      <td>NaN</td>\n",
       "      <td>NaN</td>\n",
       "      <td>3.0</td>\n",
       "    </tr>\n",
       "    <tr>\n",
       "      <th>2</th>\n",
       "      <td>_5uou8HYhMzQKPgVfGCE4g</td>\n",
       "      <td>NaN</td>\n",
       "      <td>NaN</td>\n",
       "      <td>NaN</td>\n",
       "      <td>NaN</td>\n",
       "      <td>NaN</td>\n",
       "      <td>NaN</td>\n",
       "      <td>NaN</td>\n",
       "      <td>NaN</td>\n",
       "      <td>NaN</td>\n",
       "      <td>...</td>\n",
       "      <td>NaN</td>\n",
       "      <td>NaN</td>\n",
       "      <td>NaN</td>\n",
       "      <td>NaN</td>\n",
       "      <td>NaN</td>\n",
       "      <td>NaN</td>\n",
       "      <td>NaN</td>\n",
       "      <td>NaN</td>\n",
       "      <td>NaN</td>\n",
       "      <td>5.0</td>\n",
       "    </tr>\n",
       "    <tr>\n",
       "      <th>3</th>\n",
       "      <td>_9fclqNmGTvGLhjWWHx39w</td>\n",
       "      <td>NaN</td>\n",
       "      <td>NaN</td>\n",
       "      <td>NaN</td>\n",
       "      <td>NaN</td>\n",
       "      <td>NaN</td>\n",
       "      <td>NaN</td>\n",
       "      <td>NaN</td>\n",
       "      <td>NaN</td>\n",
       "      <td>NaN</td>\n",
       "      <td>...</td>\n",
       "      <td>NaN</td>\n",
       "      <td>NaN</td>\n",
       "      <td>NaN</td>\n",
       "      <td>NaN</td>\n",
       "      <td>NaN</td>\n",
       "      <td>NaN</td>\n",
       "      <td>NaN</td>\n",
       "      <td>NaN</td>\n",
       "      <td>NaN</td>\n",
       "      <td>5.0</td>\n",
       "    </tr>\n",
       "    <tr>\n",
       "      <th>4</th>\n",
       "      <td>_A7WIAi1PYfrH72Hvt03bQ</td>\n",
       "      <td>NaN</td>\n",
       "      <td>NaN</td>\n",
       "      <td>NaN</td>\n",
       "      <td>NaN</td>\n",
       "      <td>NaN</td>\n",
       "      <td>NaN</td>\n",
       "      <td>NaN</td>\n",
       "      <td>NaN</td>\n",
       "      <td>NaN</td>\n",
       "      <td>...</td>\n",
       "      <td>NaN</td>\n",
       "      <td>NaN</td>\n",
       "      <td>NaN</td>\n",
       "      <td>NaN</td>\n",
       "      <td>NaN</td>\n",
       "      <td>NaN</td>\n",
       "      <td>NaN</td>\n",
       "      <td>NaN</td>\n",
       "      <td>NaN</td>\n",
       "      <td>2.0</td>\n",
       "    </tr>\n",
       "  </tbody>\n",
       "</table>\n",
       "<p>5 rows × 967 columns</p>\n",
       "</div>"
      ],
      "text/plain": [
       "               Unnamed: 0 __aKnGBedQ51_hEc3D9ARw _8AlKWBLY9F9zX8siTOr9A  \\\n",
       "0                     NaN                 Others          Mediterranean   \n",
       "1  __coGeYC9iki1e9MVyOvew                    NaN                    NaN   \n",
       "2  _5uou8HYhMzQKPgVfGCE4g                    NaN                    NaN   \n",
       "3  _9fclqNmGTvGLhjWWHx39w                    NaN                    NaN   \n",
       "4  _A7WIAi1PYfrH72Hvt03bQ                    NaN                    NaN   \n",
       "\n",
       "  _9vGmNrEcLWFOnUzeUdfag _DiGwfdiH913E4LURwb2qg _lD9Y_0OfzZjfz5s-FVwqQ  \\\n",
       "0                 Others                 Others          Mediterranean   \n",
       "1                    NaN                    NaN                    NaN   \n",
       "2                    NaN                    NaN                    NaN   \n",
       "3                    NaN                    NaN                    NaN   \n",
       "4                    NaN                    NaN                    NaN   \n",
       "\n",
       "  _lywz7Hllngj466MZpNDkg _MVSmAYSl4RkgXBg5e8JaQ _OoQ31fIoy3dK96rP6vtFQ  \\\n",
       "0                 Others                 Others                Mexican   \n",
       "1                    NaN                    NaN                    NaN   \n",
       "2                    NaN                    NaN                    NaN   \n",
       "3                    NaN                    NaN                    NaN   \n",
       "4                    NaN                    NaN                    NaN   \n",
       "\n",
       "  _R2r4SlngDt9X2K1UZyWXw     ...     -yQHIYKXH3HAdhh1W52OMQ  \\\n",
       "0                 Others     ...                   American   \n",
       "1                    NaN     ...                        NaN   \n",
       "2                    NaN     ...                        NaN   \n",
       "3                    NaN     ...                        NaN   \n",
       "4                    NaN     ...                        NaN   \n",
       "\n",
       "  -_NEFA2va3jrpU8xKFGuxA -FLnsWAa4AGEW4NgE8Fqew -eFgzQuE3mKYuegdC2bhAQ  \\\n",
       "0                Mexican               American                 Others   \n",
       "1                    NaN                    NaN                    NaN   \n",
       "2                    NaN                    NaN                    NaN   \n",
       "3                    NaN                    NaN                    NaN   \n",
       "4                    NaN                    NaN                    NaN   \n",
       "\n",
       "  -F5mm0-YeCI7viSiOwVAAw -v8Z3mdbbPs1ljLziHr2DA -Ht7HiGBox8lS1Y8IPjO8g  \\\n",
       "0                 Others                 Others               American   \n",
       "1                    NaN                    NaN                    NaN   \n",
       "2                    NaN                    NaN                    NaN   \n",
       "3                    NaN                    NaN                    NaN   \n",
       "4                    NaN                    NaN                    NaN   \n",
       "\n",
       "  -jKBFjNTbiafSdunQy6dlQ -oSII3bw90cvyLmgsHgmpg Grand Total  \n",
       "0           Asian Fusion                 Others         NaN  \n",
       "1                    NaN                    NaN         3.0  \n",
       "2                    NaN                    NaN         5.0  \n",
       "3                    NaN                    NaN         5.0  \n",
       "4                    NaN                    NaN         2.0  \n",
       "\n",
       "[5 rows x 967 columns]"
      ]
     },
     "execution_count": 962,
     "metadata": {},
     "output_type": "execute_result"
    }
   ],
   "source": [
    "df = pd.read_csv('sample1.csv', skiprows = 1, low_memory = False)\n",
    "df.head()"
   ]
  },
  {
   "cell_type": "code",
   "execution_count": 963,
   "metadata": {},
   "outputs": [
    {
     "data": {
      "text/html": [
       "<div>\n",
       "<style scoped>\n",
       "    .dataframe tbody tr th:only-of-type {\n",
       "        vertical-align: middle;\n",
       "    }\n",
       "\n",
       "    .dataframe tbody tr th {\n",
       "        vertical-align: top;\n",
       "    }\n",
       "\n",
       "    .dataframe thead th {\n",
       "        text-align: right;\n",
       "    }\n",
       "</style>\n",
       "<table border=\"1\" class=\"dataframe\">\n",
       "  <thead>\n",
       "    <tr style=\"text-align: right;\">\n",
       "      <th></th>\n",
       "      <th>user_id</th>\n",
       "      <th>__aKnGBedQ51_hEc3D9ARw</th>\n",
       "      <th>_8AlKWBLY9F9zX8siTOr9A</th>\n",
       "      <th>_9vGmNrEcLWFOnUzeUdfag</th>\n",
       "      <th>_DiGwfdiH913E4LURwb2qg</th>\n",
       "      <th>_lD9Y_0OfzZjfz5s-FVwqQ</th>\n",
       "      <th>_lywz7Hllngj466MZpNDkg</th>\n",
       "      <th>_MVSmAYSl4RkgXBg5e8JaQ</th>\n",
       "      <th>_OoQ31fIoy3dK96rP6vtFQ</th>\n",
       "      <th>_R2r4SlngDt9X2K1UZyWXw</th>\n",
       "      <th>...</th>\n",
       "      <th>-yQHIYKXH3HAdhh1W52OMQ</th>\n",
       "      <th>-_NEFA2va3jrpU8xKFGuxA</th>\n",
       "      <th>-FLnsWAa4AGEW4NgE8Fqew</th>\n",
       "      <th>-eFgzQuE3mKYuegdC2bhAQ</th>\n",
       "      <th>-F5mm0-YeCI7viSiOwVAAw</th>\n",
       "      <th>-v8Z3mdbbPs1ljLziHr2DA</th>\n",
       "      <th>-Ht7HiGBox8lS1Y8IPjO8g</th>\n",
       "      <th>-jKBFjNTbiafSdunQy6dlQ</th>\n",
       "      <th>-oSII3bw90cvyLmgsHgmpg</th>\n",
       "      <th>Grand Total</th>\n",
       "    </tr>\n",
       "  </thead>\n",
       "  <tbody>\n",
       "    <tr>\n",
       "      <th>0</th>\n",
       "      <td>NaN</td>\n",
       "      <td>Others</td>\n",
       "      <td>Mediterranean</td>\n",
       "      <td>Others</td>\n",
       "      <td>Others</td>\n",
       "      <td>Mediterranean</td>\n",
       "      <td>Others</td>\n",
       "      <td>Others</td>\n",
       "      <td>Mexican</td>\n",
       "      <td>Others</td>\n",
       "      <td>...</td>\n",
       "      <td>American</td>\n",
       "      <td>Mexican</td>\n",
       "      <td>American</td>\n",
       "      <td>Others</td>\n",
       "      <td>Others</td>\n",
       "      <td>Others</td>\n",
       "      <td>American</td>\n",
       "      <td>Asian Fusion</td>\n",
       "      <td>Others</td>\n",
       "      <td>NaN</td>\n",
       "    </tr>\n",
       "    <tr>\n",
       "      <th>1</th>\n",
       "      <td>__coGeYC9iki1e9MVyOvew</td>\n",
       "      <td>NaN</td>\n",
       "      <td>NaN</td>\n",
       "      <td>NaN</td>\n",
       "      <td>NaN</td>\n",
       "      <td>NaN</td>\n",
       "      <td>NaN</td>\n",
       "      <td>NaN</td>\n",
       "      <td>NaN</td>\n",
       "      <td>NaN</td>\n",
       "      <td>...</td>\n",
       "      <td>NaN</td>\n",
       "      <td>NaN</td>\n",
       "      <td>NaN</td>\n",
       "      <td>NaN</td>\n",
       "      <td>NaN</td>\n",
       "      <td>NaN</td>\n",
       "      <td>NaN</td>\n",
       "      <td>NaN</td>\n",
       "      <td>NaN</td>\n",
       "      <td>3.0</td>\n",
       "    </tr>\n",
       "    <tr>\n",
       "      <th>2</th>\n",
       "      <td>_5uou8HYhMzQKPgVfGCE4g</td>\n",
       "      <td>NaN</td>\n",
       "      <td>NaN</td>\n",
       "      <td>NaN</td>\n",
       "      <td>NaN</td>\n",
       "      <td>NaN</td>\n",
       "      <td>NaN</td>\n",
       "      <td>NaN</td>\n",
       "      <td>NaN</td>\n",
       "      <td>NaN</td>\n",
       "      <td>...</td>\n",
       "      <td>NaN</td>\n",
       "      <td>NaN</td>\n",
       "      <td>NaN</td>\n",
       "      <td>NaN</td>\n",
       "      <td>NaN</td>\n",
       "      <td>NaN</td>\n",
       "      <td>NaN</td>\n",
       "      <td>NaN</td>\n",
       "      <td>NaN</td>\n",
       "      <td>5.0</td>\n",
       "    </tr>\n",
       "    <tr>\n",
       "      <th>3</th>\n",
       "      <td>_9fclqNmGTvGLhjWWHx39w</td>\n",
       "      <td>NaN</td>\n",
       "      <td>NaN</td>\n",
       "      <td>NaN</td>\n",
       "      <td>NaN</td>\n",
       "      <td>NaN</td>\n",
       "      <td>NaN</td>\n",
       "      <td>NaN</td>\n",
       "      <td>NaN</td>\n",
       "      <td>NaN</td>\n",
       "      <td>...</td>\n",
       "      <td>NaN</td>\n",
       "      <td>NaN</td>\n",
       "      <td>NaN</td>\n",
       "      <td>NaN</td>\n",
       "      <td>NaN</td>\n",
       "      <td>NaN</td>\n",
       "      <td>NaN</td>\n",
       "      <td>NaN</td>\n",
       "      <td>NaN</td>\n",
       "      <td>5.0</td>\n",
       "    </tr>\n",
       "    <tr>\n",
       "      <th>4</th>\n",
       "      <td>_A7WIAi1PYfrH72Hvt03bQ</td>\n",
       "      <td>NaN</td>\n",
       "      <td>NaN</td>\n",
       "      <td>NaN</td>\n",
       "      <td>NaN</td>\n",
       "      <td>NaN</td>\n",
       "      <td>NaN</td>\n",
       "      <td>NaN</td>\n",
       "      <td>NaN</td>\n",
       "      <td>NaN</td>\n",
       "      <td>...</td>\n",
       "      <td>NaN</td>\n",
       "      <td>NaN</td>\n",
       "      <td>NaN</td>\n",
       "      <td>NaN</td>\n",
       "      <td>NaN</td>\n",
       "      <td>NaN</td>\n",
       "      <td>NaN</td>\n",
       "      <td>NaN</td>\n",
       "      <td>NaN</td>\n",
       "      <td>2.0</td>\n",
       "    </tr>\n",
       "  </tbody>\n",
       "</table>\n",
       "<p>5 rows × 967 columns</p>\n",
       "</div>"
      ],
      "text/plain": [
       "                  user_id __aKnGBedQ51_hEc3D9ARw _8AlKWBLY9F9zX8siTOr9A  \\\n",
       "0                     NaN                 Others          Mediterranean   \n",
       "1  __coGeYC9iki1e9MVyOvew                    NaN                    NaN   \n",
       "2  _5uou8HYhMzQKPgVfGCE4g                    NaN                    NaN   \n",
       "3  _9fclqNmGTvGLhjWWHx39w                    NaN                    NaN   \n",
       "4  _A7WIAi1PYfrH72Hvt03bQ                    NaN                    NaN   \n",
       "\n",
       "  _9vGmNrEcLWFOnUzeUdfag _DiGwfdiH913E4LURwb2qg _lD9Y_0OfzZjfz5s-FVwqQ  \\\n",
       "0                 Others                 Others          Mediterranean   \n",
       "1                    NaN                    NaN                    NaN   \n",
       "2                    NaN                    NaN                    NaN   \n",
       "3                    NaN                    NaN                    NaN   \n",
       "4                    NaN                    NaN                    NaN   \n",
       "\n",
       "  _lywz7Hllngj466MZpNDkg _MVSmAYSl4RkgXBg5e8JaQ _OoQ31fIoy3dK96rP6vtFQ  \\\n",
       "0                 Others                 Others                Mexican   \n",
       "1                    NaN                    NaN                    NaN   \n",
       "2                    NaN                    NaN                    NaN   \n",
       "3                    NaN                    NaN                    NaN   \n",
       "4                    NaN                    NaN                    NaN   \n",
       "\n",
       "  _R2r4SlngDt9X2K1UZyWXw     ...     -yQHIYKXH3HAdhh1W52OMQ  \\\n",
       "0                 Others     ...                   American   \n",
       "1                    NaN     ...                        NaN   \n",
       "2                    NaN     ...                        NaN   \n",
       "3                    NaN     ...                        NaN   \n",
       "4                    NaN     ...                        NaN   \n",
       "\n",
       "  -_NEFA2va3jrpU8xKFGuxA -FLnsWAa4AGEW4NgE8Fqew -eFgzQuE3mKYuegdC2bhAQ  \\\n",
       "0                Mexican               American                 Others   \n",
       "1                    NaN                    NaN                    NaN   \n",
       "2                    NaN                    NaN                    NaN   \n",
       "3                    NaN                    NaN                    NaN   \n",
       "4                    NaN                    NaN                    NaN   \n",
       "\n",
       "  -F5mm0-YeCI7viSiOwVAAw -v8Z3mdbbPs1ljLziHr2DA -Ht7HiGBox8lS1Y8IPjO8g  \\\n",
       "0                 Others                 Others               American   \n",
       "1                    NaN                    NaN                    NaN   \n",
       "2                    NaN                    NaN                    NaN   \n",
       "3                    NaN                    NaN                    NaN   \n",
       "4                    NaN                    NaN                    NaN   \n",
       "\n",
       "  -jKBFjNTbiafSdunQy6dlQ -oSII3bw90cvyLmgsHgmpg Grand Total  \n",
       "0           Asian Fusion                 Others         NaN  \n",
       "1                    NaN                    NaN         3.0  \n",
       "2                    NaN                    NaN         5.0  \n",
       "3                    NaN                    NaN         5.0  \n",
       "4                    NaN                    NaN         2.0  \n",
       "\n",
       "[5 rows x 967 columns]"
      ]
     },
     "execution_count": 963,
     "metadata": {},
     "output_type": "execute_result"
    }
   ],
   "source": [
    "df = df.rename(columns = {df.columns[0]:'user_id'})\n",
    "df.head()"
   ]
  },
  {
   "cell_type": "code",
   "execution_count": 964,
   "metadata": {},
   "outputs": [
    {
     "data": {
      "text/html": [
       "<div>\n",
       "<style scoped>\n",
       "    .dataframe tbody tr th:only-of-type {\n",
       "        vertical-align: middle;\n",
       "    }\n",
       "\n",
       "    .dataframe tbody tr th {\n",
       "        vertical-align: top;\n",
       "    }\n",
       "\n",
       "    .dataframe thead th {\n",
       "        text-align: right;\n",
       "    }\n",
       "</style>\n",
       "<table border=\"1\" class=\"dataframe\">\n",
       "  <thead>\n",
       "    <tr style=\"text-align: right;\">\n",
       "      <th></th>\n",
       "      <th>attribute</th>\n",
       "      <th>type</th>\n",
       "      <th>value</th>\n",
       "    </tr>\n",
       "  </thead>\n",
       "  <tbody>\n",
       "    <tr>\n",
       "      <th>0</th>\n",
       "      <td>smoking</td>\n",
       "      <td>no</td>\n",
       "      <td>0</td>\n",
       "    </tr>\n",
       "    <tr>\n",
       "      <th>1</th>\n",
       "      <td>smoking</td>\n",
       "      <td>outdoor</td>\n",
       "      <td>1</td>\n",
       "    </tr>\n",
       "    <tr>\n",
       "      <th>2</th>\n",
       "      <td>dress</td>\n",
       "      <td>casual</td>\n",
       "      <td>1</td>\n",
       "    </tr>\n",
       "    <tr>\n",
       "      <th>3</th>\n",
       "      <td>dress</td>\n",
       "      <td>dressy</td>\n",
       "      <td>2</td>\n",
       "    </tr>\n",
       "    <tr>\n",
       "      <th>4</th>\n",
       "      <td>noise</td>\n",
       "      <td>quiet</td>\n",
       "      <td>0</td>\n",
       "    </tr>\n",
       "    <tr>\n",
       "      <th>5</th>\n",
       "      <td>noise</td>\n",
       "      <td>average</td>\n",
       "      <td>1</td>\n",
       "    </tr>\n",
       "    <tr>\n",
       "      <th>6</th>\n",
       "      <td>noise</td>\n",
       "      <td>loud</td>\n",
       "      <td>2</td>\n",
       "    </tr>\n",
       "    <tr>\n",
       "      <th>7</th>\n",
       "      <td>noise</td>\n",
       "      <td>very loud</td>\n",
       "      <td>3</td>\n",
       "    </tr>\n",
       "    <tr>\n",
       "      <th>8</th>\n",
       "      <td>cuisine</td>\n",
       "      <td>others</td>\n",
       "      <td>0</td>\n",
       "    </tr>\n",
       "    <tr>\n",
       "      <th>9</th>\n",
       "      <td>cuisine</td>\n",
       "      <td>American</td>\n",
       "      <td>1</td>\n",
       "    </tr>\n",
       "    <tr>\n",
       "      <th>10</th>\n",
       "      <td>cuisine</td>\n",
       "      <td>Mexican</td>\n",
       "      <td>2</td>\n",
       "    </tr>\n",
       "    <tr>\n",
       "      <th>11</th>\n",
       "      <td>cuisine</td>\n",
       "      <td>Italian</td>\n",
       "      <td>3</td>\n",
       "    </tr>\n",
       "    <tr>\n",
       "      <th>12</th>\n",
       "      <td>cuisine</td>\n",
       "      <td>Asian Fusion</td>\n",
       "      <td>4</td>\n",
       "    </tr>\n",
       "    <tr>\n",
       "      <th>13</th>\n",
       "      <td>cuisine</td>\n",
       "      <td>Mediterranean</td>\n",
       "      <td>5</td>\n",
       "    </tr>\n",
       "    <tr>\n",
       "      <th>14</th>\n",
       "      <td>cuisine</td>\n",
       "      <td>Chinese</td>\n",
       "      <td>6</td>\n",
       "    </tr>\n",
       "    <tr>\n",
       "      <th>15</th>\n",
       "      <td>cuisine</td>\n",
       "      <td>Japanese</td>\n",
       "      <td>7</td>\n",
       "    </tr>\n",
       "    <tr>\n",
       "      <th>16</th>\n",
       "      <td>cuisine</td>\n",
       "      <td>Thai</td>\n",
       "      <td>8</td>\n",
       "    </tr>\n",
       "    <tr>\n",
       "      <th>17</th>\n",
       "      <td>cuisine</td>\n",
       "      <td>Korean</td>\n",
       "      <td>9</td>\n",
       "    </tr>\n",
       "  </tbody>\n",
       "</table>\n",
       "</div>"
      ],
      "text/plain": [
       "   attribute           type  value\n",
       "0    smoking             no      0\n",
       "1    smoking        outdoor      1\n",
       "2      dress         casual      1\n",
       "3      dress         dressy      2\n",
       "4      noise          quiet      0\n",
       "5      noise        average      1\n",
       "6      noise           loud      2\n",
       "7      noise      very loud      3\n",
       "8    cuisine         others      0\n",
       "9    cuisine       American      1\n",
       "10   cuisine        Mexican      2\n",
       "11   cuisine        Italian      3\n",
       "12   cuisine   Asian Fusion      4\n",
       "13   cuisine  Mediterranean      5\n",
       "14   cuisine        Chinese      6\n",
       "15   cuisine       Japanese      7\n",
       "16   cuisine           Thai      8\n",
       "17   cuisine         Korean      9"
      ]
     },
     "execution_count": 964,
     "metadata": {},
     "output_type": "execute_result"
    }
   ],
   "source": [
    "values = pd.read_csv('values.csv')\n",
    "values"
   ]
  },
  {
   "cell_type": "code",
   "execution_count": 965,
   "metadata": {},
   "outputs": [
    {
     "data": {
      "text/html": [
       "<div>\n",
       "<style scoped>\n",
       "    .dataframe tbody tr th:only-of-type {\n",
       "        vertical-align: middle;\n",
       "    }\n",
       "\n",
       "    .dataframe tbody tr th {\n",
       "        vertical-align: top;\n",
       "    }\n",
       "\n",
       "    .dataframe thead th {\n",
       "        text-align: right;\n",
       "    }\n",
       "</style>\n",
       "<table border=\"1\" class=\"dataframe\">\n",
       "  <thead>\n",
       "    <tr style=\"text-align: right;\">\n",
       "      <th></th>\n",
       "      <th>business_id</th>\n",
       "      <th>review_cool</th>\n",
       "      <th>review_funny</th>\n",
       "      <th>review_id</th>\n",
       "      <th>review_stars</th>\n",
       "      <th>review_more_three</th>\n",
       "      <th>review_above_bus_avg</th>\n",
       "      <th>review_useful</th>\n",
       "      <th>user_id</th>\n",
       "      <th>attributes_DogsAllowed</th>\n",
       "      <th>...</th>\n",
       "      <th>bus_name</th>\n",
       "      <th>bus_review_count</th>\n",
       "      <th>bus_stars</th>\n",
       "      <th>state</th>\n",
       "      <th>cuisine_type1</th>\n",
       "      <th>cuisine_type2</th>\n",
       "      <th>cuisine_type3</th>\n",
       "      <th>user_average_stars</th>\n",
       "      <th>bus_cool</th>\n",
       "      <th>user_review_count</th>\n",
       "    </tr>\n",
       "  </thead>\n",
       "  <tbody>\n",
       "    <tr>\n",
       "      <th>0</th>\n",
       "      <td>P2GBKrx7dJg3xeGtuU2K-A</td>\n",
       "      <td>0</td>\n",
       "      <td>0</td>\n",
       "      <td>Uv2YBP5zcN9HsoesVhKWcw</td>\n",
       "      <td>5</td>\n",
       "      <td>1</td>\n",
       "      <td>1</td>\n",
       "      <td>0</td>\n",
       "      <td>6PuMHxTcMlbwbuzL6aG_pA</td>\n",
       "      <td>NaN</td>\n",
       "      <td>...</td>\n",
       "      <td>Bluewater Grill</td>\n",
       "      <td>645</td>\n",
       "      <td>4.0</td>\n",
       "      <td>AZ</td>\n",
       "      <td>1</td>\n",
       "      <td>NaN</td>\n",
       "      <td>NaN</td>\n",
       "      <td>3.38</td>\n",
       "      <td>1</td>\n",
       "      <td>19</td>\n",
       "    </tr>\n",
       "    <tr>\n",
       "      <th>1</th>\n",
       "      <td>UotZUkpcI0p2J8RUAD36Ng</td>\n",
       "      <td>0</td>\n",
       "      <td>0</td>\n",
       "      <td>KJN1vmoSQIt4BBAA2YBG1Q</td>\n",
       "      <td>5</td>\n",
       "      <td>1</td>\n",
       "      <td>1</td>\n",
       "      <td>0</td>\n",
       "      <td>eBJke4QbwIRaj6IEcIfmQQ</td>\n",
       "      <td>0.0</td>\n",
       "      <td>...</td>\n",
       "      <td>Second Story Restaurant &amp; Liquor Bar</td>\n",
       "      <td>459</td>\n",
       "      <td>4.5</td>\n",
       "      <td>AZ</td>\n",
       "      <td>1</td>\n",
       "      <td>NaN</td>\n",
       "      <td>NaN</td>\n",
       "      <td>2.93</td>\n",
       "      <td>2</td>\n",
       "      <td>27</td>\n",
       "    </tr>\n",
       "    <tr>\n",
       "      <th>2</th>\n",
       "      <td>ot9iwwY_oSzf9VWkEl4XkA</td>\n",
       "      <td>0</td>\n",
       "      <td>0</td>\n",
       "      <td>a4stORZS-GiO0QAZg70W7Q</td>\n",
       "      <td>3</td>\n",
       "      <td>0</td>\n",
       "      <td>1</td>\n",
       "      <td>3</td>\n",
       "      <td>QJI9OSEn6ujRCtrX06vs1w</td>\n",
       "      <td>NaN</td>\n",
       "      <td>...</td>\n",
       "      <td>Papa John's Pizza</td>\n",
       "      <td>22</td>\n",
       "      <td>2.5</td>\n",
       "      <td>AZ</td>\n",
       "      <td>0</td>\n",
       "      <td>NaN</td>\n",
       "      <td>NaN</td>\n",
       "      <td>3.61</td>\n",
       "      <td>10043</td>\n",
       "      <td>1982</td>\n",
       "    </tr>\n",
       "    <tr>\n",
       "      <th>3</th>\n",
       "      <td>LVFcpLkD6iOG8YRlJjLSig</td>\n",
       "      <td>0</td>\n",
       "      <td>1</td>\n",
       "      <td>pfg_O3LtVjkc7qRegCKBCg</td>\n",
       "      <td>4</td>\n",
       "      <td>1</td>\n",
       "      <td>1</td>\n",
       "      <td>1</td>\n",
       "      <td>l0uRV3nGEroXqsPypD4qdQ</td>\n",
       "      <td>NaN</td>\n",
       "      <td>...</td>\n",
       "      <td>Flicka's Baja Cantina</td>\n",
       "      <td>88</td>\n",
       "      <td>3.5</td>\n",
       "      <td>AZ</td>\n",
       "      <td>2</td>\n",
       "      <td>NaN</td>\n",
       "      <td>NaN</td>\n",
       "      <td>3.85</td>\n",
       "      <td>155</td>\n",
       "      <td>325</td>\n",
       "    </tr>\n",
       "    <tr>\n",
       "      <th>4</th>\n",
       "      <td>SmuBKELZUq--cqXvKVZnpg</td>\n",
       "      <td>0</td>\n",
       "      <td>0</td>\n",
       "      <td>CSiJedwiZ_1m1ziH0lObyQ</td>\n",
       "      <td>1</td>\n",
       "      <td>0</td>\n",
       "      <td>0</td>\n",
       "      <td>0</td>\n",
       "      <td>OgJKswDMHhUMUCGHW4j7Pg</td>\n",
       "      <td>NaN</td>\n",
       "      <td>...</td>\n",
       "      <td>Dairy Queen - Orange Julius</td>\n",
       "      <td>32</td>\n",
       "      <td>2.5</td>\n",
       "      <td>AZ</td>\n",
       "      <td>0</td>\n",
       "      <td>NaN</td>\n",
       "      <td>NaN</td>\n",
       "      <td>3.30</td>\n",
       "      <td>16</td>\n",
       "      <td>35</td>\n",
       "    </tr>\n",
       "  </tbody>\n",
       "</table>\n",
       "<p>5 rows × 44 columns</p>\n",
       "</div>"
      ],
      "text/plain": [
       "              business_id  review_cool  review_funny               review_id  \\\n",
       "0  P2GBKrx7dJg3xeGtuU2K-A            0             0  Uv2YBP5zcN9HsoesVhKWcw   \n",
       "1  UotZUkpcI0p2J8RUAD36Ng            0             0  KJN1vmoSQIt4BBAA2YBG1Q   \n",
       "2  ot9iwwY_oSzf9VWkEl4XkA            0             0  a4stORZS-GiO0QAZg70W7Q   \n",
       "3  LVFcpLkD6iOG8YRlJjLSig            0             1  pfg_O3LtVjkc7qRegCKBCg   \n",
       "4  SmuBKELZUq--cqXvKVZnpg            0             0  CSiJedwiZ_1m1ziH0lObyQ   \n",
       "\n",
       "   review_stars  review_more_three  review_above_bus_avg  review_useful  \\\n",
       "0             5                  1                     1              0   \n",
       "1             5                  1                     1              0   \n",
       "2             3                  0                     1              3   \n",
       "3             4                  1                     1              1   \n",
       "4             1                  0                     0              0   \n",
       "\n",
       "                  user_id  attributes_DogsAllowed        ...          \\\n",
       "0  6PuMHxTcMlbwbuzL6aG_pA                     NaN        ...           \n",
       "1  eBJke4QbwIRaj6IEcIfmQQ                     0.0        ...           \n",
       "2  QJI9OSEn6ujRCtrX06vs1w                     NaN        ...           \n",
       "3  l0uRV3nGEroXqsPypD4qdQ                     NaN        ...           \n",
       "4  OgJKswDMHhUMUCGHW4j7Pg                     NaN        ...           \n",
       "\n",
       "                               bus_name  bus_review_count  bus_stars  state  \\\n",
       "0                       Bluewater Grill               645        4.0     AZ   \n",
       "1  Second Story Restaurant & Liquor Bar               459        4.5     AZ   \n",
       "2                     Papa John's Pizza                22        2.5     AZ   \n",
       "3                 Flicka's Baja Cantina                88        3.5     AZ   \n",
       "4           Dairy Queen - Orange Julius                32        2.5     AZ   \n",
       "\n",
       "   cuisine_type1  cuisine_type2  cuisine_type3  user_average_stars  bus_cool  \\\n",
       "0              1            NaN            NaN                3.38         1   \n",
       "1              1            NaN            NaN                2.93         2   \n",
       "2              0            NaN            NaN                3.61     10043   \n",
       "3              2            NaN            NaN                3.85       155   \n",
       "4              0            NaN            NaN                3.30        16   \n",
       "\n",
       "   user_review_count  \n",
       "0                 19  \n",
       "1                 27  \n",
       "2               1982  \n",
       "3                325  \n",
       "4                 35  \n",
       "\n",
       "[5 rows x 44 columns]"
      ]
     },
     "execution_count": 965,
     "metadata": {},
     "output_type": "execute_result"
    }
   ],
   "source": [
    "df1 = pd.read_csv('sample_df2.csv')\n",
    "df1.head()"
   ]
  },
  {
   "cell_type": "code",
   "execution_count": 966,
   "metadata": {},
   "outputs": [
    {
     "data": {
      "text/plain": [
       "Index(['business_id', 'review_cool', 'review_funny', 'review_id',\n",
       "       'review_stars', 'review_more_three', 'review_above_bus_avg',\n",
       "       'review_useful', 'user_id', 'attributes_DogsAllowed',\n",
       "       'attributes_DriveThru', 'attributes_GoodForKids', 'good_for_dessert',\n",
       "       'good_for_late_night', 'good_for_lunch', 'good_for_dinner',\n",
       "       'good_for_brunch', 'good_for_breakfast', 'attributes_HasTV',\n",
       "       'attributes_noiseLevel', 'attributes_Seating',\n",
       "       'attributes_RestaurantsAttire', 'attributes_RestaurantsDelivery',\n",
       "       'attributes_RestaurantsGoodForGroups',\n",
       "       'attributes_RestaurantsPriceRange',\n",
       "       'attributes_RestaurantsReservations',\n",
       "       'attributes_RestaurantsTableService', 'attributes_RestaurantsTakeOut',\n",
       "       'attributes_Smoking', 'attributes_WheelchairAccessible',\n",
       "       'attributes_WiFi', 'categories', 'city', 'is_open', 'bus_name',\n",
       "       'bus_review_count', 'bus_stars', 'state', 'cuisine_type1',\n",
       "       'cuisine_type2', 'cuisine_type3', 'user_average_stars', 'bus_cool',\n",
       "       'user_review_count'],\n",
       "      dtype='object')"
      ]
     },
     "execution_count": 966,
     "metadata": {},
     "output_type": "execute_result"
    }
   ],
   "source": [
    "df1.columns"
   ]
  },
  {
   "cell_type": "markdown",
   "metadata": {},
   "source": [
    "#### Lets remove the columns that serve us no purpose moving forward and take care of any null values."
   ]
  },
  {
   "cell_type": "code",
   "execution_count": 967,
   "metadata": {},
   "outputs": [],
   "source": [
    "df1 = df1[['review_more_three', 'attributes_DogsAllowed',\n",
    "       'attributes_DriveThru', 'attributes_GoodForKids', 'good_for_dessert',\n",
    "       'good_for_late_night', 'good_for_lunch', 'good_for_dinner',\n",
    "       'good_for_brunch', 'good_for_breakfast', 'attributes_HasTV',\n",
    "       'attributes_noiseLevel', 'attributes_Seating',\n",
    "       'attributes_RestaurantsAttire', 'attributes_RestaurantsDelivery',\n",
    "       'attributes_RestaurantsGoodForGroups',\n",
    "       'attributes_RestaurantsPriceRange',\n",
    "       'attributes_RestaurantsReservations',\n",
    "       'attributes_RestaurantsTableService', 'attributes_RestaurantsTakeOut',\n",
    "       'attributes_Smoking', 'attributes_WheelchairAccessible',\n",
    "       'attributes_WiFi', 'is_open',\n",
    "       'bus_review_count', 'bus_stars', 'cuisine_type1',\n",
    "       'cuisine_type2', 'cuisine_type3', 'user_average_stars', 'bus_cool',\n",
    "       'user_review_count']]"
   ]
  },
  {
   "cell_type": "code",
   "execution_count": 968,
   "metadata": {},
   "outputs": [
    {
     "data": {
      "text/plain": [
       "review_more_three                         0\n",
       "attributes_DogsAllowed                 1235\n",
       "attributes_DriveThru                   1316\n",
       "attributes_GoodForKids                   63\n",
       "good_for_dessert                        288\n",
       "good_for_late_night                     288\n",
       "good_for_lunch                          288\n",
       "good_for_dinner                         288\n",
       "good_for_brunch                         288\n",
       "good_for_breakfast                      288\n",
       "attributes_HasTV                         86\n",
       "attributes_noiseLevel                   127\n",
       "attributes_Seating                       46\n",
       "attributes_RestaurantsAttire             75\n",
       "attributes_RestaurantsDelivery           45\n",
       "attributes_RestaurantsGoodForGroups      63\n",
       "attributes_RestaurantsPriceRange         10\n",
       "attributes_RestaurantsReservations       55\n",
       "attributes_RestaurantsTableService      844\n",
       "attributes_RestaurantsTakeOut            22\n",
       "attributes_Smoking                     1360\n",
       "attributes_WheelchairAccessible        1086\n",
       "attributes_WiFi                          96\n",
       "is_open                                   0\n",
       "bus_review_count                          0\n",
       "bus_stars                                 0\n",
       "cuisine_type1                             0\n",
       "cuisine_type2                          1465\n",
       "cuisine_type3                          1505\n",
       "user_average_stars                        0\n",
       "bus_cool                                  0\n",
       "user_review_count                         0\n",
       "dtype: int64"
      ]
     },
     "execution_count": 968,
     "metadata": {},
     "output_type": "execute_result"
    }
   ],
   "source": [
    "df1.isnull().sum()"
   ]
  },
  {
   "cell_type": "markdown",
   "metadata": {},
   "source": [
    "#### Lets take care of the null values using median values. We also are going to begin our feature reduction process."
   ]
  },
  {
   "cell_type": "code",
   "execution_count": 969,
   "metadata": {},
   "outputs": [],
   "source": [
    "df1[df1.columns] = df1[df1.columns].apply(pd.to_numeric, errors='coerce')\n",
    "\n",
    "df1 = df1.fillna(df1.median())"
   ]
  },
  {
   "cell_type": "markdown",
   "metadata": {},
   "source": [
    "#### And now to begin building our models for prediction.\n",
    "\n",
    "#### Lets start with setting up the data into a training and test set. "
   ]
  },
  {
   "cell_type": "code",
   "execution_count": 970,
   "metadata": {},
   "outputs": [],
   "source": [
    "# Lets first predict whether someone would give a rating greater than 3.\n",
    "\n",
    "y = df1['review_more_three']\n",
    "X = df1.drop('review_more_three', axis = 1)\n",
    "\n",
    "X_train, X_test, y_train, y_test = train_test_split(X, y, test_size = 0.3) # 70% training and 30% test"
   ]
  },
  {
   "cell_type": "code",
   "execution_count": 971,
   "metadata": {},
   "outputs": [
    {
     "data": {
      "text/plain": [
       "review_more_three                      0\n",
       "attributes_DogsAllowed                 0\n",
       "attributes_DriveThru                   0\n",
       "attributes_GoodForKids                 0\n",
       "good_for_dessert                       0\n",
       "good_for_late_night                    0\n",
       "good_for_lunch                         0\n",
       "good_for_dinner                        0\n",
       "good_for_brunch                        0\n",
       "good_for_breakfast                     0\n",
       "attributes_HasTV                       0\n",
       "attributes_noiseLevel                  0\n",
       "attributes_Seating                     0\n",
       "attributes_RestaurantsAttire           0\n",
       "attributes_RestaurantsDelivery         0\n",
       "attributes_RestaurantsGoodForGroups    0\n",
       "attributes_RestaurantsPriceRange       0\n",
       "attributes_RestaurantsReservations     0\n",
       "attributes_RestaurantsTableService     0\n",
       "attributes_RestaurantsTakeOut          0\n",
       "attributes_Smoking                     0\n",
       "attributes_WheelchairAccessible        0\n",
       "attributes_WiFi                        0\n",
       "is_open                                0\n",
       "bus_review_count                       0\n",
       "bus_stars                              0\n",
       "cuisine_type1                          0\n",
       "cuisine_type2                          0\n",
       "cuisine_type3                          0\n",
       "user_average_stars                     0\n",
       "bus_cool                               0\n",
       "user_review_count                      0\n",
       "dtype: int64"
      ]
     },
     "execution_count": 971,
     "metadata": {},
     "output_type": "execute_result"
    }
   ],
   "source": [
    "df1.isnull().sum()"
   ]
  },
  {
   "cell_type": "markdown",
   "metadata": {},
   "source": [
    "#### Lets simplify things with feature selection methods"
   ]
  },
  {
   "cell_type": "code",
   "execution_count": 972,
   "metadata": {},
   "outputs": [
    {
     "name": "stderr",
     "output_type": "stream",
     "text": [
      "D:\\Anaconda\\lib\\site-packages\\sklearn\\ensemble\\forest.py:246: FutureWarning: The default value of n_estimators will change from 10 in version 0.20 to 100 in 0.22.\n",
      "  \"10 in version 0.20 to 100 in 0.22.\", FutureWarning)\n"
     ]
    },
    {
     "name": "stdout",
     "output_type": "stream",
     "text": [
      "[0.01435224 0.0096229  0.01320668 0.01548386 0.00900459 0.01611748\n",
      " 0.01901435 0.01231226 0.01238836 0.02263887 0.02653193 0.0182602\n",
      " 0.00126698 0.01659974 0.01207488 0.02195762 0.0167935  0.01888892\n",
      " 0.00718304 0.00564273 0.0025948  0.02646332 0.01969158 0.07687929\n",
      " 0.11391039 0.05097869 0.00280341 0.         0.19242139 0.11388507\n",
      " 0.11103096]\n"
     ]
    },
    {
     "data": {
      "image/png": "[encoded data removed]",
      "text/plain": [
       "<Figure size 864x576 with 1 Axes>"
      ]
     },
     "metadata": {},
     "output_type": "display_data"
    }
   ],
   "source": [
    "from sklearn.ensemble import ExtraTreesClassifier\n",
    "import matplotlib.pyplot as plt\n",
    "model = ExtraTreesClassifier()\n",
    "model.fit(X,y)\n",
    "print(model.feature_importances_) #use inbuilt class feature_importances of tree based classifiers\n",
    "#plot graph of feature importances for better visualization\n",
    "feat_importances = pd.Series(model.feature_importances_, index=X.columns)\n",
    "feat_importances.nlargest(10).plot(kind='barh')\n",
    "plt.show()"
   ]
  },
  {
   "cell_type": "markdown",
   "metadata": {},
   "source": [
    "#### Lets begin building our prediction models\n",
    "\n",
    "##### We're going to build multiple models to predict if a user would give a review greater than 3 (meaning they like the business) AND\n",
    "##### if a user would give a review greater than the business' average star rating."
   ]
  },
  {
   "cell_type": "markdown",
   "metadata": {},
   "source": [
    "#### Lets start with predicting if a review will be greater than 3, meaning that they like the business."
   ]
  },
  {
   "cell_type": "code",
   "execution_count": 973,
   "metadata": {},
   "outputs": [
    {
     "data": {
      "text/html": [
       "<div>\n",
       "<style scoped>\n",
       "    .dataframe tbody tr th:only-of-type {\n",
       "        vertical-align: middle;\n",
       "    }\n",
       "\n",
       "    .dataframe tbody tr th {\n",
       "        vertical-align: top;\n",
       "    }\n",
       "\n",
       "    .dataframe thead th {\n",
       "        text-align: right;\n",
       "    }\n",
       "</style>\n",
       "<table border=\"1\" class=\"dataframe\">\n",
       "  <thead>\n",
       "    <tr style=\"text-align: right;\">\n",
       "      <th></th>\n",
       "      <th>review_more_three</th>\n",
       "      <th>attributes_HasTV</th>\n",
       "      <th>attributes_noiseLevel</th>\n",
       "      <th>attributes_RestaurantsDelivery</th>\n",
       "      <th>attributes_RestaurantsPriceRange</th>\n",
       "      <th>bus_review_count</th>\n",
       "      <th>bus_stars</th>\n",
       "      <th>cuisine_type1</th>\n",
       "      <th>user_average_stars</th>\n",
       "      <th>bus_cool</th>\n",
       "      <th>user_review_count</th>\n",
       "    </tr>\n",
       "  </thead>\n",
       "  <tbody>\n",
       "    <tr>\n",
       "      <th>0</th>\n",
       "      <td>1</td>\n",
       "      <td>1.0</td>\n",
       "      <td>1.0</td>\n",
       "      <td>0.0</td>\n",
       "      <td>2.0</td>\n",
       "      <td>645</td>\n",
       "      <td>4.0</td>\n",
       "      <td>1</td>\n",
       "      <td>3.38</td>\n",
       "      <td>1</td>\n",
       "      <td>19</td>\n",
       "    </tr>\n",
       "    <tr>\n",
       "      <th>1</th>\n",
       "      <td>1</td>\n",
       "      <td>1.0</td>\n",
       "      <td>1.0</td>\n",
       "      <td>1.0</td>\n",
       "      <td>2.0</td>\n",
       "      <td>459</td>\n",
       "      <td>4.5</td>\n",
       "      <td>1</td>\n",
       "      <td>2.93</td>\n",
       "      <td>2</td>\n",
       "      <td>27</td>\n",
       "    </tr>\n",
       "    <tr>\n",
       "      <th>2</th>\n",
       "      <td>0</td>\n",
       "      <td>1.0</td>\n",
       "      <td>1.0</td>\n",
       "      <td>1.0</td>\n",
       "      <td>2.0</td>\n",
       "      <td>22</td>\n",
       "      <td>2.5</td>\n",
       "      <td>0</td>\n",
       "      <td>3.61</td>\n",
       "      <td>10043</td>\n",
       "      <td>1982</td>\n",
       "    </tr>\n",
       "    <tr>\n",
       "      <th>3</th>\n",
       "      <td>1</td>\n",
       "      <td>1.0</td>\n",
       "      <td>1.0</td>\n",
       "      <td>0.0</td>\n",
       "      <td>1.0</td>\n",
       "      <td>88</td>\n",
       "      <td>3.5</td>\n",
       "      <td>2</td>\n",
       "      <td>3.85</td>\n",
       "      <td>155</td>\n",
       "      <td>325</td>\n",
       "    </tr>\n",
       "    <tr>\n",
       "      <th>4</th>\n",
       "      <td>0</td>\n",
       "      <td>0.0</td>\n",
       "      <td>1.0</td>\n",
       "      <td>0.0</td>\n",
       "      <td>1.0</td>\n",
       "      <td>32</td>\n",
       "      <td>2.5</td>\n",
       "      <td>0</td>\n",
       "      <td>3.30</td>\n",
       "      <td>16</td>\n",
       "      <td>35</td>\n",
       "    </tr>\n",
       "  </tbody>\n",
       "</table>\n",
       "</div>"
      ],
      "text/plain": [
       "   review_more_three  attributes_HasTV  attributes_noiseLevel  \\\n",
       "0                  1               1.0                    1.0   \n",
       "1                  1               1.0                    1.0   \n",
       "2                  0               1.0                    1.0   \n",
       "3                  1               1.0                    1.0   \n",
       "4                  0               0.0                    1.0   \n",
       "\n",
       "   attributes_RestaurantsDelivery  attributes_RestaurantsPriceRange  \\\n",
       "0                             0.0                               2.0   \n",
       "1                             1.0                               2.0   \n",
       "2                             1.0                               2.0   \n",
       "3                             0.0                               1.0   \n",
       "4                             0.0                               1.0   \n",
       "\n",
       "   bus_review_count  bus_stars  cuisine_type1  user_average_stars  bus_cool  \\\n",
       "0               645        4.0              1                3.38         1   \n",
       "1               459        4.5              1                2.93         2   \n",
       "2                22        2.5              0                3.61     10043   \n",
       "3                88        3.5              2                3.85       155   \n",
       "4                32        2.5              0                3.30        16   \n",
       "\n",
       "   user_review_count  \n",
       "0                 19  \n",
       "1                 27  \n",
       "2               1982  \n",
       "3                325  \n",
       "4                 35  "
      ]
     },
     "execution_count": 973,
     "metadata": {},
     "output_type": "execute_result"
    }
   ],
   "source": [
    "# lets start with creating our test and training sets\n",
    "\n",
    "df2 = df1[['review_more_three', 'attributes_HasTV',\n",
    "       'attributes_noiseLevel', 'attributes_RestaurantsDelivery',\n",
    "       'attributes_RestaurantsPriceRange',\n",
    "       'bus_review_count', 'bus_stars', 'cuisine_type1', 'user_average_stars', 'bus_cool',\n",
    "       'user_review_count']]\n",
    "df2.head()"
   ]
  },
  {
   "cell_type": "code",
   "execution_count": 974,
   "metadata": {},
   "outputs": [
    {
     "data": {
      "text/plain": [
       "review_more_three                   0\n",
       "attributes_HasTV                    0\n",
       "attributes_noiseLevel               0\n",
       "attributes_RestaurantsDelivery      0\n",
       "attributes_RestaurantsPriceRange    0\n",
       "bus_review_count                    0\n",
       "bus_stars                           0\n",
       "cuisine_type1                       0\n",
       "user_average_stars                  0\n",
       "bus_cool                            0\n",
       "user_review_count                   0\n",
       "dtype: int64"
      ]
     },
     "execution_count": 974,
     "metadata": {},
     "output_type": "execute_result"
    }
   ],
   "source": [
    "df2.isnull().sum()"
   ]
  },
  {
   "cell_type": "code",
   "execution_count": 975,
   "metadata": {},
   "outputs": [
    {
     "data": {
      "text/plain": [
       "1509"
      ]
     },
     "execution_count": 975,
     "metadata": {},
     "output_type": "execute_result"
    }
   ],
   "source": [
    "len(df2)"
   ]
  },
  {
   "cell_type": "code",
   "execution_count": 976,
   "metadata": {},
   "outputs": [
    {
     "name": "stderr",
     "output_type": "stream",
     "text": [
      "D:\\Anaconda\\lib\\site-packages\\pandas\\core\\frame.py:3140: SettingWithCopyWarning: \n",
      "A value is trying to be set on a copy of a slice from a DataFrame.\n",
      "Try using .loc[row_indexer,col_indexer] = value instead\n",
      "\n",
      "See the caveats in the documentation: http://pandas.pydata.org/pandas-docs/stable/indexing.html#indexing-view-versus-copy\n",
      "  self[k1] = value[k2]\n"
     ]
    }
   ],
   "source": [
    "df2[df2.columns] = df2[df2.columns].apply(pd.to_numeric, errors='coerce')\n",
    "\n",
    "df2 = df2.fillna(df2.median())"
   ]
  },
  {
   "cell_type": "code",
   "execution_count": 977,
   "metadata": {},
   "outputs": [
    {
     "data": {
      "text/plain": [
       "review_more_three                   0\n",
       "attributes_HasTV                    0\n",
       "attributes_noiseLevel               0\n",
       "attributes_RestaurantsDelivery      0\n",
       "attributes_RestaurantsPriceRange    0\n",
       "bus_review_count                    0\n",
       "bus_stars                           0\n",
       "cuisine_type1                       0\n",
       "user_average_stars                  0\n",
       "bus_cool                            0\n",
       "user_review_count                   0\n",
       "dtype: int64"
      ]
     },
     "execution_count": 977,
     "metadata": {},
     "output_type": "execute_result"
    }
   ],
   "source": [
    "df2.isnull().sum()"
   ]
  },
  {
   "cell_type": "code",
   "execution_count": 978,
   "metadata": {},
   "outputs": [],
   "source": [
    "from sklearn.tree import DecisionTreeClassifier\n",
    "from sklearn.ensemble import AdaBoostClassifier\n",
    "from sklearn.datasets import make_regression\n",
    "from sklearn.model_selection import RandomizedSearchCV\n",
    "from sklearn.neighbors import KNeighborsClassifier\n",
    "from sklearn.metrics import roc_curve, auc\n",
    "from sklearn.model_selection import cross_validate"
   ]
  },
  {
   "cell_type": "markdown",
   "metadata": {},
   "source": [
    "#### Lets create our training and test sets"
   ]
  },
  {
   "cell_type": "code",
   "execution_count": 979,
   "metadata": {},
   "outputs": [],
   "source": [
    "y1 = df2['review_more_three']\n",
    "X1 = df2.drop('review_more_three', axis = 1)"
   ]
  },
  {
   "cell_type": "code",
   "execution_count": 980,
   "metadata": {},
   "outputs": [],
   "source": [
    "X_train1, X_test1, y_train1, y_test1 = train_test_split(X1, y1, test_size = 0.3) # 70% training and 30% test"
   ]
  },
  {
   "cell_type": "markdown",
   "metadata": {},
   "source": [
    "#### Lets begin with a K-Nearest Neighbors Classifier Model"
   ]
  },
  {
   "cell_type": "code",
   "execution_count": 981,
   "metadata": {},
   "outputs": [],
   "source": [
    "#Create KNN Classifier\n",
    "knn3 = KNeighborsClassifier(n_neighbors = 3)\n",
    "\n",
    "#Train the model using the training sets\n",
    "knn3.fit(X_train1, y_train1)\n",
    "\n",
    "#Predict the response for test dataset\n",
    "y_pred = knn3.predict(X_test1)"
   ]
  },
  {
   "cell_type": "markdown",
   "metadata": {},
   "source": [
    "#### Lets fine tune the parameters to get the best results"
   ]
  },
  {
   "cell_type": "code",
   "execution_count": 982,
   "metadata": {},
   "outputs": [
    {
     "data": {
      "text/plain": [
       "KNeighborsClassifier(algorithm='auto', leaf_size=30, metric='minkowski',\n",
       "           metric_params=None, n_jobs=None, n_neighbors=5, p=2,\n",
       "           weights='uniform')"
      ]
     },
     "execution_count": 982,
     "metadata": {},
     "output_type": "execute_result"
    }
   ],
   "source": [
    "knnc = KNeighborsClassifier()\n",
    "knnc.fit(X_train, y_train)"
   ]
  },
  {
   "cell_type": "code",
   "execution_count": 983,
   "metadata": {},
   "outputs": [
    {
     "name": "stdout",
     "output_type": "stream",
     "text": [
      "Accuracy: 0.5938189845474614\n"
     ]
    }
   ],
   "source": [
    "knnc = KNeighborsClassifier(algorithm='auto', leaf_size=30, metric='minkowski',\n",
    "                     metric_params=None, n_jobs=None, n_neighbors=5, p=2,\n",
    "                     weights='uniform')\n",
    "knnc.fit(X_train1, y_train1)\n",
    "y_pred1 = knnc.predict(X_test1)\n",
    "# Model Accuracy, how often is the classifier correct?\n",
    "print(\"Accuracy:\",metrics.accuracy_score(y_test1, y_pred1))"
   ]
  },
  {
   "cell_type": "code",
   "execution_count": 984,
   "metadata": {},
   "outputs": [
    {
     "data": {
      "text/plain": [
       "0.49173246108729984"
      ]
     },
     "execution_count": 984,
     "metadata": {},
     "output_type": "execute_result"
    }
   ],
   "source": [
    "false_positive_rate, true_positive_rate, thresholds = roc_curve(y_test, y_pred1)\n",
    "roc_auc = auc(false_positive_rate, true_positive_rate)\n",
    "roc_auc"
   ]
  },
  {
   "cell_type": "code",
   "execution_count": 985,
   "metadata": {},
   "outputs": [
    {
     "data": {
      "image/png": "[encoded data removed]",
      "text/plain": [
       "<Figure size 864x576 with 1 Axes>"
      ]
     },
     "metadata": {},
     "output_type": "display_data"
    }
   ],
   "source": [
    "neighbors = list(range(1,30))\n",
    "\n",
    "train_results = []\n",
    "test_results = []\n",
    "\n",
    "for n in neighbors:\n",
    "   model = KNeighborsClassifier(n_neighbors=n)\n",
    "   model.fit(X_train1, y_train1)\n",
    "   train_pred = model.predict(X_train1)\n",
    "   false_positive_rate, true_positive_rate, thresholds = roc_curve(y_train1, train_pred)\n",
    "   roc_auc = auc(false_positive_rate, true_positive_rate)\n",
    "   train_results.append(roc_auc)\n",
    "   y_pred = model.predict(X_test1)\n",
    "   false_positive_rate, true_positive_rate, thresholds = roc_curve(y_test1, y_pred)\n",
    "   roc_auc = auc(false_positive_rate, true_positive_rate)\n",
    "   test_results.append(roc_auc)\n",
    "from matplotlib.legend_handler import HandlerLine2D\n",
    "\n",
    "line1, = plt.plot(neighbors, train_results, 'b', label=\"Train AUC\")\n",
    "line2, = plt.plot(neighbors, test_results, 'r', label=\"Test AUC\")\n",
    "plt.legend(handler_map={line1: HandlerLine2D(numpoints=2)})\n",
    "plt.ylabel('AUC score')\n",
    "plt.xlabel('n_neighbors')\n",
    "plt.show()"
   ]
  },
  {
   "cell_type": "code",
   "execution_count": 986,
   "metadata": {},
   "outputs": [
    {
     "data": {
      "image/png": "[encoded data removed]",
      "text/plain": [
       "<Figure size 864x576 with 1 Axes>"
      ]
     },
     "metadata": {},
     "output_type": "display_data"
    }
   ],
   "source": [
    "distances = [1, 2, 3, 4, 5]\n",
    "train_results = []\n",
    "test_results = []\n",
    "for p in distances:\n",
    "   model = KNeighborsClassifier(p=p)\n",
    "   model.fit(X_train1, y_train1)\n",
    "   train_pred = model.predict(X_train1)\n",
    "   false_positive_rate, true_positive_rate, thresholds = roc_curve(y_train1, train_pred)\n",
    "   roc_auc = auc(false_positive_rate, true_positive_rate)\n",
    "   train_results.append(roc_auc)\n",
    "   y_pred = model.predict(X_test1)\n",
    "   false_positive_rate, true_positive_rate, thresholds = roc_curve(y_test1, y_pred)\n",
    "   roc_auc = auc(false_positive_rate, true_positive_rate)\n",
    "   test_results.append(roc_auc)\n",
    "from matplotlib.legend_handler import HandlerLine2D\n",
    "line1, = plt.plot(distances, train_results, 'b', label=\"Train AUC\")\n",
    "line2, = plt.plot(distances, test_results, 'r', label=\"Test AUC\")\n",
    "plt.legend(handler_map={line1: HandlerLine2D(numpoints=2)})\n",
    "plt.ylabel('AUC score')\n",
    "plt.xlabel('p')\n",
    "plt.show()"
   ]
  },
  {
   "cell_type": "markdown",
   "metadata": {},
   "source": [
    "#### Lets create an ADAboost Classifier model"
   ]
  },
  {
   "cell_type": "code",
   "execution_count": 987,
   "metadata": {},
   "outputs": [],
   "source": [
    "crossvalidation = KFold(n_splits = 10,shuffle = True,random_state = 1)\n",
    "ada = AdaBoostClassifier()\n",
    "search_grid = {'n_estimators':[100,200,300],'learning_rate':[.05,.1,.5,1]}\n",
    "search = GridSearchCV(estimator = ada, param_grid = search_grid,scoring = 'accuracy',n_jobs = 1,cv = crossvalidation)"
   ]
  },
  {
   "cell_type": "code",
   "execution_count": 988,
   "metadata": {},
   "outputs": [
    {
     "data": {
      "text/plain": [
       "{'learning_rate': 0.1, 'n_estimators': 300}"
      ]
     },
     "execution_count": 988,
     "metadata": {},
     "output_type": "execute_result"
    }
   ],
   "source": [
    "search.fit(X1, y1)\n",
    "search.best_params_\n",
    "\n",
    "# computationally and time consuming code, for that reason\n",
    "# most common results are:\n",
    "# n_estimators = 300\n",
    "# learning_rate = .1"
   ]
  },
  {
   "cell_type": "code",
   "execution_count": 989,
   "metadata": {},
   "outputs": [
    {
     "data": {
      "text/plain": [
       "0.7614314115308151"
      ]
     },
     "execution_count": 989,
     "metadata": {},
     "output_type": "execute_result"
    }
   ],
   "source": [
    "#create adaboost classifier object\n",
    "\n",
    "abc1 = AdaBoostClassifier(n_estimators = 300, learning_rate = .1, random_state = 1)\n",
    "\n",
    "# Train Adaboost classifier\n",
    "model1 = abc1.fit(X_train1, y_train1)\n",
    "\n",
    "#Predict the response for test dataset\n",
    "y_pred2_abc1 = model1.predict(X_test1)\n",
    "abc1.score(X1, y1)"
   ]
  },
  {
   "cell_type": "code",
   "execution_count": 990,
   "metadata": {},
   "outputs": [
    {
     "data": {
      "text/plain": [
       "array([[ 28, 120],\n",
       "       [ 65, 240]], dtype=int64)"
      ]
     },
     "execution_count": 990,
     "metadata": {},
     "output_type": "execute_result"
    }
   ],
   "source": [
    "confusion_matrix(y_test1, y_pred2)"
   ]
  },
  {
   "cell_type": "markdown",
   "metadata": {},
   "source": [
    "#### Lets create a Support Vector Classifier model"
   ]
  },
  {
   "cell_type": "code",
   "execution_count": 991,
   "metadata": {},
   "outputs": [],
   "source": [
    "# This training process takes too much computational power and freezes more often than not. Not going to be considered for use.\n",
    "\n",
    "#from sklearn.svm import SVC # \"Support Vector Classifier\" \n",
    "#clf1 = SVC(kernel = 'linear')"
   ]
  },
  {
   "cell_type": "code",
   "execution_count": 992,
   "metadata": {},
   "outputs": [],
   "source": [
    "#clf1.fit(X1_train1, y_train1)"
   ]
  },
  {
   "cell_type": "code",
   "execution_count": 993,
   "metadata": {},
   "outputs": [],
   "source": [
    "#ypred3 = clf1.predict(X_test1)\n",
    "#clf1.score(X1, y1)"
   ]
  },
  {
   "cell_type": "markdown",
   "metadata": {},
   "source": [
    "#### Lets create a Logistic Regression"
   ]
  },
  {
   "cell_type": "code",
   "execution_count": 994,
   "metadata": {},
   "outputs": [],
   "source": [
    "from sklearn.linear_model import LogisticRegression"
   ]
  },
  {
   "cell_type": "code",
   "execution_count": 995,
   "metadata": {},
   "outputs": [
    {
     "name": "stderr",
     "output_type": "stream",
     "text": [
      "D:\\Anaconda\\lib\\site-packages\\sklearn\\linear_model\\logistic.py:433: FutureWarning: Default solver will be changed to 'lbfgs' in 0.22. Specify a solver to silence this warning.\n",
      "  FutureWarning)\n"
     ]
    },
    {
     "data": {
      "text/plain": [
       "LogisticRegression(C=1.0, class_weight=None, dual=False, fit_intercept=True,\n",
       "          intercept_scaling=1, max_iter=100, multi_class='warn',\n",
       "          n_jobs=None, penalty='l2', random_state=None, solver='warn',\n",
       "          tol=0.0001, verbose=0, warm_start=False)"
      ]
     },
     "execution_count": 995,
     "metadata": {},
     "output_type": "execute_result"
    }
   ],
   "source": [
    "#create an instance and fit the model \n",
    "lr = LogisticRegression()\n",
    "lr.fit(X_train1, y_train1)"
   ]
  },
  {
   "cell_type": "code",
   "execution_count": 996,
   "metadata": {},
   "outputs": [],
   "source": [
    "y_pred4 = lr.predict(X_test1)"
   ]
  },
  {
   "cell_type": "code",
   "execution_count": 997,
   "metadata": {},
   "outputs": [
    {
     "data": {
      "text/plain": [
       "0.75480450629556"
      ]
     },
     "execution_count": 997,
     "metadata": {},
     "output_type": "execute_result"
    }
   ],
   "source": [
    "lr.score(X1, y1)"
   ]
  },
  {
   "cell_type": "code",
   "execution_count": 998,
   "metadata": {},
   "outputs": [
    {
     "data": {
      "text/plain": [
       "array([[ 53,  95],\n",
       "       [ 20, 285]], dtype=int64)"
      ]
     },
     "execution_count": 998,
     "metadata": {},
     "output_type": "execute_result"
    }
   ],
   "source": [
    "confusion_matrix(y_test1,y_pred4)"
   ]
  },
  {
   "cell_type": "markdown",
   "metadata": {},
   "source": [
    "#### Lets build a Random Forest Classifier"
   ]
  },
  {
   "cell_type": "code",
   "execution_count": 999,
   "metadata": {},
   "outputs": [],
   "source": [
    "from sklearn.ensemble import RandomForestClassifier\n",
    "from sklearn.model_selection import GridSearchCV\n",
    "from sklearn.datasets import make_classification"
   ]
  },
  {
   "cell_type": "code",
   "execution_count": 1000,
   "metadata": {},
   "outputs": [],
   "source": [
    "rfc = RandomForestClassifier()"
   ]
  },
  {
   "cell_type": "code",
   "execution_count": 1001,
   "metadata": {},
   "outputs": [],
   "source": [
    "param_grid = { \n",
    "    'n_estimators': [200,500,700],\n",
    "    'max_features': ['auto', 'sqrt', 'log2']\n",
    "}"
   ]
  },
  {
   "cell_type": "code",
   "execution_count": 1002,
   "metadata": {},
   "outputs": [
    {
     "name": "stdout",
     "output_type": "stream",
     "text": [
      "{'max_features': 'auto', 'n_estimators': 200}\n"
     ]
    }
   ],
   "source": [
    "cv_rfc = GridSearchCV(estimator = rfc, param_grid = param_grid, cv = 5)\n",
    "cv_rfc.fit(X1, y1)\n",
    "print(cv_rfc.best_params_)"
   ]
  },
  {
   "cell_type": "code",
   "execution_count": 1003,
   "metadata": {},
   "outputs": [],
   "source": [
    "rfc = RandomForestClassifier(n_jobs = -1, max_features = 'log2', n_estimators = 500, oob_score = True)\n",
    "\n",
    "#Train the model using the training sets y_pred=clf.predict(X_test)\n",
    "rfc.fit(X_train1, y_train1)\n",
    "\n",
    "y_pred5 = rfc.predict(X_test1)"
   ]
  },
  {
   "cell_type": "code",
   "execution_count": 1004,
   "metadata": {},
   "outputs": [
    {
     "name": "stdout",
     "output_type": "stream",
     "text": [
      "Accuracy: 0.7439293598233996\n"
     ]
    }
   ],
   "source": [
    "print(\"Accuracy:\",metrics.accuracy_score(y_test1, y_pred5))"
   ]
  },
  {
   "cell_type": "code",
   "execution_count": 1005,
   "metadata": {},
   "outputs": [
    {
     "data": {
      "text/plain": [
       "array([[ 74,  74],\n",
       "       [ 42, 263]], dtype=int64)"
      ]
     },
     "execution_count": 1005,
     "metadata": {},
     "output_type": "execute_result"
    }
   ],
   "source": [
    "confusion_matrix(y_test1,y_pred5)"
   ]
  },
  {
   "cell_type": "markdown",
   "metadata": {},
   "source": [
    "#### How about a Decision Tree Classifier?"
   ]
  },
  {
   "cell_type": "code",
   "execution_count": 1006,
   "metadata": {},
   "outputs": [],
   "source": [
    "from sklearn.tree import DecisionTreeClassifier # Import Decision Tree Classifier\n",
    "from scipy.stats import randint\n"
   ]
  },
  {
   "cell_type": "code",
   "execution_count": 1007,
   "metadata": {},
   "outputs": [],
   "source": [
    "param_dist = {\"max_depth\": [3, None],\n",
    "              \"max_features\": randint(1, 10),\n",
    "              \"min_samples_leaf\": randint(1, 10),\n",
    "              \"criterion\": [\"gini\", \"entropy\"]}"
   ]
  },
  {
   "cell_type": "code",
   "execution_count": 1008,
   "metadata": {},
   "outputs": [
    {
     "name": "stdout",
     "output_type": "stream",
     "text": [
      "Accuracy: 0.717439293598234\n"
     ]
    }
   ],
   "source": [
    "tree = DecisionTreeClassifier()\n",
    "dtc = RandomizedSearchCV(tree, param_dist, cv=5)\n",
    "\n",
    "dtc.fit(X_train1, y_train1)\n",
    "\n",
    "y_pred6 = dtc.predict(X_test1)\n",
    "print(\"Accuracy:\",metrics.accuracy_score(y_test1, y_pred6))"
   ]
  },
  {
   "cell_type": "code",
   "execution_count": 1009,
   "metadata": {},
   "outputs": [
    {
     "data": {
      "text/plain": [
       "array([[ 73,  75],\n",
       "       [ 53, 252]], dtype=int64)"
      ]
     },
     "execution_count": 1009,
     "metadata": {},
     "output_type": "execute_result"
    }
   ],
   "source": [
    "confusion_matrix(y_test1,y_pred6)"
   ]
  },
  {
   "cell_type": "code",
   "execution_count": 1010,
   "metadata": {},
   "outputs": [
    {
     "name": "stdout",
     "output_type": "stream",
     "text": [
      "Tuned Decision Tree Parameters: {'criterion': 'gini', 'max_depth': 3, 'max_features': 6, 'min_samples_leaf': 1}\n",
      "Best score is 0.728219696969697\n"
     ]
    }
   ],
   "source": [
    "# Print the tuned parameters and score\n",
    "print(\"Tuned Decision Tree Parameters: {}\".format(dtc.best_params_))\n",
    "print(\"Best score is {}\".format(dtc.best_score_))"
   ]
  },
  {
   "cell_type": "code",
   "execution_count": 1011,
   "metadata": {},
   "outputs": [
    {
     "name": "stdout",
     "output_type": "stream",
     "text": [
      "Accuracy: 0.7152317880794702\n"
     ]
    }
   ],
   "source": [
    "dtc = DecisionTreeClassifier(max_depth = 3, max_features = 8, min_samples_leaf = 3, criterion = 'entropy')\n",
    "dtc.fit(X_train1, y_train1)\n",
    "y_pred7 = dtc.predict(X_test1)\n",
    "print(\"Accuracy:\",metrics.accuracy_score(y_test1, y_pred7))"
   ]
  },
  {
   "cell_type": "code",
   "execution_count": 1012,
   "metadata": {},
   "outputs": [
    {
     "data": {
      "text/plain": [
       "array([[ 78,  70],\n",
       "       [ 59, 246]], dtype=int64)"
      ]
     },
     "execution_count": 1012,
     "metadata": {},
     "output_type": "execute_result"
    }
   ],
   "source": [
    "confusion_matrix(y_test1,y_pred7)"
   ]
  },
  {
   "cell_type": "markdown",
   "metadata": {},
   "source": [
    "### Lets compare the models!"
   ]
  },
  {
   "cell_type": "markdown",
   "metadata": {},
   "source": [
    "#### Now lets predict whether a user would give a rating greater than the business' average star rating"
   ]
  },
  {
   "cell_type": "code",
   "execution_count": 1013,
   "metadata": {},
   "outputs": [
    {
     "data": {
      "text/html": [
       "<div>\n",
       "<style scoped>\n",
       "    .dataframe tbody tr th:only-of-type {\n",
       "        vertical-align: middle;\n",
       "    }\n",
       "\n",
       "    .dataframe tbody tr th {\n",
       "        vertical-align: top;\n",
       "    }\n",
       "\n",
       "    .dataframe thead th {\n",
       "        text-align: right;\n",
       "    }\n",
       "</style>\n",
       "<table border=\"1\" class=\"dataframe\">\n",
       "  <thead>\n",
       "    <tr style=\"text-align: right;\">\n",
       "      <th></th>\n",
       "      <th>business_id</th>\n",
       "      <th>review_cool</th>\n",
       "      <th>review_funny</th>\n",
       "      <th>review_id</th>\n",
       "      <th>review_stars</th>\n",
       "      <th>review_more_three</th>\n",
       "      <th>review_above_bus_avg</th>\n",
       "      <th>review_useful</th>\n",
       "      <th>user_id</th>\n",
       "      <th>attributes_DogsAllowed</th>\n",
       "      <th>...</th>\n",
       "      <th>bus_name</th>\n",
       "      <th>bus_review_count</th>\n",
       "      <th>bus_stars</th>\n",
       "      <th>state</th>\n",
       "      <th>cuisine_type1</th>\n",
       "      <th>cuisine_type2</th>\n",
       "      <th>cuisine_type3</th>\n",
       "      <th>user_average_stars</th>\n",
       "      <th>bus_cool</th>\n",
       "      <th>user_review_count</th>\n",
       "    </tr>\n",
       "  </thead>\n",
       "  <tbody>\n",
       "    <tr>\n",
       "      <th>0</th>\n",
       "      <td>P2GBKrx7dJg3xeGtuU2K-A</td>\n",
       "      <td>0</td>\n",
       "      <td>0</td>\n",
       "      <td>Uv2YBP5zcN9HsoesVhKWcw</td>\n",
       "      <td>5</td>\n",
       "      <td>1</td>\n",
       "      <td>1</td>\n",
       "      <td>0</td>\n",
       "      <td>6PuMHxTcMlbwbuzL6aG_pA</td>\n",
       "      <td>NaN</td>\n",
       "      <td>...</td>\n",
       "      <td>Bluewater Grill</td>\n",
       "      <td>645</td>\n",
       "      <td>4.0</td>\n",
       "      <td>AZ</td>\n",
       "      <td>1</td>\n",
       "      <td>NaN</td>\n",
       "      <td>NaN</td>\n",
       "      <td>3.38</td>\n",
       "      <td>1</td>\n",
       "      <td>19</td>\n",
       "    </tr>\n",
       "    <tr>\n",
       "      <th>1</th>\n",
       "      <td>UotZUkpcI0p2J8RUAD36Ng</td>\n",
       "      <td>0</td>\n",
       "      <td>0</td>\n",
       "      <td>KJN1vmoSQIt4BBAA2YBG1Q</td>\n",
       "      <td>5</td>\n",
       "      <td>1</td>\n",
       "      <td>1</td>\n",
       "      <td>0</td>\n",
       "      <td>eBJke4QbwIRaj6IEcIfmQQ</td>\n",
       "      <td>0.0</td>\n",
       "      <td>...</td>\n",
       "      <td>Second Story Restaurant &amp; Liquor Bar</td>\n",
       "      <td>459</td>\n",
       "      <td>4.5</td>\n",
       "      <td>AZ</td>\n",
       "      <td>1</td>\n",
       "      <td>NaN</td>\n",
       "      <td>NaN</td>\n",
       "      <td>2.93</td>\n",
       "      <td>2</td>\n",
       "      <td>27</td>\n",
       "    </tr>\n",
       "    <tr>\n",
       "      <th>2</th>\n",
       "      <td>ot9iwwY_oSzf9VWkEl4XkA</td>\n",
       "      <td>0</td>\n",
       "      <td>0</td>\n",
       "      <td>a4stORZS-GiO0QAZg70W7Q</td>\n",
       "      <td>3</td>\n",
       "      <td>0</td>\n",
       "      <td>1</td>\n",
       "      <td>3</td>\n",
       "      <td>QJI9OSEn6ujRCtrX06vs1w</td>\n",
       "      <td>NaN</td>\n",
       "      <td>...</td>\n",
       "      <td>Papa John's Pizza</td>\n",
       "      <td>22</td>\n",
       "      <td>2.5</td>\n",
       "      <td>AZ</td>\n",
       "      <td>0</td>\n",
       "      <td>NaN</td>\n",
       "      <td>NaN</td>\n",
       "      <td>3.61</td>\n",
       "      <td>10043</td>\n",
       "      <td>1982</td>\n",
       "    </tr>\n",
       "    <tr>\n",
       "      <th>3</th>\n",
       "      <td>LVFcpLkD6iOG8YRlJjLSig</td>\n",
       "      <td>0</td>\n",
       "      <td>1</td>\n",
       "      <td>pfg_O3LtVjkc7qRegCKBCg</td>\n",
       "      <td>4</td>\n",
       "      <td>1</td>\n",
       "      <td>1</td>\n",
       "      <td>1</td>\n",
       "      <td>l0uRV3nGEroXqsPypD4qdQ</td>\n",
       "      <td>NaN</td>\n",
       "      <td>...</td>\n",
       "      <td>Flicka's Baja Cantina</td>\n",
       "      <td>88</td>\n",
       "      <td>3.5</td>\n",
       "      <td>AZ</td>\n",
       "      <td>2</td>\n",
       "      <td>NaN</td>\n",
       "      <td>NaN</td>\n",
       "      <td>3.85</td>\n",
       "      <td>155</td>\n",
       "      <td>325</td>\n",
       "    </tr>\n",
       "    <tr>\n",
       "      <th>4</th>\n",
       "      <td>SmuBKELZUq--cqXvKVZnpg</td>\n",
       "      <td>0</td>\n",
       "      <td>0</td>\n",
       "      <td>CSiJedwiZ_1m1ziH0lObyQ</td>\n",
       "      <td>1</td>\n",
       "      <td>0</td>\n",
       "      <td>0</td>\n",
       "      <td>0</td>\n",
       "      <td>OgJKswDMHhUMUCGHW4j7Pg</td>\n",
       "      <td>NaN</td>\n",
       "      <td>...</td>\n",
       "      <td>Dairy Queen - Orange Julius</td>\n",
       "      <td>32</td>\n",
       "      <td>2.5</td>\n",
       "      <td>AZ</td>\n",
       "      <td>0</td>\n",
       "      <td>NaN</td>\n",
       "      <td>NaN</td>\n",
       "      <td>3.30</td>\n",
       "      <td>16</td>\n",
       "      <td>35</td>\n",
       "    </tr>\n",
       "  </tbody>\n",
       "</table>\n",
       "<p>5 rows × 44 columns</p>\n",
       "</div>"
      ],
      "text/plain": [
       "              business_id  review_cool  review_funny               review_id  \\\n",
       "0  P2GBKrx7dJg3xeGtuU2K-A            0             0  Uv2YBP5zcN9HsoesVhKWcw   \n",
       "1  UotZUkpcI0p2J8RUAD36Ng            0             0  KJN1vmoSQIt4BBAA2YBG1Q   \n",
       "2  ot9iwwY_oSzf9VWkEl4XkA            0             0  a4stORZS-GiO0QAZg70W7Q   \n",
       "3  LVFcpLkD6iOG8YRlJjLSig            0             1  pfg_O3LtVjkc7qRegCKBCg   \n",
       "4  SmuBKELZUq--cqXvKVZnpg            0             0  CSiJedwiZ_1m1ziH0lObyQ   \n",
       "\n",
       "   review_stars  review_more_three  review_above_bus_avg  review_useful  \\\n",
       "0             5                  1                     1              0   \n",
       "1             5                  1                     1              0   \n",
       "2             3                  0                     1              3   \n",
       "3             4                  1                     1              1   \n",
       "4             1                  0                     0              0   \n",
       "\n",
       "                  user_id  attributes_DogsAllowed        ...          \\\n",
       "0  6PuMHxTcMlbwbuzL6aG_pA                     NaN        ...           \n",
       "1  eBJke4QbwIRaj6IEcIfmQQ                     0.0        ...           \n",
       "2  QJI9OSEn6ujRCtrX06vs1w                     NaN        ...           \n",
       "3  l0uRV3nGEroXqsPypD4qdQ                     NaN        ...           \n",
       "4  OgJKswDMHhUMUCGHW4j7Pg                     NaN        ...           \n",
       "\n",
       "                               bus_name  bus_review_count  bus_stars  state  \\\n",
       "0                       Bluewater Grill               645        4.0     AZ   \n",
       "1  Second Story Restaurant & Liquor Bar               459        4.5     AZ   \n",
       "2                     Papa John's Pizza                22        2.5     AZ   \n",
       "3                 Flicka's Baja Cantina                88        3.5     AZ   \n",
       "4           Dairy Queen - Orange Julius                32        2.5     AZ   \n",
       "\n",
       "   cuisine_type1  cuisine_type2  cuisine_type3  user_average_stars  bus_cool  \\\n",
       "0              1            NaN            NaN                3.38         1   \n",
       "1              1            NaN            NaN                2.93         2   \n",
       "2              0            NaN            NaN                3.61     10043   \n",
       "3              2            NaN            NaN                3.85       155   \n",
       "4              0            NaN            NaN                3.30        16   \n",
       "\n",
       "   user_review_count  \n",
       "0                 19  \n",
       "1                 27  \n",
       "2               1982  \n",
       "3                325  \n",
       "4                 35  \n",
       "\n",
       "[5 rows x 44 columns]"
      ]
     },
     "execution_count": 1013,
     "metadata": {},
     "output_type": "execute_result"
    }
   ],
   "source": [
    "df1 = pd.read_csv('sample_df2.csv')\n",
    "df1.head()"
   ]
  },
  {
   "cell_type": "code",
   "execution_count": 1014,
   "metadata": {},
   "outputs": [
    {
     "data": {
      "text/plain": [
       "Index(['business_id', 'review_cool', 'review_funny', 'review_id',\n",
       "       'review_stars', 'review_more_three', 'review_above_bus_avg',\n",
       "       'review_useful', 'user_id', 'attributes_DogsAllowed',\n",
       "       'attributes_DriveThru', 'attributes_GoodForKids', 'good_for_dessert',\n",
       "       'good_for_late_night', 'good_for_lunch', 'good_for_dinner',\n",
       "       'good_for_brunch', 'good_for_breakfast', 'attributes_HasTV',\n",
       "       'attributes_noiseLevel', 'attributes_Seating',\n",
       "       'attributes_RestaurantsAttire', 'attributes_RestaurantsDelivery',\n",
       "       'attributes_RestaurantsGoodForGroups',\n",
       "       'attributes_RestaurantsPriceRange',\n",
       "       'attributes_RestaurantsReservations',\n",
       "       'attributes_RestaurantsTableService', 'attributes_RestaurantsTakeOut',\n",
       "       'attributes_Smoking', 'attributes_WheelchairAccessible',\n",
       "       'attributes_WiFi', 'categories', 'city', 'is_open', 'bus_name',\n",
       "       'bus_review_count', 'bus_stars', 'state', 'cuisine_type1',\n",
       "       'cuisine_type2', 'cuisine_type3', 'user_average_stars', 'bus_cool',\n",
       "       'user_review_count'],\n",
       "      dtype='object')"
      ]
     },
     "execution_count": 1014,
     "metadata": {},
     "output_type": "execute_result"
    }
   ],
   "source": [
    "df1.columns"
   ]
  },
  {
   "cell_type": "code",
   "execution_count": 1015,
   "metadata": {},
   "outputs": [],
   "source": [
    "df1 = df1[['review_above_bus_avg', 'attributes_DogsAllowed',\n",
    "       'attributes_DriveThru', 'attributes_GoodForKids', 'good_for_dessert',\n",
    "       'good_for_late_night', 'good_for_lunch', 'good_for_dinner',\n",
    "       'good_for_brunch', 'good_for_breakfast', 'attributes_HasTV',\n",
    "       'attributes_noiseLevel', 'attributes_Seating',\n",
    "       'attributes_RestaurantsAttire', 'attributes_RestaurantsDelivery',\n",
    "       'attributes_RestaurantsGoodForGroups',\n",
    "       'attributes_RestaurantsPriceRange',\n",
    "       'attributes_RestaurantsReservations',\n",
    "       'attributes_RestaurantsTableService', 'attributes_RestaurantsTakeOut',\n",
    "       'attributes_Smoking', 'attributes_WheelchairAccessible',\n",
    "       'attributes_WiFi', 'is_open',\n",
    "       'bus_review_count', 'bus_stars', 'cuisine_type1',\n",
    "       'cuisine_type2', 'cuisine_type3', 'user_average_stars', 'bus_cool',\n",
    "       'user_review_count']]"
   ]
  },
  {
   "cell_type": "code",
   "execution_count": 1016,
   "metadata": {},
   "outputs": [
    {
     "data": {
      "text/plain": [
       "review_above_bus_avg                      0\n",
       "attributes_DogsAllowed                 1235\n",
       "attributes_DriveThru                   1316\n",
       "attributes_GoodForKids                   63\n",
       "good_for_dessert                        288\n",
       "good_for_late_night                     288\n",
       "good_for_lunch                          288\n",
       "good_for_dinner                         288\n",
       "good_for_brunch                         288\n",
       "good_for_breakfast                      288\n",
       "attributes_HasTV                         86\n",
       "attributes_noiseLevel                   127\n",
       "attributes_Seating                       46\n",
       "attributes_RestaurantsAttire             75\n",
       "attributes_RestaurantsDelivery           45\n",
       "attributes_RestaurantsGoodForGroups      63\n",
       "attributes_RestaurantsPriceRange         10\n",
       "attributes_RestaurantsReservations       55\n",
       "attributes_RestaurantsTableService      844\n",
       "attributes_RestaurantsTakeOut            22\n",
       "attributes_Smoking                     1360\n",
       "attributes_WheelchairAccessible        1086\n",
       "attributes_WiFi                          96\n",
       "is_open                                   0\n",
       "bus_review_count                          0\n",
       "bus_stars                                 0\n",
       "cuisine_type1                             0\n",
       "cuisine_type2                          1465\n",
       "cuisine_type3                          1505\n",
       "user_average_stars                        0\n",
       "bus_cool                                  0\n",
       "user_review_count                         0\n",
       "dtype: int64"
      ]
     },
     "execution_count": 1016,
     "metadata": {},
     "output_type": "execute_result"
    }
   ],
   "source": [
    "df1.isnull().sum()"
   ]
  },
  {
   "cell_type": "code",
   "execution_count": 1017,
   "metadata": {},
   "outputs": [],
   "source": [
    "df1[df1.columns] = df1[df1.columns].apply(pd.to_numeric, errors='coerce')\n",
    "\n",
    "df1 = df1.fillna(df1.median())"
   ]
  },
  {
   "cell_type": "code",
   "execution_count": 1018,
   "metadata": {},
   "outputs": [],
   "source": [
    "y2 = df1['review_above_bus_avg']\n",
    "X2 = df1.drop('review_above_bus_avg', axis = 1)\n",
    "\n",
    "X_train2, X_test2, y_train2, y_test2 = train_test_split(X2, y2, test_size = 0.3) # 70% training and 30% test"
   ]
  },
  {
   "cell_type": "code",
   "execution_count": 1019,
   "metadata": {},
   "outputs": [
    {
     "data": {
      "text/plain": [
       "review_above_bus_avg                   0\n",
       "attributes_DogsAllowed                 0\n",
       "attributes_DriveThru                   0\n",
       "attributes_GoodForKids                 0\n",
       "good_for_dessert                       0\n",
       "good_for_late_night                    0\n",
       "good_for_lunch                         0\n",
       "good_for_dinner                        0\n",
       "good_for_brunch                        0\n",
       "good_for_breakfast                     0\n",
       "attributes_HasTV                       0\n",
       "attributes_noiseLevel                  0\n",
       "attributes_Seating                     0\n",
       "attributes_RestaurantsAttire           0\n",
       "attributes_RestaurantsDelivery         0\n",
       "attributes_RestaurantsGoodForGroups    0\n",
       "attributes_RestaurantsPriceRange       0\n",
       "attributes_RestaurantsReservations     0\n",
       "attributes_RestaurantsTableService     0\n",
       "attributes_RestaurantsTakeOut          0\n",
       "attributes_Smoking                     0\n",
       "attributes_WheelchairAccessible        0\n",
       "attributes_WiFi                        0\n",
       "is_open                                0\n",
       "bus_review_count                       0\n",
       "bus_stars                              0\n",
       "cuisine_type1                          0\n",
       "cuisine_type2                          0\n",
       "cuisine_type3                          0\n",
       "user_average_stars                     0\n",
       "bus_cool                               0\n",
       "user_review_count                      0\n",
       "dtype: int64"
      ]
     },
     "execution_count": 1019,
     "metadata": {},
     "output_type": "execute_result"
    }
   ],
   "source": [
    "df1.isnull().sum()"
   ]
  },
  {
   "cell_type": "markdown",
   "metadata": {},
   "source": [
    "#### Lets simplify things with feature selection methods"
   ]
  },
  {
   "cell_type": "code",
   "execution_count": 1020,
   "metadata": {},
   "outputs": [
    {
     "name": "stdout",
     "output_type": "stream",
     "text": [
      "[0.00772998 0.00556021 0.01371621 0.0116788  0.00424465 0.02133639\n",
      " 0.01784317 0.01095573 0.01301546 0.0242739  0.02478365 0.0264723\n",
      " 0.00215981 0.01647812 0.01319607 0.02893689 0.02037633 0.01300378\n",
      " 0.0042871  0.00753581 0.00253987 0.03140449 0.01738221 0.07950116\n",
      " 0.06568993 0.05272719 0.00462299 0.         0.20117508 0.12250407\n",
      " 0.13486862]\n"
     ]
    },
    {
     "name": "stderr",
     "output_type": "stream",
     "text": [
      "D:\\Anaconda\\lib\\site-packages\\sklearn\\ensemble\\forest.py:246: FutureWarning: The default value of n_estimators will change from 10 in version 0.20 to 100 in 0.22.\n",
      "  \"10 in version 0.20 to 100 in 0.22.\", FutureWarning)\n"
     ]
    },
    {
     "data": {
      "image/png": "[encoded data removed]",
      "text/plain": [
       "<Figure size 864x576 with 1 Axes>"
      ]
     },
     "metadata": {},
     "output_type": "display_data"
    }
   ],
   "source": [
    "from sklearn.ensemble import ExtraTreesClassifier\n",
    "import matplotlib.pyplot as plt\n",
    "model = ExtraTreesClassifier()\n",
    "model.fit(X2, y2)\n",
    "print(model.feature_importances_) #use inbuilt class feature_importances of tree based classifiers\n",
    "#plot graph of feature importances for better visualization\n",
    "feat_importances = pd.Series(model.feature_importances_, index = X2.columns)\n",
    "feat_importances.nlargest(10).plot(kind = 'barh')\n",
    "plt.show()"
   ]
  },
  {
   "cell_type": "markdown",
   "metadata": {},
   "source": [
    "#### Lets begin building our prediction models\n",
    "\n",
    "##### We're going to build multiple models to predict if a user would give a review greater than 3 (meaning they like the business) AND\n",
    "##### if a user would give a review greater than the business' average star rating."
   ]
  },
  {
   "cell_type": "code",
   "execution_count": 1021,
   "metadata": {},
   "outputs": [
    {
     "data": {
      "text/html": [
       "<div>\n",
       "<style scoped>\n",
       "    .dataframe tbody tr th:only-of-type {\n",
       "        vertical-align: middle;\n",
       "    }\n",
       "\n",
       "    .dataframe tbody tr th {\n",
       "        vertical-align: top;\n",
       "    }\n",
       "\n",
       "    .dataframe thead th {\n",
       "        text-align: right;\n",
       "    }\n",
       "</style>\n",
       "<table border=\"1\" class=\"dataframe\">\n",
       "  <thead>\n",
       "    <tr style=\"text-align: right;\">\n",
       "      <th></th>\n",
       "      <th>review_above_bus_avg</th>\n",
       "      <th>attributes_HasTV</th>\n",
       "      <th>attributes_noiseLevel</th>\n",
       "      <th>attributes_WiFi</th>\n",
       "      <th>attributes_RestaurantsPriceRange</th>\n",
       "      <th>bus_review_count</th>\n",
       "      <th>bus_stars</th>\n",
       "      <th>cuisine_type1</th>\n",
       "      <th>user_average_stars</th>\n",
       "      <th>bus_cool</th>\n",
       "      <th>user_review_count</th>\n",
       "    </tr>\n",
       "  </thead>\n",
       "  <tbody>\n",
       "    <tr>\n",
       "      <th>0</th>\n",
       "      <td>1</td>\n",
       "      <td>1.0</td>\n",
       "      <td>1.0</td>\n",
       "      <td>1.0</td>\n",
       "      <td>2.0</td>\n",
       "      <td>645</td>\n",
       "      <td>4.0</td>\n",
       "      <td>1</td>\n",
       "      <td>3.38</td>\n",
       "      <td>1</td>\n",
       "      <td>19</td>\n",
       "    </tr>\n",
       "    <tr>\n",
       "      <th>1</th>\n",
       "      <td>1</td>\n",
       "      <td>1.0</td>\n",
       "      <td>1.0</td>\n",
       "      <td>1.0</td>\n",
       "      <td>2.0</td>\n",
       "      <td>459</td>\n",
       "      <td>4.5</td>\n",
       "      <td>1</td>\n",
       "      <td>2.93</td>\n",
       "      <td>2</td>\n",
       "      <td>27</td>\n",
       "    </tr>\n",
       "    <tr>\n",
       "      <th>2</th>\n",
       "      <td>1</td>\n",
       "      <td>1.0</td>\n",
       "      <td>1.0</td>\n",
       "      <td>1.0</td>\n",
       "      <td>2.0</td>\n",
       "      <td>22</td>\n",
       "      <td>2.5</td>\n",
       "      <td>0</td>\n",
       "      <td>3.61</td>\n",
       "      <td>10043</td>\n",
       "      <td>1982</td>\n",
       "    </tr>\n",
       "    <tr>\n",
       "      <th>3</th>\n",
       "      <td>1</td>\n",
       "      <td>1.0</td>\n",
       "      <td>1.0</td>\n",
       "      <td>0.0</td>\n",
       "      <td>1.0</td>\n",
       "      <td>88</td>\n",
       "      <td>3.5</td>\n",
       "      <td>2</td>\n",
       "      <td>3.85</td>\n",
       "      <td>155</td>\n",
       "      <td>325</td>\n",
       "    </tr>\n",
       "    <tr>\n",
       "      <th>4</th>\n",
       "      <td>0</td>\n",
       "      <td>0.0</td>\n",
       "      <td>1.0</td>\n",
       "      <td>0.0</td>\n",
       "      <td>1.0</td>\n",
       "      <td>32</td>\n",
       "      <td>2.5</td>\n",
       "      <td>0</td>\n",
       "      <td>3.30</td>\n",
       "      <td>16</td>\n",
       "      <td>35</td>\n",
       "    </tr>\n",
       "  </tbody>\n",
       "</table>\n",
       "</div>"
      ],
      "text/plain": [
       "   review_above_bus_avg  attributes_HasTV  attributes_noiseLevel  \\\n",
       "0                     1               1.0                    1.0   \n",
       "1                     1               1.0                    1.0   \n",
       "2                     1               1.0                    1.0   \n",
       "3                     1               1.0                    1.0   \n",
       "4                     0               0.0                    1.0   \n",
       "\n",
       "   attributes_WiFi  attributes_RestaurantsPriceRange  bus_review_count  \\\n",
       "0              1.0                               2.0               645   \n",
       "1              1.0                               2.0               459   \n",
       "2              1.0                               2.0                22   \n",
       "3              0.0                               1.0                88   \n",
       "4              0.0                               1.0                32   \n",
       "\n",
       "   bus_stars  cuisine_type1  user_average_stars  bus_cool  user_review_count  \n",
       "0        4.0              1                3.38         1                 19  \n",
       "1        4.5              1                2.93         2                 27  \n",
       "2        2.5              0                3.61     10043               1982  \n",
       "3        3.5              2                3.85       155                325  \n",
       "4        2.5              0                3.30        16                 35  "
      ]
     },
     "execution_count": 1021,
     "metadata": {},
     "output_type": "execute_result"
    }
   ],
   "source": [
    "# lets start with creating our test and training sets\n",
    "\n",
    "df2 = df1[['review_above_bus_avg', 'attributes_HasTV',\n",
    "       'attributes_noiseLevel', 'attributes_WiFi',\n",
    "       'attributes_RestaurantsPriceRange',\n",
    "       'bus_review_count', 'bus_stars', 'cuisine_type1', 'user_average_stars', 'bus_cool',\n",
    "       'user_review_count']]\n",
    "df2.head()"
   ]
  },
  {
   "cell_type": "code",
   "execution_count": 1022,
   "metadata": {},
   "outputs": [
    {
     "data": {
      "text/plain": [
       "review_above_bus_avg                0\n",
       "attributes_HasTV                    0\n",
       "attributes_noiseLevel               0\n",
       "attributes_WiFi                     0\n",
       "attributes_RestaurantsPriceRange    0\n",
       "bus_review_count                    0\n",
       "bus_stars                           0\n",
       "cuisine_type1                       0\n",
       "user_average_stars                  0\n",
       "bus_cool                            0\n",
       "user_review_count                   0\n",
       "dtype: int64"
      ]
     },
     "execution_count": 1022,
     "metadata": {},
     "output_type": "execute_result"
    }
   ],
   "source": [
    "df2.isnull().sum()"
   ]
  },
  {
   "cell_type": "code",
   "execution_count": 1023,
   "metadata": {},
   "outputs": [
    {
     "data": {
      "text/plain": [
       "1509"
      ]
     },
     "execution_count": 1023,
     "metadata": {},
     "output_type": "execute_result"
    }
   ],
   "source": [
    "len(df2)"
   ]
  },
  {
   "cell_type": "code",
   "execution_count": 1024,
   "metadata": {},
   "outputs": [
    {
     "name": "stderr",
     "output_type": "stream",
     "text": [
      "D:\\Anaconda\\lib\\site-packages\\pandas\\core\\frame.py:3140: SettingWithCopyWarning: \n",
      "A value is trying to be set on a copy of a slice from a DataFrame.\n",
      "Try using .loc[row_indexer,col_indexer] = value instead\n",
      "\n",
      "See the caveats in the documentation: http://pandas.pydata.org/pandas-docs/stable/indexing.html#indexing-view-versus-copy\n",
      "  self[k1] = value[k2]\n"
     ]
    }
   ],
   "source": [
    "df2[df2.columns] = df2[df2.columns].apply(pd.to_numeric, errors = 'coerce')\n",
    "\n",
    "df2 = df2.fillna(df2.median())"
   ]
  },
  {
   "cell_type": "code",
   "execution_count": 1025,
   "metadata": {},
   "outputs": [
    {
     "data": {
      "text/plain": [
       "review_above_bus_avg                0\n",
       "attributes_HasTV                    0\n",
       "attributes_noiseLevel               0\n",
       "attributes_WiFi                     0\n",
       "attributes_RestaurantsPriceRange    0\n",
       "bus_review_count                    0\n",
       "bus_stars                           0\n",
       "cuisine_type1                       0\n",
       "user_average_stars                  0\n",
       "bus_cool                            0\n",
       "user_review_count                   0\n",
       "dtype: int64"
      ]
     },
     "execution_count": 1025,
     "metadata": {},
     "output_type": "execute_result"
    }
   ],
   "source": [
    "df2.isnull().sum()"
   ]
  },
  {
   "cell_type": "code",
   "execution_count": 1026,
   "metadata": {},
   "outputs": [],
   "source": [
    "from sklearn.tree import DecisionTreeClassifier\n",
    "from sklearn.ensemble import AdaBoostClassifier\n",
    "from sklearn.datasets import make_regression\n",
    "from sklearn.model_selection import RandomizedSearchCV\n",
    "from sklearn.neighbors import KNeighborsClassifier\n",
    "from sklearn.metrics import roc_curve, auc\n",
    "from sklearn.model_selection import cross_validate"
   ]
  },
  {
   "cell_type": "markdown",
   "metadata": {},
   "source": [
    "#### Lets create our training and test sets"
   ]
  },
  {
   "cell_type": "code",
   "execution_count": 1027,
   "metadata": {},
   "outputs": [],
   "source": [
    "y2 = df2['review_above_bus_avg']\n",
    "X2 = df2.drop('review_above_bus_avg', axis = 1)"
   ]
  },
  {
   "cell_type": "code",
   "execution_count": 1028,
   "metadata": {},
   "outputs": [],
   "source": [
    "X_train2, X_test2, y_train2, y_test2 = train_test_split(X2, y2, test_size = 0.3) # 70% training and 30% test"
   ]
  },
  {
   "cell_type": "markdown",
   "metadata": {},
   "source": [
    "#### Lets begin with a K-Nearest Neighbors Classifier Model"
   ]
  },
  {
   "cell_type": "code",
   "execution_count": 1029,
   "metadata": {},
   "outputs": [],
   "source": [
    "#Create KNN Classifier\n",
    "knn3 = KNeighborsClassifier(n_neighbors = 3)\n",
    "\n",
    "#Train the model using the training sets\n",
    "knn3.fit(X_train2, y_train2)\n",
    "\n",
    "#Predict the response for test dataset\n",
    "y_pred = knn3.predict(X_test2)"
   ]
  },
  {
   "cell_type": "code",
   "execution_count": 1030,
   "metadata": {},
   "outputs": [
    {
     "name": "stdout",
     "output_type": "stream",
     "text": [
      "Accuracy: 0.5077262693156733\n"
     ]
    }
   ],
   "source": [
    "#Import scikit-learn metrics module for accuracy calculation\n",
    "from sklearn import metrics\n",
    "# Model Accuracy, how often is the classifier correct?\n",
    "print(\"Accuracy:\",metrics.accuracy_score(y_test2, y_pred))"
   ]
  },
  {
   "cell_type": "code",
   "execution_count": 1031,
   "metadata": {},
   "outputs": [
    {
     "data": {
      "text/plain": [
       "array([[105, 122],\n",
       "       [101, 125]], dtype=int64)"
      ]
     },
     "execution_count": 1031,
     "metadata": {},
     "output_type": "execute_result"
    }
   ],
   "source": [
    "confusion_matrix(y_test2, y_pred)"
   ]
  },
  {
   "cell_type": "markdown",
   "metadata": {},
   "source": [
    "#### Lets fine tune the parameters to get the best results"
   ]
  },
  {
   "cell_type": "code",
   "execution_count": 1032,
   "metadata": {},
   "outputs": [
    {
     "data": {
      "text/plain": [
       "KNeighborsClassifier(algorithm='auto', leaf_size=30, metric='minkowski',\n",
       "           metric_params=None, n_jobs=None, n_neighbors=5, p=2,\n",
       "           weights='uniform')"
      ]
     },
     "execution_count": 1032,
     "metadata": {},
     "output_type": "execute_result"
    }
   ],
   "source": [
    "knnc = KNeighborsClassifier()\n",
    "knnc.fit(X_train2, y_train2)"
   ]
  },
  {
   "cell_type": "code",
   "execution_count": 1033,
   "metadata": {},
   "outputs": [
    {
     "name": "stdout",
     "output_type": "stream",
     "text": [
      "Accuracy: 0.4856512141280353\n"
     ]
    }
   ],
   "source": [
    "knnc = KNeighborsClassifier(algorithm = 'auto', leaf_size = 30, metric = 'minkowski',\n",
    "                     metric_params = None, n_jobs = None, n_neighbors = 5, p = 2,\n",
    "                     weights = 'uniform')\n",
    "knnc.fit(X_train2, y_train2)\n",
    "y_pred1 = knnc.predict(X_test2)\n",
    "# Model Accuracy, how often is the classifier correct?\n",
    "print(\"Accuracy:\",metrics.accuracy_score(y_test2, y_pred1))"
   ]
  },
  {
   "cell_type": "code",
   "execution_count": 1034,
   "metadata": {},
   "outputs": [
    {
     "data": {
      "text/plain": [
       "array([[ 85, 142],\n",
       "       [ 91, 135]], dtype=int64)"
      ]
     },
     "execution_count": 1034,
     "metadata": {},
     "output_type": "execute_result"
    }
   ],
   "source": [
    "confusion_matrix(y_test2,y_pred1)"
   ]
  },
  {
   "cell_type": "code",
   "execution_count": 1035,
   "metadata": {},
   "outputs": [
    {
     "data": {
      "text/plain": [
       "0.4858972359752057"
      ]
     },
     "execution_count": 1035,
     "metadata": {},
     "output_type": "execute_result"
    }
   ],
   "source": [
    "false_positive_rate, true_positive_rate, thresholds = roc_curve(y_test2, y_pred1)\n",
    "roc_auc = auc(false_positive_rate, true_positive_rate)\n",
    "roc_auc"
   ]
  },
  {
   "cell_type": "code",
   "execution_count": 1036,
   "metadata": {},
   "outputs": [
    {
     "data": {
      "image/png": "[encoded data removed]",
      "text/plain": [
       "<Figure size 864x576 with 1 Axes>"
      ]
     },
     "metadata": {},
     "output_type": "display_data"
    }
   ],
   "source": [
    "neighbors = list(range(1,30))\n",
    "\n",
    "train_results = []\n",
    "test_results = []\n",
    "\n",
    "for n in neighbors:\n",
    "   model = KNeighborsClassifier(n_neighbors=n)\n",
    "   model.fit(X_train2, y_train2)\n",
    "   train_pred = model.predict(X_train2)\n",
    "   false_positive_rate, true_positive_rate, thresholds = roc_curve(y_train2, train_pred)\n",
    "   roc_auc = auc(false_positive_rate, true_positive_rate)\n",
    "   train_results.append(roc_auc)\n",
    "   y_pred = model.predict(X_test2)\n",
    "   false_positive_rate, true_positive_rate, thresholds = roc_curve(y_test2, y_pred)\n",
    "   roc_auc = auc(false_positive_rate, true_positive_rate)\n",
    "   test_results.append(roc_auc)\n",
    "from matplotlib.legend_handler import HandlerLine2D\n",
    "\n",
    "line1, = plt.plot(neighbors, train_results, 'b', label=\"Train AUC\")\n",
    "line2, = plt.plot(neighbors, test_results, 'r', label=\"Test AUC\")\n",
    "plt.legend(handler_map={line1: HandlerLine2D(numpoints=2)})\n",
    "plt.ylabel('AUC score')\n",
    "plt.xlabel('n_neighbors')\n",
    "plt.show()"
   ]
  },
  {
   "cell_type": "code",
   "execution_count": 1037,
   "metadata": {},
   "outputs": [
    {
     "data": {
      "image/png": "[encoded data removed]",
      "text/plain": [
       "<Figure size 864x576 with 1 Axes>"
      ]
     },
     "metadata": {},
     "output_type": "display_data"
    }
   ],
   "source": [
    "distances = [1, 2, 3, 4, 5]\n",
    "train_results = []\n",
    "test_results = []\n",
    "for p in distances:\n",
    "   model = KNeighborsClassifier(p=p)\n",
    "   model.fit(X_train2, y_train2)\n",
    "   train_pred = model.predict(X_train2)\n",
    "   false_positive_rate, true_positive_rate, thresholds = roc_curve(y_train2, train_pred)\n",
    "   roc_auc = auc(false_positive_rate, true_positive_rate)\n",
    "   train_results.append(roc_auc)\n",
    "   y_pred = model.predict(X_test2)\n",
    "   false_positive_rate, true_positive_rate, thresholds = roc_curve(y_test2, y_pred)\n",
    "   roc_auc = auc(false_positive_rate, true_positive_rate)\n",
    "   test_results.append(roc_auc)\n",
    "from matplotlib.legend_handler import HandlerLine2D\n",
    "line1, = plt.plot(distances, train_results, 'b', label=\"Train AUC\")\n",
    "line2, = plt.plot(distances, test_results, 'r', label=\"Test AUC\")\n",
    "plt.legend(handler_map={line1: HandlerLine2D(numpoints=2)})\n",
    "plt.ylabel('AUC score')\n",
    "plt.xlabel('p')\n",
    "plt.show()"
   ]
  },
  {
   "cell_type": "markdown",
   "metadata": {},
   "source": [
    "#### Lets create an ADAboost Classifier model"
   ]
  },
  {
   "cell_type": "code",
   "execution_count": 1038,
   "metadata": {},
   "outputs": [],
   "source": [
    "crossvalidation = KFold(n_splits = 10,shuffle = True,random_state = 1)\n",
    "ada = AdaBoostClassifier()\n",
    "search_grid = {'n_estimators':[100,200,300],'learning_rate':[.05,.1,.5,1]}\n",
    "search = GridSearchCV(estimator = ada, param_grid = search_grid,scoring = 'accuracy',n_jobs = 1,cv = crossvalidation)"
   ]
  },
  {
   "cell_type": "code",
   "execution_count": 1039,
   "metadata": {},
   "outputs": [
    {
     "data": {
      "text/plain": [
       "{'learning_rate': 0.5, 'n_estimators': 100}"
      ]
     },
     "execution_count": 1039,
     "metadata": {},
     "output_type": "execute_result"
    }
   ],
   "source": [
    "search.fit(X2, y2)\n",
    "search.best_params_\n",
    "\n",
    "# computationally and time consuming code, for that reason\n",
    "# most common results are:\n",
    "# n_estimators = 100\n",
    "# learning_rate = .5"
   ]
  },
  {
   "cell_type": "code",
   "execution_count": 1040,
   "metadata": {},
   "outputs": [
    {
     "data": {
      "text/plain": [
       "0.685222001325381"
      ]
     },
     "execution_count": 1040,
     "metadata": {},
     "output_type": "execute_result"
    }
   ],
   "source": [
    "#create adaboost classifier object\n",
    "\n",
    "abc2 = AdaBoostClassifier(n_estimators = 100, learning_rate = .5, random_state = 1)\n",
    "\n",
    "# Train Adaboost classifier\n",
    "model1 = abc2.fit(X_train2, y_train2)\n",
    "\n",
    "#Predict the response for test dataset\n",
    "y_pred2_abc2 = model1.predict(X_test2)\n",
    "abc2.score(X2, y2)"
   ]
  },
  {
   "cell_type": "code",
   "execution_count": 1041,
   "metadata": {},
   "outputs": [
    {
     "data": {
      "text/plain": [
       "array([[107, 120],\n",
       "       [100, 126]], dtype=int64)"
      ]
     },
     "execution_count": 1041,
     "metadata": {},
     "output_type": "execute_result"
    }
   ],
   "source": [
    "confusion_matrix(y_test2, y_pred2_abc)"
   ]
  },
  {
   "cell_type": "markdown",
   "metadata": {},
   "source": [
    "#### Lets create a Support Vector Classifier model"
   ]
  },
  {
   "cell_type": "code",
   "execution_count": 1042,
   "metadata": {},
   "outputs": [],
   "source": [
    "# This training process takes too much computational power and freezes more often than not. Not going to be considered for use.\n",
    "\n",
    "#from sklearn.svm import SVC # \"Support Vector Classifier\" \n",
    "#clf1 = SVC(kernel = 'linear')"
   ]
  },
  {
   "cell_type": "code",
   "execution_count": 1043,
   "metadata": {},
   "outputs": [],
   "source": [
    "#clf1.fit(X2, y2)"
   ]
  },
  {
   "cell_type": "code",
   "execution_count": 1044,
   "metadata": {},
   "outputs": [],
   "source": [
    "#ypred3 = clf1.predict(X_test2)\n",
    "#clf1.score(X2, y2)"
   ]
  },
  {
   "cell_type": "markdown",
   "metadata": {},
   "source": [
    "#### Lets create a Logistic Regression"
   ]
  },
  {
   "cell_type": "code",
   "execution_count": 1045,
   "metadata": {},
   "outputs": [],
   "source": [
    "from sklearn.linear_model import LogisticRegression"
   ]
  },
  {
   "cell_type": "code",
   "execution_count": 1046,
   "metadata": {},
   "outputs": [
    {
     "name": "stderr",
     "output_type": "stream",
     "text": [
      "D:\\Anaconda\\lib\\site-packages\\sklearn\\linear_model\\logistic.py:433: FutureWarning: Default solver will be changed to 'lbfgs' in 0.22. Specify a solver to silence this warning.\n",
      "  FutureWarning)\n"
     ]
    },
    {
     "data": {
      "text/plain": [
       "LogisticRegression(C=1.0, class_weight=None, dual=False, fit_intercept=True,\n",
       "          intercept_scaling=1, max_iter=100, multi_class='warn',\n",
       "          n_jobs=None, penalty='l2', random_state=None, solver='warn',\n",
       "          tol=0.0001, verbose=0, warm_start=False)"
      ]
     },
     "execution_count": 1046,
     "metadata": {},
     "output_type": "execute_result"
    }
   ],
   "source": [
    "#create an instance and fit the model \n",
    "lr = LogisticRegression()\n",
    "lr.fit(X_train2, y_train2)"
   ]
  },
  {
   "cell_type": "code",
   "execution_count": 1047,
   "metadata": {},
   "outputs": [],
   "source": [
    "y_pred4 = lr.predict(X_test2)"
   ]
  },
  {
   "cell_type": "code",
   "execution_count": 1048,
   "metadata": {},
   "outputs": [
    {
     "data": {
      "text/plain": [
       "0.6322067594433399"
      ]
     },
     "execution_count": 1048,
     "metadata": {},
     "output_type": "execute_result"
    }
   ],
   "source": [
    "lr.score(X2, y2)"
   ]
  },
  {
   "cell_type": "code",
   "execution_count": 1049,
   "metadata": {},
   "outputs": [
    {
     "data": {
      "text/plain": [
       "array([[106, 121],\n",
       "       [ 64, 162]], dtype=int64)"
      ]
     },
     "execution_count": 1049,
     "metadata": {},
     "output_type": "execute_result"
    }
   ],
   "source": [
    "confusion_matrix(y_test2, y_pred4)"
   ]
  },
  {
   "cell_type": "markdown",
   "metadata": {},
   "source": [
    "#### Lets build a Random Forest Classifier"
   ]
  },
  {
   "cell_type": "code",
   "execution_count": 1050,
   "metadata": {},
   "outputs": [],
   "source": [
    "from sklearn.ensemble import RandomForestClassifier\n",
    "from sklearn.model_selection import GridSearchCV\n",
    "from sklearn.datasets import make_classification"
   ]
  },
  {
   "cell_type": "code",
   "execution_count": 1051,
   "metadata": {},
   "outputs": [],
   "source": [
    "rfc = RandomForestClassifier()"
   ]
  },
  {
   "cell_type": "code",
   "execution_count": 1052,
   "metadata": {},
   "outputs": [],
   "source": [
    "param_grid = { \n",
    "    'n_estimators': [200,500,700],\n",
    "    'max_features': ['auto', 'sqrt', 'log2']\n",
    "}"
   ]
  },
  {
   "cell_type": "code",
   "execution_count": 1053,
   "metadata": {},
   "outputs": [
    {
     "name": "stdout",
     "output_type": "stream",
     "text": [
      "{'max_features': 'sqrt', 'n_estimators': 200}\n"
     ]
    }
   ],
   "source": [
    "cv_rfc = GridSearchCV(estimator = rfc, param_grid = param_grid, cv = 5)\n",
    "cv_rfc.fit(X2, y2)\n",
    "print(cv_rfc.best_params_)"
   ]
  },
  {
   "cell_type": "code",
   "execution_count": 1054,
   "metadata": {},
   "outputs": [],
   "source": [
    "rfc = RandomForestClassifier(n_jobs = -1, max_features = 'auto', n_estimators = 500, oob_score = True)\n",
    "\n",
    "#Train the model using the training sets y_pred=clf.predict(X_test)\n",
    "rfc.fit(X_train2, y_train2)\n",
    "\n",
    "y_pred5 = rfc.predict(X_test2)"
   ]
  },
  {
   "cell_type": "code",
   "execution_count": 1055,
   "metadata": {},
   "outputs": [
    {
     "name": "stdout",
     "output_type": "stream",
     "text": [
      "Accuracy: 0.6313465783664459\n"
     ]
    }
   ],
   "source": [
    "print(\"Accuracy:\",metrics.accuracy_score(y_test2, y_pred5))"
   ]
  },
  {
   "cell_type": "code",
   "execution_count": 1056,
   "metadata": {},
   "outputs": [
    {
     "data": {
      "text/plain": [
       "array([[125, 102],\n",
       "       [ 65, 161]], dtype=int64)"
      ]
     },
     "execution_count": 1056,
     "metadata": {},
     "output_type": "execute_result"
    }
   ],
   "source": [
    "confusion_matrix(y_test2, y_pred5)"
   ]
  },
  {
   "cell_type": "markdown",
   "metadata": {},
   "source": [
    "#### How about a Decision Tree Classifier?"
   ]
  },
  {
   "cell_type": "code",
   "execution_count": 1057,
   "metadata": {},
   "outputs": [],
   "source": [
    "from sklearn.tree import DecisionTreeClassifier # Import Decision Tree Classifier\n",
    "from scipy.stats import randint\n"
   ]
  },
  {
   "cell_type": "code",
   "execution_count": 1058,
   "metadata": {},
   "outputs": [],
   "source": [
    "param_dist = {\"max_depth\": [3, 6],\n",
    "              \"max_features\": randint(1, 10),\n",
    "              \"min_samples_leaf\": randint(1, 10),\n",
    "              \"criterion\": [\"gini\", \"entropy\"]}"
   ]
  },
  {
   "cell_type": "code",
   "execution_count": 1059,
   "metadata": {},
   "outputs": [
    {
     "name": "stdout",
     "output_type": "stream",
     "text": [
      "Accuracy: 0.6004415011037527\n"
     ]
    }
   ],
   "source": [
    "tree = DecisionTreeClassifier()\n",
    "dtc = RandomizedSearchCV(tree, param_dist, cv=5)\n",
    "\n",
    "dtc.fit(X_train2, y_train2)\n",
    "\n",
    "y_pred6 = dtc.predict(X_test2)\n",
    "print(\"Accuracy:\",metrics.accuracy_score(y_test2, y_pred6))"
   ]
  },
  {
   "cell_type": "code",
   "execution_count": 1060,
   "metadata": {},
   "outputs": [
    {
     "data": {
      "text/plain": [
       "array([[129,  98],\n",
       "       [ 83, 143]], dtype=int64)"
      ]
     },
     "execution_count": 1060,
     "metadata": {},
     "output_type": "execute_result"
    }
   ],
   "source": [
    "confusion_matrix(y_test2, y_pred6)"
   ]
  },
  {
   "cell_type": "code",
   "execution_count": 1061,
   "metadata": {},
   "outputs": [
    {
     "name": "stdout",
     "output_type": "stream",
     "text": [
      "Tuned Decision Tree Parameters: {'criterion': 'entropy', 'max_depth': 6, 'max_features': 7, 'min_samples_leaf': 4}\n",
      "Best score is 0.6410984848484849\n"
     ]
    }
   ],
   "source": [
    "# Print the tuned parameters and score\n",
    "print(\"Tuned Decision Tree Parameters: {}\".format(dtc.best_params_))\n",
    "print(\"Best score is {}\".format(dtc.best_score_))"
   ]
  },
  {
   "cell_type": "code",
   "execution_count": 1062,
   "metadata": {},
   "outputs": [
    {
     "name": "stdout",
     "output_type": "stream",
     "text": [
      "Accuracy: 0.6291390728476821\n"
     ]
    }
   ],
   "source": [
    "dtc = DecisionTreeClassifier(max_depth = 3, max_features = 9, min_samples_leaf = 1, criterion = 'gini')\n",
    "dtc.fit(X_train2, y_train2)\n",
    "y_pred7 = dtc.predict(X_test2)\n",
    "print(\"Accuracy:\",metrics.accuracy_score(y_test2, y_pred7))"
   ]
  },
  {
   "cell_type": "code",
   "execution_count": 1063,
   "metadata": {},
   "outputs": [
    {
     "data": {
      "text/plain": [
       "array([[139,  88],\n",
       "       [ 80, 146]], dtype=int64)"
      ]
     },
     "execution_count": 1063,
     "metadata": {},
     "output_type": "execute_result"
    }
   ],
   "source": [
    "confusion_matrix(y_test2, y_pred7)"
   ]
  },
  {
   "cell_type": "markdown",
   "metadata": {},
   "source": [
    "### Lets compare the best models!"
   ]
  },
  {
   "cell_type": "code",
   "execution_count": 1064,
   "metadata": {},
   "outputs": [],
   "source": [
    "# Our AdaBoost Models are the best\n",
    "\n",
    "# abc1\n",
    "# y_pred2_abc1\n",
    "# abc2\n",
    "# y_pred2_abc"
   ]
  },
  {
   "cell_type": "code",
   "execution_count": 1065,
   "metadata": {},
   "outputs": [],
   "source": [
    "from sklearn.metrics import confusion_matrix"
   ]
  },
  {
   "cell_type": "markdown",
   "metadata": {},
   "source": [
    "#### Lets take a deeper look at our best models. First, from the predictions of whether a user would give a rating greater than 3."
   ]
  },
  {
   "cell_type": "code",
   "execution_count": 1066,
   "metadata": {},
   "outputs": [
    {
     "data": {
      "text/plain": [
       "array([[ 61,  87],\n",
       "       [ 37, 268]], dtype=int64)"
      ]
     },
     "execution_count": 1066,
     "metadata": {},
     "output_type": "execute_result"
    }
   ],
   "source": [
    "# knn3 confusion matrix\n",
    "confusion_matrix(y_test1, y_pred2_abc1)"
   ]
  },
  {
   "cell_type": "code",
   "execution_count": 1067,
   "metadata": {},
   "outputs": [
    {
     "name": "stdout",
     "output_type": "stream",
     "text": [
      "[[ 61  87]\n",
      " [ 37 268]]\n"
     ]
    }
   ],
   "source": [
    "confusion = metrics.confusion_matrix(y_test1, y_pred2_abc1)\n",
    "print(confusion)\n",
    "#[row, column]\n",
    "TP = confusion[1, 1]\n",
    "TN = confusion[0, 0]\n",
    "FP = confusion[0, 1]\n",
    "FN = confusion[1, 0]"
   ]
  },
  {
   "cell_type": "code",
   "execution_count": 1068,
   "metadata": {},
   "outputs": [
    {
     "name": "stdout",
     "output_type": "stream",
     "text": [
      "0.7262693156732892\n",
      "0.7262693156732892\n"
     ]
    }
   ],
   "source": [
    "# use float to perform true division, not integer division\n",
    "print((TP + TN) / float(TP + TN + FP + FN))\n",
    "print(metrics.accuracy_score(y_test1, y_pred2_abc1))"
   ]
  },
  {
   "cell_type": "markdown",
   "metadata": {},
   "source": [
    "#### Classification Accuracy: Overall, how often is the classifier correct?"
   ]
  },
  {
   "cell_type": "code",
   "execution_count": 1069,
   "metadata": {},
   "outputs": [
    {
     "name": "stdout",
     "output_type": "stream",
     "text": [
      "0.2737306843267108\n",
      "0.27373068432671077\n"
     ]
    }
   ],
   "source": [
    "classification_error = (FP + FN) / float(TP + TN + FP + FN)\n",
    "\n",
    "print(classification_error)\n",
    "print(1 - metrics.accuracy_score(y_test1, y_pred2_abc1))"
   ]
  },
  {
   "cell_type": "markdown",
   "metadata": {},
   "source": [
    "#### Classification Error: Overall, how often is the classifier incorrect?\n",
    "\n",
    "#### Also known as \"Misclassification Rate\""
   ]
  },
  {
   "cell_type": "code",
   "execution_count": 1070,
   "metadata": {},
   "outputs": [
    {
     "name": "stdout",
     "output_type": "stream",
     "text": [
      "0.8786885245901639\n",
      "0.8786885245901639\n"
     ]
    }
   ],
   "source": [
    "sensitivity = TP / float(FN + TP)\n",
    "\n",
    "print(sensitivity)\n",
    "print(metrics.recall_score(y_test1, y_pred2_abc1))"
   ]
  },
  {
   "cell_type": "markdown",
   "metadata": {},
   "source": [
    "### Sensitivity: When the actual value is positive, how often is the prediction correct?\n",
    "\n",
    "#### Something we want to maximize\n",
    "#### How \"sensitive\" is the classifier to detecting positive instances?\n",
    "#### Also known as \"True Positive Rate\" or \"Recall\""
   ]
  },
  {
   "cell_type": "code",
   "execution_count": 1071,
   "metadata": {},
   "outputs": [
    {
     "name": "stdout",
     "output_type": "stream",
     "text": [
      "0.41216216216216217\n"
     ]
    }
   ],
   "source": [
    "specificity = TN / (TN + FP)\n",
    "\n",
    "print(specificity)"
   ]
  },
  {
   "cell_type": "markdown",
   "metadata": {},
   "source": [
    "### Specificity: When the actual value is negative, how often is the prediction correct?\n",
    "\n",
    "#### Something we want to maximize\n",
    "#### How \"specific\" (or \"selective\") is the classifier in predicting positive instances?"
   ]
  },
  {
   "cell_type": "code",
   "execution_count": 1072,
   "metadata": {},
   "outputs": [],
   "source": [
    "y_pred_prob = abc1.predict_proba(X_test1)[:, 1]"
   ]
  },
  {
   "cell_type": "code",
   "execution_count": 1073,
   "metadata": {},
   "outputs": [
    {
     "name": "stdout",
     "output_type": "stream",
     "text": [
      "0.7583074878156845\n"
     ]
    }
   ],
   "source": [
    "# IMPORTANT: first argument is true values, second argument is predicted probabilities\n",
    "print(metrics.roc_auc_score(y_test1, y_pred_prob))"
   ]
  },
  {
   "cell_type": "markdown",
   "metadata": {},
   "source": [
    "## Our classifier\n",
    "\n",
    "##### Highly sensitive\n",
    "##### Not specific"
   ]
  },
  {
   "cell_type": "code",
   "execution_count": 1074,
   "metadata": {},
   "outputs": [
    {
     "data": {
      "text/plain": [
       "0.7759473187692751"
      ]
     },
     "execution_count": 1074,
     "metadata": {},
     "output_type": "execute_result"
    }
   ],
   "source": [
    "# calculate cross-validated AUC\n",
    "from sklearn.model_selection import cross_val_score\n",
    "cross_val_score(abc1, X1, y1, cv=5, scoring = 'roc_auc').mean()"
   ]
  },
  {
   "cell_type": "code",
   "execution_count": 1075,
   "metadata": {},
   "outputs": [
    {
     "data": {
      "text/plain": [
       "Text(0, 0.5, 'Frequency')"
      ]
     },
     "execution_count": 1075,
     "metadata": {},
     "output_type": "execute_result"
    },
    {
     "data": {
      "image/png": "[encoded data removed]",
      "text/plain": [
       "<Figure size 432x288 with 1 Axes>"
      ]
     },
     "metadata": {
      "needs_background": "light"
     },
     "output_type": "display_data"
    }
   ],
   "source": [
    "# allow plots to appear in the notebook\n",
    "%matplotlib inline\n",
    "import matplotlib.pyplot as plt\n",
    "\n",
    "# adjust the font size \n",
    "plt.rcParams['font.size'] = 12\n",
    "# histogram of predicted probabilities\n",
    "\n",
    "# 8 bins\n",
    "plt.hist(y_pred2_abc1, bins=8)\n",
    "\n",
    "# x-axis limit from 0 to 1\n",
    "plt.xlim(0, 1)\n",
    "plt.title('Histogram of Predicted Probabilities')\n",
    "plt.xlabel('Predicted Probability User Rating Over 3')\n",
    "plt.ylabel('Frequency')"
   ]
  },
  {
   "cell_type": "markdown",
   "metadata": {},
   "source": [
    "#### Now lets take a closer look at the best model that predicts if a user would give a rating above the business' average stars."
   ]
  },
  {
   "cell_type": "code",
   "execution_count": 1076,
   "metadata": {},
   "outputs": [],
   "source": [
    "from sklearn.metrics import confusion_matrix"
   ]
  },
  {
   "cell_type": "code",
   "execution_count": 1077,
   "metadata": {},
   "outputs": [
    {
     "data": {
      "text/plain": [
       "array([[136,  91],\n",
       "       [ 61, 165]], dtype=int64)"
      ]
     },
     "execution_count": 1077,
     "metadata": {},
     "output_type": "execute_result"
    }
   ],
   "source": [
    "# knn3 confusion matrix\n",
    "confusion_matrix(y_test2, y_pred2_abc2)"
   ]
  },
  {
   "cell_type": "code",
   "execution_count": 1078,
   "metadata": {},
   "outputs": [
    {
     "name": "stdout",
     "output_type": "stream",
     "text": [
      "[[136  91]\n",
      " [ 61 165]]\n"
     ]
    }
   ],
   "source": [
    "confusion = metrics.confusion_matrix(y_test2, y_pred2_abc2)\n",
    "print(confusion)\n",
    "#[row, column]\n",
    "TP = confusion[1, 1]\n",
    "TN = confusion[0, 0]\n",
    "FP = confusion[0, 1]\n",
    "FN = confusion[1, 0]"
   ]
  },
  {
   "cell_type": "code",
   "execution_count": 1079,
   "metadata": {},
   "outputs": [
    {
     "name": "stdout",
     "output_type": "stream",
     "text": [
      "0.6644591611479028\n",
      "0.6644591611479028\n"
     ]
    }
   ],
   "source": [
    "# use float to perform true division, not integer division\n",
    "print((TP + TN) / float(TP + TN + FP + FN))\n",
    "print(metrics.accuracy_score(y_test2, y_pred2_abc2))"
   ]
  },
  {
   "cell_type": "markdown",
   "metadata": {},
   "source": [
    "#### Classification Accuracy: Overall, how often is the classifier correct?"
   ]
  },
  {
   "cell_type": "code",
   "execution_count": 1080,
   "metadata": {},
   "outputs": [
    {
     "name": "stdout",
     "output_type": "stream",
     "text": [
      "0.3355408388520971\n",
      "0.3355408388520972\n"
     ]
    }
   ],
   "source": [
    "classification_error = (FP + FN) / float(TP + TN + FP + FN)\n",
    "\n",
    "print(classification_error)\n",
    "print(1 - metrics.accuracy_score(y_test2, y_pred2_abc2))"
   ]
  },
  {
   "cell_type": "markdown",
   "metadata": {},
   "source": [
    "#### Classification Error: Overall, how often is the classifier incorrect?\n",
    "\n",
    "#### Also known as \"Misclassification Rate\""
   ]
  },
  {
   "cell_type": "code",
   "execution_count": 1081,
   "metadata": {},
   "outputs": [
    {
     "name": "stdout",
     "output_type": "stream",
     "text": [
      "0.7300884955752213\n",
      "0.7300884955752213\n"
     ]
    }
   ],
   "source": [
    "sensitivity = TP / float(FN + TP)\n",
    "\n",
    "print(sensitivity)\n",
    "print(metrics.recall_score(y_test2, y_pred2_abc2))"
   ]
  },
  {
   "cell_type": "markdown",
   "metadata": {},
   "source": [
    "### Sensitivity: When the actual value is positive, how often is the prediction correct?\n",
    "\n",
    "#### Something we want to maximize\n",
    "#### How \"sensitive\" is the classifier to detecting positive instances?\n",
    "#### Also known as \"True Positive Rate\" or \"Recall\""
   ]
  },
  {
   "cell_type": "code",
   "execution_count": 1082,
   "metadata": {},
   "outputs": [
    {
     "name": "stdout",
     "output_type": "stream",
     "text": [
      "0.5991189427312775\n"
     ]
    }
   ],
   "source": [
    "specificity = TN / (TN + FP)\n",
    "\n",
    "print(specificity)"
   ]
  },
  {
   "cell_type": "markdown",
   "metadata": {},
   "source": [
    "### Specificity: When the actual value is negative, how often is the prediction correct?\n",
    "\n",
    "#### Something we want to maximize\n",
    "#### How \"specific\" (or \"selective\") is the classifier in predicting positive instances?"
   ]
  },
  {
   "cell_type": "code",
   "execution_count": 1083,
   "metadata": {},
   "outputs": [],
   "source": [
    "y_pred_prob = abc1.predict_proba(X_test2)[:, 1]"
   ]
  },
  {
   "cell_type": "code",
   "execution_count": 1084,
   "metadata": {},
   "outputs": [
    {
     "name": "stdout",
     "output_type": "stream",
     "text": [
      "0.6482398347043\n"
     ]
    }
   ],
   "source": [
    "# IMPORTANT: first argument is true values, second argument is predicted probabilities\n",
    "print(metrics.roc_auc_score(y_test2, y_pred_prob))"
   ]
  },
  {
   "cell_type": "markdown",
   "metadata": {},
   "source": [
    "## Our classifier\n",
    "\n",
    "##### Fairly sensitive\n",
    "##### Somewhat specific"
   ]
  },
  {
   "cell_type": "code",
   "execution_count": 1085,
   "metadata": {},
   "outputs": [
    {
     "data": {
      "text/plain": [
       "0.6975949115020523"
      ]
     },
     "execution_count": 1085,
     "metadata": {},
     "output_type": "execute_result"
    }
   ],
   "source": [
    "# calculate cross-validated AUC\n",
    "from sklearn.model_selection import cross_val_score\n",
    "cross_val_score(abc2, X2, y2, cv=5, scoring = 'roc_auc').mean()"
   ]
  },
  {
   "cell_type": "code",
   "execution_count": 1086,
   "metadata": {},
   "outputs": [
    {
     "data": {
      "text/plain": [
       "Text(0, 0.5, 'Frequency')"
      ]
     },
     "execution_count": 1086,
     "metadata": {},
     "output_type": "execute_result"
    },
    {
     "data": {
      "image/png": "[encoded data removed]",
      "text/plain": [
       "<Figure size 432x288 with 1 Axes>"
      ]
     },
     "metadata": {
      "needs_background": "light"
     },
     "output_type": "display_data"
    }
   ],
   "source": [
    "# allow plots to appear in the notebook\n",
    "%matplotlib inline\n",
    "import matplotlib.pyplot as plt\n",
    "\n",
    "# adjust the font size \n",
    "plt.rcParams['font.size'] = 12\n",
    "# histogram of predicted probabilities\n",
    "\n",
    "# 8 bins\n",
    "plt.hist(y_pred2_abc2, bins=8)\n",
    "\n",
    "# x-axis limit from 0 to 1\n",
    "plt.xlim(0, 1)\n",
    "plt.title('Histogram of Predicted Probabilities')\n",
    "plt.xlabel('Predicted Probability User Rating Over Bus Avg')\n",
    "plt.ylabel('Frequency')"
   ]
  },
  {
   "cell_type": "markdown",
   "metadata": {},
   "source": [
    "### Conclusion:\n",
    "\n",
    "#### The initial goal of this project was to predict what a user would rate a restaurant that they hadn't previously been to. Given the sparsity of the data and the difficulty\n",
    "#### working with the massive files to begin with, this project took a different route. We had to pose a different question. I aimed to work with only data\n",
    "#### that involved the state of Arizona, where I currently reside. \n",
    "\n",
    "\n",
    "#### The new direction was still related to the original goal. I aimed to use business attributes and user data to predict whether a user would like a particular\n",
    "#### restaurant (greater than 3 stars) and if they would rate a restaurant higher than the business' average rating.\n",
    "\n",
    "\n",
    "#### This was setup as a classification problem. I built a variety of models using the most correlated attributes to the target variable. From here, there were multiple models\n",
    "#### built and tested to identify which provided the best results.\n",
    "\n",
    "\n",
    "#### In both cases, the best model was the AdaBoost Classifier. While answering the first goal, whether a user would give a rating over 3,\n",
    "#### the model had an accuracy score of ~76%. The second goal, whether a user would give a rating greater than the business' average, \n",
    "#### the AdaBoost Classifier had an accuracy score of ~67%.\n",
    "\n",
    "\n",
    "#### Looking at the results of the first AdaBoost model, I wasn't pleased with seeing such a high sensitivity and relatively low specificity. The second model wasn't\n",
    "#### as sensitive but also had a slightly higher sensitivity.\n",
    "\n",
    "\n",
    "### Follow Up:\n",
    "#### If given more time and more computational power, I would move take all of the data provided and utilize Spark or Hadoop in conjunction with AWS to provide a more \n",
    "#### in depth analysis and likely yield a better prediction model."
   ]
  }
 ],
 "metadata": {
  "kernelspec": {
   "display_name": "Python 3",
   "language": "python",
   "name": "python3"
  },
  "language_info": {
   "codemirror_mode": {
    "name": "ipython",
    "version": 3
   },
   "file_extension": ".py",
   "mimetype": "text/x-python",
   "name": "python",
   "nbconvert_exporter": "python",
   "pygments_lexer": "ipython3",
   "version": "3.7.1"
  }
 },
 "nbformat": 4,
 "nbformat_minor": 2
}
